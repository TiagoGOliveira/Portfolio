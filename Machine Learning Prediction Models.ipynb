{
 "cells": [
  {
   "cell_type": "markdown",
   "metadata": {},
   "source": [
    "# <center><b><font color = 'green'>Modelos Preditivos para Usinas Geradoras de Energia Elétrica</font><b></center>"
   ]
  },
  {
   "cell_type": "markdown",
   "metadata": {},
   "source": [
    "##### Teste com todos os modelos e todas as usinas\n",
    "##### Data: 08/2023"
   ]
  },
  {
   "cell_type": "markdown",
   "metadata": {},
   "source": [
    "## SUMÁRIO\n",
    "* [1. Configurações Gerais](#chapter_1)\n",
    "* [2. Visualização do Histórico por Usina](#chapter_2)\n",
    "    * **[2.1. Usina 1](#chapter_2_1)**\n",
    "         * [2.1.1. LSTM](#chapter_2_1_1)\n",
    "         * [2.1.2. Holt-Winters](#chapter_2_1_2)\n",
    "         * [2.1.3. SARIMAX](#chapter_2_1_3)\n",
    "         * [2.1.4. TensorFlow](#chapter_2_1_4)\n",
    "         * [2.1.5. XGBoost](#chapter_2_1_5)\n",
    "         * [2.1.6. MLP](#chapter_2_1_6)\n",
    "         * [2.1.7. Random Forest](#chapter_2_1_7)\n",
    "         * [2.1.8. Regressão Linear](#chapter_2_1_8)\n",
    "    * **[2.2. Usina 2](#chapter_2_2)**\n",
    "         * [2.2.1. LSTM](#chapter_2_2_1)\n",
    "         * [2.2.2. Holt-Winters](#chapter_2_2_2)\n",
    "         * [2.2.3. SARIMAX](#chapter_2_2_3)\n",
    "         * [2.2.4. TensorFlow](#chapter_2_2_4)\n",
    "         * [2.2.5. XGBoost](#chapter_2_2_5)\n",
    "         * [2.2.6. MLP](#chapter_2_2_6)\n",
    "         * [2.2.7. Random Forest](#chapter_2_2_7)\n",
    "         * [2.2.8. Regressão Linear](#chapter_2_2_8) \n",
    "    * **[2.3. Usina 3](#chapter_2_3)**\n",
    "         * [2.3.1. LSTM](#chapter_2_3_1)\n",
    "         * [2.3.2. Holt-Winters](#chapter_2_3_2)\n",
    "         * [2.3.3. SARIMAX](#chapter_2_3_3)\n",
    "         * [2.3.4. TensorFlow](#chapter_2_3_4)\n",
    "         * [2.3.5. XGBoost](#chapter_2_3_5)\n",
    "         * [2.3.6. MLP](#chapter_2_3_6)\n",
    "         * [2.3.7. Random Forest](#chapter_2_3_7)\n",
    "         * [2.3.8. Regressão Linear](#chapter_2_3_8) \n",
    "    * **[2.4. Usina 4](#chapter_2_4)**\n",
    "         * [2.4.1. LSTM](#chapter_2_4_1)\n",
    "         * [2.4.2. Holt-Winters](#chapter_2_4_2)\n",
    "         * [2.4.3. SARIMAX](#chapter_2_4_3)\n",
    "         * [2.4.4. TensorFlow](#chapter_2_4_4)\n",
    "         * [2.4.5. XGBoost](#chapter_2_4_5)\n",
    "         * [2.4.6. MLP](#chapter_2_4_6)\n",
    "         * [2.4.7. Random Forest](#chapter_2_4_7)\n",
    "         * [2.4.8. Regressão Linear](#chapter_2_4_8) \n",
    "* [3. Resultados](#chapter_3)\n",
    "    * [3.1. Usina 1](#chapter_3_1)\n",
    "    * [3.2. Usina 2](#chapter_3_2)\n",
    "    * [3.3. Usina 3](#chapter_3_3)\n",
    "    * [3.4. Usina 4](#chapter_3_4)"
   ]
  },
  {
   "cell_type": "markdown",
   "metadata": {},
   "source": [
    "### <b>1. Configurações Gerais</b> <a class = \"anchor\" id = \"chapter_1\"></a>"
   ]
  },
  {
   "cell_type": "code",
   "execution_count": null,
   "metadata": {},
   "outputs": [],
   "source": [
    "import numpy as np\n",
    "import pandas as pd\n",
    "import matplotlib.pyplot as plt\n",
    "import plotly.offline as py\n",
    "import plotly.graph_objs as go\n",
    "import warnings\n",
    "\n",
    "import xgboost as xgb\n",
    "import lightgbm as lgb\n",
    "import tensorflow_probability as tfp\n",
    "\n",
    "warnings.filterwarnings(\"ignore\")"
   ]
  },
  {
   "cell_type": "code",
   "execution_count": null,
   "metadata": {},
   "outputs": [],
   "source": [
    "from plotly.subplots import make_subplots\n",
    "\n",
    "from sklearn.preprocessing import MinMaxScaler\n",
    "from sklearn.model_selection import ParameterGrid\n",
    "from sklearn.model_selection import GridSearchCV\n",
    "from sklearn.model_selection import train_test_split\n",
    "\n",
    "from sklearn import metrics\n",
    "from sklearn.metrics import r2_score, mean_squared_error, mean_absolute_error, mean_absolute_percentage_error\n",
    "\n",
    "from sklearn.linear_model import LinearRegression\n",
    "from sklearn.ensemble import RandomForestRegressor\n",
    "from sklearn.neural_network import MLPRegressor\n",
    "\n",
    "from tensorflow.keras.models import Sequential\n",
    "from tensorflow.keras.layers import LSTM, Dense\n",
    "\n",
    "from pmdarima import auto_arima\n",
    "from statsmodels.tsa.holtwinters import ExponentialSmoothing"
   ]
  },
  {
   "cell_type": "code",
   "execution_count": null,
   "metadata": {},
   "outputs": [],
   "source": [
    "# Para salvar os modelos\n",
    "\n",
    "import pickle"
   ]
  },
  {
   "cell_type": "code",
   "execution_count": null,
   "metadata": {},
   "outputs": [],
   "source": [
    "# Lendo os dados do arquivo em formato csv \n",
    "\n",
    "df = pd.read_csv('usinas_selec.csv')\n",
    "df.head()"
   ]
  },
  {
   "cell_type": "code",
   "execution_count": null,
   "metadata": {},
   "outputs": [],
   "source": [
    "# Convertendo a columa 'Competencia' para o formato datetime\n",
    "df['Competência'] = pd.to_datetime(df['Competência'], format='%d/%m/%Y')\n",
    " \n",
    "# Verificando o formato da coluna \"Competencia\"\n",
    "df.info()"
   ]
  },
  {
   "cell_type": "code",
   "execution_count": null,
   "metadata": {},
   "outputs": [],
   "source": [
    "# Excluindo coluna com indices extra\n",
    "\n",
    "df = df.drop(df.columns[0], axis=1)"
   ]
  },
  {
   "cell_type": "code",
   "execution_count": null,
   "metadata": {},
   "outputs": [],
   "source": [
    "# Colocando a 'Competencia' como índice\n",
    "\n",
    "df= df.set_index('Competência')\n",
    "df.head()"
   ]
  },
  {
   "cell_type": "markdown",
   "metadata": {},
   "source": [
    "### <b>2. Visualização do Histórico por Usina</b> <a class = \"anchor\" id = \"chapter_2\"></a>"
   ]
  },
  {
   "cell_type": "markdown",
   "metadata": {},
   "source": [
    "### <b>2.1. Usina 1</b> <a class = \"anchor\" id = \"chapter_2_1\"></a>"
   ]
  },
  {
   "cell_type": "code",
   "execution_count": null,
   "metadata": {},
   "outputs": [],
   "source": [
    "usina1 = df[df['Usina'] == '1'].groupby('Competência').agg({'Compensada':'sum', 'Acumulado':'sum', \n",
    "                                                             'Energia_Ativa':'sum'})\n",
    "\n",
    "usina1"
   ]
  },
  {
   "cell_type": "code",
   "execution_count": null,
   "metadata": {},
   "outputs": [],
   "source": [
    "# Descricao estatistica dos dados\n",
    "\n",
    "usina1.describe()"
   ]
  },
  {
   "cell_type": "code",
   "execution_count": null,
   "metadata": {},
   "outputs": [],
   "source": [
    "fig = go.Figure()\n",
    "\n",
    "# Configurando o gráfico de barras\n",
    "fig.add_trace(go.Bar(x = usina1.index,\n",
    "                     y = usina1['Compensada'],\n",
    "                     text = usina1['Compensada'],\n",
    "                     name = 'Gráfico de barras',\n",
    "                     textposition = 'inside',\n",
    "                     textfont_size = 12,\n",
    "                     marker_color = '#266B6E'))\n",
    "\n",
    "# Configurando o gráfico de linhas\n",
    "fig.add_trace(go.Scatter(x = usina1.index,\n",
    "                         y = usina1['Compensada'],\n",
    "                         name = 'Gráfico de linhas',\n",
    "                         mode = 'lines + markers',\n",
    "                         marker_color = 'red'))\n",
    "\n",
    "\n",
    "# Configurando o título do gráfico\n",
    "fig.update_layout(title_text = f'Energia Compensada - 1',\n",
    "                  title_font_size = 30,\n",
    "                  title_x = 0.5)\n",
    "\n",
    "# Configurando o título dos eixos\n",
    "fig.update_layout(yaxis_title = 'Quantidade de energia',\n",
    "                  yaxis_title_font_size = 18,\n",
    "                  xaxis_title = 'Meses',\n",
    "                  showlegend = False)\n",
    "\n",
    "# Exibindo as grades de fundo\n",
    "fig.update_xaxes(showgrid = True)\n",
    "\n",
    "# Plotando o gráfico\n",
    "fig.show()"
   ]
  },
  {
   "cell_type": "markdown",
   "metadata": {},
   "source": [
    "### <b>2.1.1. LSTM</b> <a class = \"anchor\" id = \"chapter_2_1_1\"></a>"
   ]
  },
  {
   "cell_type": "code",
   "execution_count": null,
   "metadata": {},
   "outputs": [],
   "source": [
    "# Copia do dataset principal\n",
    "\n",
    "usina1_lstm = usina1.copy(deep = True)"
   ]
  },
  {
   "cell_type": "code",
   "execution_count": null,
   "metadata": {},
   "outputs": [],
   "source": [
    "# Separando quais dados serao utilizados para rodar o modelo\n",
    "\n",
    "usina1_lstm = usina1_lstm.loc[:,['Compensada']]\n",
    "usina1_lstm"
   ]
  },
  {
   "cell_type": "code",
   "execution_count": null,
   "metadata": {},
   "outputs": [],
   "source": [
    "# Definindo a frequencia dos dados\n",
    "\n",
    "usina1_lstm = usina1_lstm.asfreq('MS')"
   ]
  },
  {
   "cell_type": "code",
   "execution_count": null,
   "metadata": {},
   "outputs": [],
   "source": [
    "# Normalizando os dados\n",
    "\n",
    "scaler_lstm = MinMaxScaler(feature_range = (0, 1))\n",
    "data_lstm1 = scaler_lstm.fit_transform(usina1_lstm)"
   ]
  },
  {
   "cell_type": "code",
   "execution_count": null,
   "metadata": {},
   "outputs": [],
   "source": [
    "# Dividindo os dados em conjuntos de treino e teste\n",
    "\n",
    "train_size_lstm1 = int(len(data_lstm1) * 0.7)               #70% para treino e 30% para teste\n",
    "training_set_lstm1, test_set_lstm1 = data_lstm1[:train_size_lstm1], data_lstm1[train_size_lstm1:]"
   ]
  },
  {
   "cell_type": "code",
   "execution_count": null,
   "metadata": {},
   "outputs": [],
   "source": [
    "# Verificando as dimensoes dos conjuntos\n",
    "\n",
    "training_set_lstm1.shape, test_set_lstm1.shape"
   ]
  },
  {
   "cell_type": "code",
   "execution_count": null,
   "metadata": {},
   "outputs": [],
   "source": [
    "# Atribuindo valor a janela deslizante\n",
    "\n",
    "lookback_window = 1"
   ]
  },
  {
   "cell_type": "code",
   "execution_count": null,
   "metadata": {},
   "outputs": [],
   "source": [
    "# Criando a funcao de janela deslizante\n",
    "\n",
    "def create_dataset(data, lookback_window):\n",
    "    X, y = [], []\n",
    "\n",
    "    for i in range(len(data) - lookback_window):\n",
    "        X.append(data[i:(i + lookback_window), :])\n",
    "        y.append(data[i + lookback_window, 0])\n",
    "\n",
    "    return np.array(X), np.array(y)"
   ]
  },
  {
   "cell_type": "code",
   "execution_count": null,
   "metadata": {},
   "outputs": [],
   "source": [
    "# Ajustando os conjuntos de treino e teste\n",
    "\n",
    "X_train_lstm1, y_train_lstm1 = create_dataset(training_set_lstm1, lookback_window)\n",
    "X_test_lstm1, y_test_lstm1 = create_dataset(test_set_lstm1, lookback_window)"
   ]
  },
  {
   "cell_type": "code",
   "execution_count": null,
   "metadata": {},
   "outputs": [],
   "source": [
    "# Verificando as dimensoes dos conjuntos\n",
    "\n",
    "X_test_lstm1.shape, y_test_lstm1.shape"
   ]
  },
  {
   "cell_type": "code",
   "execution_count": null,
   "metadata": {},
   "outputs": [],
   "source": [
    "# Ajustando parametros do modelo LSTM\n",
    "\n",
    "best_model_lstm = Sequential()\n",
    "best_model_lstm.add(LSTM(4, input_shape = (lookback_window, 1)))\n",
    "best_model_lstm.add(Dense(1))\n",
    "best_model_lstm.compile(loss = 'mean_squared_error', optimizer = 'adam', run_eagerly=True)\n",
    "\n",
    "history_lstm1 = best_model_lstm.fit(X_train_lstm1,\n",
    "                                   y_train_lstm1,\n",
    "                                   epochs = 100,\n",
    "                                   batch_size = 1,\n",
    "                                   validation_split = 0.2,\n",
    "                                   verbose = 2)"
   ]
  },
  {
   "cell_type": "code",
   "execution_count": null,
   "metadata": {},
   "outputs": [],
   "source": [
    "# Rodando modelo para conjunto de teste\n",
    "\n",
    "y_pred_lstm1 = best_model_lstm.predict(X_test_lstm1)\n",
    "\n",
    "y_pred_lstm1 = scaler_lstm.inverse_transform(y_pred_lstm1)\n",
    "y_test_lstm1 = scaler_lstm.inverse_transform(y_test_lstm1.reshape(-1, 1))"
   ]
  },
  {
   "cell_type": "code",
   "execution_count": null,
   "metadata": {},
   "outputs": [],
   "source": [
    "# Criando dataframe com as predicoes\n",
    "\n",
    "timestamp1 = pd.DataFrame(usina1_lstm.index[-len(X_test_lstm1):])\n",
    "\n",
    "y_test_df_lstm1 = pd.concat([timestamp1, pd.DataFrame(y_test_lstm1)], axis = 1).rename(columns = {0: 'Compensada'}).dropna()\n",
    "y_pred_df_lstm1 = pd.concat([timestamp1, pd.DataFrame(y_pred_lstm1)], axis = 1).rename(columns = {0: 'Compensada_predito'}).dropna()\n",
    "\n",
    "\n",
    "# Ajuste nas datas para corresponderem às datas reais dos registros de teste\n",
    "\n",
    "y_test_df_lstm1.index = usina1_lstm.index[-len(X_test_lstm1):]\n",
    "y_pred_df_lstm1.index = usina1_lstm.index[-len(X_test_lstm1):]"
   ]
  },
  {
   "cell_type": "code",
   "execution_count": null,
   "metadata": {},
   "outputs": [],
   "source": [
    "fig1 = go.Figure()\n",
    "\n",
    "# Configurando o gráfico de linhas\n",
    "fig1.add_trace(go.Scatter(x = y_test_df_lstm1['Competência'], y = y_test_df_lstm1['Compensada'], mode = 'lines + markers', name = 'Compensada', marker_color = '#266B6E'))\n",
    "fig1.add_trace(go.Scatter(x = y_pred_df_lstm1['Competência'], y = y_pred_df_lstm1['Compensada_predito'], mode = 'lines + markers', name = 'Predição LSTM', marker_color = '#FF007D'))\n",
    "\n",
    "# Configurando o título do gráfico\n",
    "fig1.update_layout(title_text = f'Energia Compensada - 1',\n",
    "                  title_font_size = 30,\n",
    "                  title_x = 0.5)\n",
    "\n",
    "# Configurando o título dos eixos\n",
    "fig1.update_layout(xaxis_title_font_size = 18,\n",
    "                  yaxis_title = 'Quantidade de Energia',\n",
    "                  yaxis_title_font_size = 18,\n",
    "                  showlegend = True,\n",
    "                  legend_title = 'Legenda')\n",
    "\n",
    "# Exibindo as grades de fundo\n",
    "fig1.update_xaxes(showgrid = True)\n",
    "\n",
    "# Plotando o gráfico\n",
    "fig1.show()"
   ]
  },
  {
   "cell_type": "code",
   "execution_count": null,
   "metadata": {},
   "outputs": [],
   "source": [
    "# Obtendo metricas de avaliacao\n",
    "\n",
    "erros_lstm1 = pd.DataFrame({'Métricas avaliadas': ['MAE', 'MAPE', 'WMAPE', 'MSE', 'RMSE'],\n",
    "                                'Valores obtidos': [round(mean_absolute_error(y_test_lstm1, y_pred_lstm1), 2),\n",
    "                                                    round(mean_absolute_percentage_error(y_test_lstm1, y_pred_lstm1) * 100, 2),\n",
    "                                                    round(mean_absolute_percentage_error(y_test_lstm1, y_pred_lstm1, sample_weight = y_test_lstm1) * 100, 2),\n",
    "                                                    round(mean_squared_error(y_test_lstm1, y_pred_lstm1, squared = True), 2),\n",
    "                                                    round(mean_squared_error(y_test_lstm1, y_pred_lstm1, squared = False), 2)]},\n",
    "                            index = range(0, 5))\n",
    "\n",
    "\n",
    "erros_lstm1"
   ]
  },
  {
   "cell_type": "markdown",
   "metadata": {},
   "source": [
    "### <b>2.1.2. Holt-Winters</b> <a class = \"anchor\" id = \"chapter_2_1_2\"></a>"
   ]
  },
  {
   "cell_type": "code",
   "execution_count": null,
   "metadata": {},
   "outputs": [],
   "source": [
    "# Copia do dataset principal\n",
    "\n",
    "usina1_holtw = usina1.copy(deep = True)"
   ]
  },
  {
   "cell_type": "code",
   "execution_count": null,
   "metadata": {},
   "outputs": [],
   "source": [
    "# Separando quais dados serao utilizados para rodar o modelo\n",
    "\n",
    "usina1_holtw = usina1_holtw.loc[:,['Compensada']]"
   ]
  },
  {
   "cell_type": "code",
   "execution_count": null,
   "metadata": {},
   "outputs": [],
   "source": [
    "# Definindo a frequência dos dados\n",
    "\n",
    "usina1_holtw = usina1_holtw.asfreq('MS')"
   ]
  },
  {
   "cell_type": "code",
   "execution_count": null,
   "metadata": {},
   "outputs": [],
   "source": [
    "# Dividindo dados em conjunto de treino (70%)\n",
    "\n",
    "training_set_holtwinters1 = usina1_holtw.iloc[:-4, :]\n",
    "training_set_holtwinters1"
   ]
  },
  {
   "cell_type": "code",
   "execution_count": null,
   "metadata": {},
   "outputs": [],
   "source": [
    "# Dividindo dados em conjunto de teste (30%)\n",
    "\n",
    "test_set_holtwinters1 = usina1_holtw.iloc[-4:, :]\n",
    "test_set_holtwinters1"
   ]
  },
  {
   "cell_type": "code",
   "execution_count": null,
   "metadata": {},
   "outputs": [],
   "source": [
    "# Aplicando o modelo\n",
    "\n",
    "model_holtwinters1 = ExponentialSmoothing(endog = training_set_holtwinters1['Compensada'],     \n",
    "                                         trend = 'add',                             \n",
    "                                         seasonal = 'add',\n",
    "                                         seasonal_periods = 4).fit()               "
   ]
  },
  {
   "cell_type": "code",
   "execution_count": null,
   "metadata": {},
   "outputs": [],
   "source": [
    "predictions_holtwinters1 = pd.Series(model_holtwinters1.forecast(steps = len(test_set_holtwinters1))).rename('HW')\n",
    "predictions_holtwinters1.index = test_set_holtwinters1.index"
   ]
  },
  {
   "cell_type": "code",
   "execution_count": null,
   "metadata": {},
   "outputs": [],
   "source": [
    "fig2 = go.Figure()\n",
    "\n",
    "# Configurando o gráfico de linhas\n",
    "fig2.add_trace(go.Scatter(x = test_set_holtwinters1.index, y = test_set_holtwinters1['Compensada'], mode = 'lines + markers', name = 'Compensada', marker_color = '#266B6E'))\n",
    "fig2.add_trace(go.Scatter(x = predictions_holtwinters1.index, y = predictions_holtwinters1, mode = 'lines + markers', name = 'Predição Holt-Winters', marker_color = '#FF007D'))\n",
    "\n",
    "# Configurando o título do gráfico\n",
    "fig2.update_layout(title_text = f'Energia Compensada - 1',\n",
    "                  title_font_size = 30,\n",
    "                  title_x = 0.5)\n",
    "\n",
    "# Configurando o título dos eixos\n",
    "fig2.update_layout(xaxis_title_font_size = 18,\n",
    "                  yaxis_title = 'Quantidade de Energia',\n",
    "                  yaxis_title_font_size = 18,\n",
    "                  showlegend = True,\n",
    "                  legend_title = 'Legenda')\n",
    "\n",
    "# Exibindo as grades de fundo\n",
    "fig2.update_xaxes(showgrid = True)\n",
    "\n",
    "# Plotando o gráfico\n",
    "fig2.show()"
   ]
  },
  {
   "cell_type": "code",
   "execution_count": null,
   "metadata": {},
   "outputs": [],
   "source": [
    "# Obtendo metricas de avaliacao\n",
    "\n",
    "erros_hw1 = pd.DataFrame({'Métricas avaliadas': ['MAE', 'MAPE', 'WMAPE', 'MSE', 'RMSE'],\n",
    "                        'Valores obtidos': [round(mean_absolute_error(test_set_holtwinters1['Compensada'], predictions_holtwinters1), 2),\n",
    "                                            round(mean_absolute_percentage_error(test_set_holtwinters1['Compensada'], predictions_holtwinters1) * 100, 2),\n",
    "                                            round(mean_absolute_percentage_error(test_set_holtwinters1['Compensada'], predictions_holtwinters1, sample_weight = test_set_holtwinters1['Compensada']) * 100, 2),\n",
    "                                            round(mean_squared_error(test_set_holtwinters1['Compensada'], predictions_holtwinters1, squared = True), 2),\n",
    "                                            round(mean_squared_error(test_set_holtwinters1['Compensada'], predictions_holtwinters1, squared = False), 2)]},\n",
    "                        index = range(0, 5))\n",
    "\n",
    "erros_hw1"
   ]
  },
  {
   "cell_type": "markdown",
   "metadata": {},
   "source": [
    "### <b>2.1.3. SARIMAX</b> <a class = \"anchor\" id = \"chapter_2_1_3\"></a>"
   ]
  },
  {
   "cell_type": "code",
   "execution_count": null,
   "metadata": {},
   "outputs": [],
   "source": [
    "# Copia do dataset principal\n",
    "\n",
    "usina1_sarimax = usina1.copy(deep = True)"
   ]
  },
  {
   "cell_type": "code",
   "execution_count": null,
   "metadata": {},
   "outputs": [],
   "source": [
    "# Definindo a frequencia dos dados\n",
    "\n",
    "usina1_sarimax = usina1_sarimax.asfreq('MS')"
   ]
  },
  {
   "cell_type": "code",
   "execution_count": null,
   "metadata": {},
   "outputs": [],
   "source": [
    "# Definindo o conjunto de treino (70%)\n",
    "\n",
    "training_set_sarimax1 = usina1_sarimax.iloc[:-4, :]\n",
    "training_set_sarimax1"
   ]
  },
  {
   "cell_type": "code",
   "execution_count": null,
   "metadata": {},
   "outputs": [],
   "source": [
    "# Definindo o conjunto de teste (30%)\n",
    "\n",
    "test_set_sarimax1 = usina1_sarimax.iloc[-4:, :]\n",
    "test_set_sarimax1"
   ]
  },
  {
   "cell_type": "code",
   "execution_count": null,
   "metadata": {},
   "outputs": [],
   "source": [
    "# Definindo as variaveis exogenas do conjunto de treino\n",
    "\n",
    "train_exog_sarimax1 = training_set_sarimax1.iloc[:, 1:]\n",
    "train_exog_sarimax1"
   ]
  },
  {
   "cell_type": "code",
   "execution_count": null,
   "metadata": {},
   "outputs": [],
   "source": [
    "# Definindo as variaveis exogenas do conjunto de teste\n",
    "\n",
    "test_exog_sarimax1 = test_set_sarimax1.iloc[:, 1:]\n",
    "test_exog_sarimax1"
   ]
  },
  {
   "cell_type": "code",
   "execution_count": null,
   "metadata": {},
   "outputs": [],
   "source": [
    "# Aplicando o modelo\n",
    "\n",
    "model_sarimax1 = auto_arima(y = training_set_sarimax1['Compensada'],\n",
    "                           X = train_exog_sarimax1,\n",
    "                           m = 1,                   # Período anual: 12 meses (ajustar de acordo com a frequência escolhida anteriormente)\n",
    "                           seasonal = True,\n",
    "                           stepwise = False)"
   ]
  },
  {
   "cell_type": "code",
   "execution_count": null,
   "metadata": {},
   "outputs": [],
   "source": [
    "model_sarimax1.summary()"
   ]
  },
  {
   "cell_type": "code",
   "execution_count": null,
   "metadata": {},
   "outputs": [],
   "source": [
    "predictions_sarimax1 = pd.Series(model_sarimax1.predict(n_periods = 4, X = test_exog_sarimax1)).rename('SARIMAX')\n",
    "predictions_sarimax1.index = test_set_sarimax1.index"
   ]
  },
  {
   "cell_type": "code",
   "execution_count": null,
   "metadata": {},
   "outputs": [],
   "source": [
    "fig3 = go.Figure()\n",
    "\n",
    "# Configurando o gráfico de linhas\n",
    "fig3.add_trace(go.Scatter(x = test_set_sarimax1.index, y = test_set_sarimax1['Compensada'], mode = 'lines + markers', name = 'Compensada', marker_color = '#266B6E'))\n",
    "fig3.add_trace(go.Scatter(x = predictions_sarimax1.index, y = predictions_sarimax1, mode = 'lines + markers', name = 'Predição Sarimax', marker_color = '#FF007D'))\n",
    "\n",
    "\n",
    "# Configurando o título do gráfico\n",
    "fig3.update_layout(title_text = f'Energia Compensada - 1',\n",
    "                  title_font_size = 30,\n",
    "                  title_x = 0.5)\n",
    "\n",
    "# Configurando o título dos eixos\n",
    "fig3.update_layout(xaxis_title_font_size = 18,\n",
    "                  yaxis_title = 'Quantidade de Energia',\n",
    "                  yaxis_title_font_size = 18,\n",
    "                  showlegend = True,\n",
    "                  legend_title = 'Legenda')\n",
    "\n",
    "# Exibindo as grades de fundo\n",
    "fig3.update_xaxes(showgrid = True)\n",
    "\n",
    "# Plotando o gráfico\n",
    "fig3.show()"
   ]
  },
  {
   "cell_type": "code",
   "execution_count": null,
   "metadata": {},
   "outputs": [],
   "source": [
    "# Obtendo metricas de avaliacao\n",
    "\n",
    "erros_sm1 = pd.DataFrame({'Métricas avaliadas': ['MAE', 'MAPE', 'WMAPE', 'MSE', 'RMSE'],\n",
    "                        'Valores obtidos': [round(mean_absolute_error(test_set_sarimax1['Compensada'], predictions_sarimax1), 2),\n",
    "                                            round(mean_absolute_percentage_error(test_set_sarimax1['Compensada'], predictions_sarimax1) * 100, 2),\n",
    "                                            round(mean_absolute_percentage_error(test_set_sarimax1['Compensada'], predictions_sarimax1, sample_weight = test_set_sarimax1['Compensada']) * 100, 2),\n",
    "                                            round(mean_squared_error(test_set_sarimax1['Compensada'], predictions_sarimax1, squared = True), 2),\n",
    "                                            round(mean_squared_error(test_set_sarimax1['Compensada'], predictions_sarimax1, squared = False), 2)]},\n",
    "                        index = range(0, 5))\n",
    "\n",
    "erros_sm1"
   ]
  },
  {
   "cell_type": "markdown",
   "metadata": {},
   "source": [
    "### <b>2.1.4. TensorFlow</b> <a class = \"anchor\" id = \"chapter_2_1_4\"></a>"
   ]
  },
  {
   "cell_type": "code",
   "execution_count": null,
   "metadata": {},
   "outputs": [],
   "source": [
    "# Copia do dataset principal\n",
    "\n",
    "usina1_tensorflow = usina1.copy(deep = True)"
   ]
  },
  {
   "cell_type": "code",
   "execution_count": null,
   "metadata": {},
   "outputs": [],
   "source": [
    "# Definindo a frequencia dos dados\n",
    "\n",
    "usina1_tensorflow = usina1_tensorflow.asfreq('MS')"
   ]
  },
  {
   "cell_type": "code",
   "execution_count": null,
   "metadata": {},
   "outputs": [],
   "source": [
    "# Definindo o conjunto de treino (70%)\n",
    "\n",
    "training_set_tensorflow1 = usina1_tensorflow.iloc[:-4, :]\n",
    "training_set_tensorflow1"
   ]
  },
  {
   "cell_type": "code",
   "execution_count": null,
   "metadata": {},
   "outputs": [],
   "source": [
    "# Definindo o conjunto de teste (30%)\n",
    "\n",
    "test_set_tensorflow1 = usina1_tensorflow.iloc[-4:, :]\n",
    "test_set_tensorflow1"
   ]
  },
  {
   "cell_type": "code",
   "execution_count": null,
   "metadata": {},
   "outputs": [],
   "source": [
    "# Regressores\n",
    "\n",
    "exog_tensorflow1 = np.asmatrix(usina1_tensorflow.iloc[:, 1:].astype(np.float64))\n",
    "exog_tensorflow1"
   ]
  },
  {
   "cell_type": "code",
   "execution_count": null,
   "metadata": {},
   "outputs": [],
   "source": [
    "# Aplicando o modelo\n",
    "\n",
    "regressors_tensorflow1 = tfp.sts.LinearRegression(design_matrix = exog_tensorflow1, name = 'regressors')"
   ]
  },
  {
   "cell_type": "code",
   "execution_count": null,
   "metadata": {},
   "outputs": [],
   "source": [
    "# Sazonalidade\n",
    "\n",
    "Compensada_tensorflow1 = training_set_tensorflow1['Compensada'].astype(np.float64)\n",
    "Compensada_tensorflow1"
   ]
  },
  {
   "cell_type": "code",
   "execution_count": null,
   "metadata": {},
   "outputs": [],
   "source": [
    "monthly_effect_tensorflow1 = tfp.sts.Seasonal(num_seasons = 2,\n",
    "                                             num_steps_per_season = np.array([[4]]),\n",
    "                                             observed_time_series = Compensada_tensorflow1,\n",
    "                                             name = 'month_effect')"
   ]
  },
  {
   "cell_type": "code",
   "execution_count": null,
   "metadata": {},
   "outputs": [],
   "source": [
    "# Definindo a variavel autoregressive\n",
    "\n",
    "autoregressive_tensorflow1 = tfp.sts.Autoregressive(order = 1, observed_time_series = Compensada_tensorflow1, name = 'autoregressive')"
   ]
  },
  {
   "cell_type": "code",
   "execution_count": null,
   "metadata": {},
   "outputs": [],
   "source": [
    "# Definindo a variavel trend\n",
    "\n",
    "trend_tensorflow1 = tfp.sts.LocalLinearTrend(observed_time_series = Compensada_tensorflow1, name = 'trend')"
   ]
  },
  {
   "cell_type": "code",
   "execution_count": null,
   "metadata": {},
   "outputs": [],
   "source": [
    "# Aplicando o modelo novamente\n",
    "\n",
    "model_tensorflow1 = tfp.sts.Sum([regressors_tensorflow1,\n",
    "                                monthly_effect_tensorflow1,\n",
    "                                autoregressive_tensorflow1,\n",
    "                                trend_tensorflow1],\n",
    "                                observed_time_series = Compensada_tensorflow1)"
   ]
  },
  {
   "cell_type": "code",
   "execution_count": null,
   "metadata": {},
   "outputs": [],
   "source": [
    "samples_tensorflow1, kernel_results_tensorflow1 = tfp.sts.fit_with_hmc(model = model_tensorflow1,\n",
    "                                                                     observed_time_series = Compensada_tensorflow1,\n",
    "                                                                     num_results = 100,\n",
    "                                                                     num_warmup_steps = 50,\n",
    "                                                                     num_leapfrog_steps = 15,\n",
    "                                                                     num_variational_steps = 150,\n",
    "                                                                     seed = 1502)"
   ]
  },
  {
   "cell_type": "code",
   "execution_count": null,
   "metadata": {},
   "outputs": [],
   "source": [
    "forecast_tensorflow1 = tfp.sts.forecast(model = model_tensorflow1,\n",
    "                                       observed_time_series = Compensada_tensorflow1,\n",
    "                                       parameter_samples = samples_tensorflow1,\n",
    "                                       num_steps_forecast = len(test_set_tensorflow1))"
   ]
  },
  {
   "cell_type": "code",
   "execution_count": null,
   "metadata": {},
   "outputs": [],
   "source": [
    "predictions_tensorflow1 = pd.Series(forecast_tensorflow1.mean()[:, 0], name = 'TFP')\n",
    "predictions_tensorflow1.index = test_set_tensorflow1.index"
   ]
  },
  {
   "cell_type": "code",
   "execution_count": null,
   "metadata": {},
   "outputs": [],
   "source": [
    "fig4 = go.Figure()\n",
    "\n",
    "# Configurando o grafico de linhas\n",
    "fig4.add_trace(go.Scatter(x = test_set_tensorflow1.index, y = test_set_tensorflow1['Compensada'], mode = 'lines + markers', name = 'Compensada', marker_color = '#266B6E'))\n",
    "fig4.add_trace(go.Scatter(x = predictions_tensorflow1.index, y = predictions_tensorflow1, mode = 'lines + markers', name = 'Predição Tensorflow', marker_color = '#FF007D'))\n",
    "\n",
    "# Configurando o titulo do grafico\n",
    "fig4.update_layout(title_text = f'Energia Compensada - 1',\n",
    "                  title_font_size = 30,\n",
    "                  title_x = 0.5)\n",
    "\n",
    "# Configurando o titulo dos eixos\n",
    "fig4.update_layout(xaxis_title_font_size = 18,\n",
    "                  yaxis_title = 'Quantidade de Energia',\n",
    "                  yaxis_title_font_size = 18,\n",
    "                  showlegend = True,\n",
    "                  legend_title = 'Legenda')\n",
    "\n",
    "# Exibindo as grades de fundo\n",
    "fig4.update_xaxes(showgrid = True)\n",
    "\n",
    "# Plotando o grafico\n",
    "fig4.show()"
   ]
  },
  {
   "cell_type": "code",
   "execution_count": null,
   "metadata": {},
   "outputs": [],
   "source": [
    "# Obtendo metricas de avaliacao\n",
    "\n",
    "erros_tf1 = pd.DataFrame({'Métricas avaliadas': ['MAE', 'MAPE', 'WMAPE', 'MSE', 'RMSE'],\n",
    "                                 'Valores obtidos': [round(mean_absolute_error(test_set_tensorflow1['Compensada'], predictions_tensorflow1), 2),\n",
    "                                                     round(mean_absolute_percentage_error(test_set_tensorflow1['Compensada'], predictions_tensorflow1) * 100, 2),\n",
    "                                                     round(mean_absolute_percentage_error(test_set_tensorflow1['Compensada'], predictions_tensorflow1, sample_weight = test_set_tensorflow1['Compensada']) * 100, 2),\n",
    "                                                     round(mean_squared_error(test_set_tensorflow1['Compensada'], predictions_tensorflow1, squared = True), 2),\n",
    "                                                     round(mean_squared_error(test_set_tensorflow1['Compensada'], predictions_tensorflow1, squared = False), 2)]},\n",
    "                                index = range(0, 5))\n",
    "\n",
    "erros_tf1"
   ]
  },
  {
   "cell_type": "markdown",
   "metadata": {},
   "source": [
    "### <b>Organizando os dados para os modelos seguintes</b>"
   ]
  },
  {
   "cell_type": "code",
   "execution_count": null,
   "metadata": {},
   "outputs": [],
   "source": [
    "usina1_modelos = usina1.copy(deep = True)"
   ]
  },
  {
   "cell_type": "code",
   "execution_count": null,
   "metadata": {},
   "outputs": [],
   "source": [
    "# Dividindo os dados em conjuntos de treino e teste a partir de um corte temporal\n",
    "\n",
    "df_train1 = usina1_modelos.loc[usina1_modelos.index < '2023-03-01']\n",
    "df_test1 = usina1_modelos.loc[usina1_modelos.index >= '2023-03-01']"
   ]
  },
  {
   "cell_type": "code",
   "execution_count": null,
   "metadata": {},
   "outputs": [],
   "source": [
    "# Separando os conjuntos X e Y de acordo com as colunas de dados\n",
    "\n",
    "X_train1 = df_train1[['Acumulado', 'Energia_Ativa']]\n",
    "\n",
    "y_train1 = df_train1['Compensada']\n",
    "y_train1 = np.array(y_train1).reshape(-1, 1)\n",
    "\n",
    "X_test1 = df_test1[['Acumulado', 'Energia_Ativa']]\n",
    "\n",
    "y_test1 = df_test1['Compensada']\n",
    "y_test1 = np.array(y_test1).reshape(-1, 1)"
   ]
  },
  {
   "cell_type": "markdown",
   "metadata": {},
   "source": [
    "### <b>2.1.5 XGBoost </b> <a class = \"anchor\" id = \"chapter_2_1_5\"></a>"
   ]
  },
  {
   "cell_type": "code",
   "execution_count": null,
   "metadata": {},
   "outputs": [],
   "source": [
    "# Instanciando o modelo\n",
    "modelo_xgb = xgb.XGBRegressor(random_state = 0, max_depth=2)\n",
    "\n",
    "# Ajustando o modelo\n",
    "modelo_xgb1 = modelo_xgb.fit(X_train1, y_train1)\n",
    "\n",
    "# Fazendo as predicoes\n",
    "predicao_xgb1 = modelo_xgb1.predict(X_test1)\n",
    "\n",
    "print('XGBoost')\n",
    "# r2 dos dados de treino\n",
    "print('R² do treino = {}'.format(modelo_xgb1.score(X_train1, y_train1)))\n",
    "\n",
    "# r2 dos dados de teste\n",
    "print('R² do teste = %s' % metrics.r2_score(y_test1, predicao_xgb1))\n",
    "\n",
    "# Erro medio quadratico dos dados de teste e preditos\n",
    "print('Raiz quadrada do erro médio quadrático dos resultados preditos = {}'.format(np.sqrt(mean_squared_error(y_test1, predicao_xgb1))))\n",
    "\n",
    "# Erro medio absoluto dos dados de teste e treino\n",
    "print('Erro médio absoluto dos resultados preditos = {}'.format(mean_absolute_error(y_test1, predicao_xgb1).round(2)))"
   ]
  },
  {
   "cell_type": "code",
   "execution_count": null,
   "metadata": {},
   "outputs": [],
   "source": [
    "# Verificando quais variaveis impactam mais o modelo\n",
    "\n",
    "fi1 = pd.DataFrame(data=modelo_xgb1.feature_importances_,\n",
    "             index=modelo_xgb1.feature_names_in_,\n",
    "             columns=['importância'])\n",
    "fi1.sort_values('importância').plot(kind='barh', title='Importância das Variáveis - 1')\n",
    "plt.show()"
   ]
  },
  {
   "cell_type": "code",
   "execution_count": null,
   "metadata": {},
   "outputs": [],
   "source": [
    "# Fazendo um gridsearch para encontrar os melhores parametros\n",
    "\n",
    "# Instanciando o modelo\n",
    "modelo_xgb = xgb.XGBRegressor(random_state = 0)\n",
    "\n",
    "# Definindo o espaco de busca dos hiperparametros\n",
    "param_grid = {'learning_rate': np.linspace(0.001, 0.1, num = 20), 'n_estimators': np.arange(100, 200, 10),\n",
    "               'max_depth': [2, 3, 4, 5]}\n",
    "\n",
    "# Chamando o griddsearch e faz a busca aleatoria de acordo com os hiperparametros fornecidos acima\n",
    "grid_search1 =  GridSearchCV(modelo_xgb, param_grid, scoring='neg_mean_squared_error', cv = 5)\n",
    "grid_search1.fit(X_train1, y_train1)\n",
    "\n",
    "# Acessando os melhores hiperparametros encontrados\n",
    "grid_search1.best_params_\n"
   ]
  },
  {
   "cell_type": "code",
   "execution_count": null,
   "metadata": {},
   "outputs": [],
   "source": [
    "# Rodando o modelo novamente, agora com os novos hiperparametros encontrados\n",
    "\n",
    "# Instanciando o modelo\n",
    "modelo_xgb = xgb.XGBRegressor(random_state = 0, n_estimators = 180, max_depth = 2, learning_rate = 0.079)\n",
    "\n",
    "# Ajustando o modelo\n",
    "modelo_xgb1 = modelo_xgb.fit(X_train1, y_train1)\n",
    "\n",
    "# Fazendo as predicoes\n",
    "predicao_xgb1 = modelo_xgb1.predict(X_test1)\n",
    "\n",
    "print('XGBoost')\n",
    "# r2 dos dados de treino\n",
    "print('R² do treino = {}'.format(modelo_xgb1.score(X_train1, y_train1).round(2)))\n",
    "\n",
    "# r2 dos dados de teste\n",
    "print('R² do teste = %s' % metrics.r2_score(y_test1, predicao_xgb1).round(2))\n",
    "\n",
    "# Erro quadratico medio dos dados de teste e preditos\n",
    "print('Raiz quadrada do erro quadrático médio dos resultados preditos = {}'.format(np.sqrt(mean_squared_error(y_test1, predicao_xgb1)).round(2)))\n",
    "\n",
    "# Erro medio absoluto dos dados de teste e treino\n",
    "print('Erro médio absoluto dos resultados preditos = {}'.format(mean_absolute_error(y_test1, predicao_xgb1).round(2)))"
   ]
  },
  {
   "cell_type": "code",
   "execution_count": null,
   "metadata": {},
   "outputs": [],
   "source": [
    "predictions_xgb1 = pd.DataFrame(y_test1, columns=['Compensada'])\n",
    "predictions_xgb1.index = X_test1.index\n",
    "\n",
    "predicao_xgb1 = pd.DataFrame(predicao_xgb1)\n",
    "predicao_xgb1.index = X_test1.index\n",
    "\n",
    "predictions_xgb1['Predição XGB'] = predicao_xgb1"
   ]
  },
  {
   "cell_type": "code",
   "execution_count": null,
   "metadata": {},
   "outputs": [],
   "source": [
    "fig5 = go.Figure()\n",
    "\n",
    "# Configurando o grafico de linhas\n",
    "fig5.add_trace(go.Scatter(x = predictions_xgb1.index, y = predictions_xgb1['Compensada'], mode = 'lines + markers', name = 'Compensada', marker_color = '#266B6E'))\n",
    "fig5.add_trace(go.Scatter(x = predictions_xgb1.index, y = predictions_xgb1['Predição XGB'], mode = 'lines + markers', name = 'Predição XGBoost', marker_color = '#FF007D'))\n",
    "\n",
    "# Configurando o titulo do grafico\n",
    "fig5.update_layout(title_text = f'Energia Compensada - 1',\n",
    "                  title_font_size = 30,\n",
    "                  title_x = 0.5)\n",
    "\n",
    "# Configurando o titulo dos eixos\n",
    "fig5.update_layout(xaxis_title_font_size = 18,\n",
    "                  yaxis_title = 'Quantidade de Energia',\n",
    "                  yaxis_title_font_size = 18,\n",
    "                  showlegend = True,\n",
    "                  legend_title = 'Legenda')\n",
    "\n",
    "# Exibindo as grades de fundo\n",
    "fig5.update_xaxes(showgrid = True)\n",
    "\n",
    "# Plotando o grafico\n",
    "fig5.show()"
   ]
  },
  {
   "cell_type": "code",
   "execution_count": null,
   "metadata": {},
   "outputs": [],
   "source": [
    "# Obtendo metricas de avaliacao\n",
    "\n",
    "erros_xgb1 = pd.DataFrame({'Métricas avaliadas': ['MAE', 'MAPE', 'WMAPE', 'MSE', 'RMSE'],\n",
    "                          'Valores obtidos': [round(mean_absolute_error(y_test1, predicao_xgb1), 2),\n",
    "                                              round(mean_absolute_percentage_error(y_test1, predicao_xgb1) * 100, 2),\n",
    "                                              round(mean_absolute_percentage_error(y_test1, predicao_xgb1, sample_weight = y_test1) * 100, 2),\n",
    "                                              round(mean_squared_error(y_test1, predicao_xgb1, squared = True), 2),\n",
    "                                              round(mean_squared_error(y_test1, predicao_xgb1, squared = False), 2)]},\n",
    "                        index = range(0, 5))\n",
    "\n",
    "erros_xgb1"
   ]
  },
  {
   "cell_type": "markdown",
   "metadata": {},
   "source": [
    "### <b>2.1.6 MLP </b> <a class = \"anchor\" id = \"chapter_2_1_6\"></a>"
   ]
  },
  {
   "cell_type": "code",
   "execution_count": null,
   "metadata": {},
   "outputs": [],
   "source": [
    "# Instanciando o modelo\n",
    "nnet = MLPRegressor(random_state = 0)\n",
    "\n",
    "# Ajustando o modelo\n",
    "modelo_nnet1 = nnet.fit(X_train1, y_train1)\n",
    "\n",
    "# Fazendo as predições\n",
    "predicao_nnet1 = modelo_nnet1.predict(X_test1)\n",
    "\n",
    "print('MLP')\n",
    "# r2 dos dados de treino\n",
    "print('R² do treino = {}'.format(modelo_nnet1.score(X_train1, y_train1).round(2)))\n",
    "\n",
    "# r2 dos dados de teste\n",
    "print('R² do teste = %s' % metrics.r2_score(y_test1, predicao_nnet1).round(2))"
   ]
  },
  {
   "cell_type": "code",
   "execution_count": null,
   "metadata": {},
   "outputs": [],
   "source": [
    "predictions_mlp1 = pd.DataFrame(y_test1, columns=['Compensada'])\n",
    "predictions_mlp1.index = X_test1.index\n",
    "\n",
    "predicao_nnet1 = pd.DataFrame(predicao_nnet1)\n",
    "predicao_nnet1.index = X_test1.index\n",
    "\n",
    "predictions_mlp1['Predição MLP'] = predicao_xgb1"
   ]
  },
  {
   "cell_type": "code",
   "execution_count": null,
   "metadata": {},
   "outputs": [],
   "source": [
    "fig6 = go.Figure()\n",
    "\n",
    "# Configurando o grafico de linhas\n",
    "fig6.add_trace(go.Scatter(x = predictions_mlp1.index, y = predictions_mlp1['Compensada'], mode = 'lines + markers', name = 'Compensada', marker_color = '#266B6E'))\n",
    "fig6.add_trace(go.Scatter(x = predictions_mlp1.index, y = predictions_mlp1['Predição MLP'], mode = 'lines + markers', name = 'Predição MLP', marker_color = '#FF007D'))\n",
    "\n",
    "# Configurando o titulo do grafico\n",
    "fig6.update_layout(title_text = f'Energia Compensada - 1',\n",
    "                  title_font_size = 30,\n",
    "                  title_x = 0.5)\n",
    "\n",
    "# Configurando o titulo dos eixos\n",
    "fig6.update_layout(xaxis_title_font_size = 18,\n",
    "                  yaxis_title = 'Quantidade de Energia',\n",
    "                  yaxis_title_font_size = 18,\n",
    "                  showlegend = True,\n",
    "                  legend_title = 'Legenda')\n",
    "\n",
    "# Exibindo as grades de fundo\n",
    "fig6.update_xaxes(showgrid = True)\n",
    "\n",
    "# Plotando o grafico\n",
    "fig6.show()"
   ]
  },
  {
   "cell_type": "code",
   "execution_count": null,
   "metadata": {},
   "outputs": [],
   "source": [
    "# Obtendo metricas de avaliacao\n",
    "\n",
    "erros_mlp1 = pd.DataFrame({'Métricas avaliadas': ['MAE', 'MAPE', 'WMAPE', 'MSE', 'RMSE'],\n",
    "                          'Valores obtidos': [round(mean_absolute_error(y_test1, predicao_nnet1), 2),\n",
    "                                              round(mean_absolute_percentage_error(y_test1, predicao_nnet1) * 100, 2),\n",
    "                                              round(mean_absolute_percentage_error(y_test1, predicao_nnet1, sample_weight = y_test1) * 100, 2),\n",
    "                                              round(mean_squared_error(y_test1, predicao_nnet1, squared = True), 2),\n",
    "                                              round(mean_squared_error(y_test1, predicao_nnet1, squared = False), 2)]},\n",
    "                        index = range(0, 5))\n",
    "\n",
    "erros_mlp1"
   ]
  },
  {
   "cell_type": "markdown",
   "metadata": {},
   "source": [
    "### <b>2.1.7 Random Forest </b> <a class = \"anchor\" id = \"chapter_2_1_7\"></a>"
   ]
  },
  {
   "cell_type": "code",
   "execution_count": null,
   "metadata": {},
   "outputs": [],
   "source": [
    "# Instanciando o modelo\n",
    "rf = RandomForestRegressor(random_state = 0)\n",
    "\n",
    "# Ajustando o modelo\n",
    "model_rf1 = rf.fit(X_train1, y_train1)\n",
    "\n",
    "# Fazendo as predicoes\n",
    "predicao_rf1 = model_rf1.predict(X_test1)\n",
    "\n",
    "print('\\n')\n",
    "\n",
    "print('RANDOM FOREST')\n",
    "# r2 dos dados de treino\n",
    "print('R² do treino = {}'.format(model_rf1.score(X_train1, y_train1).round(2)))\n",
    "\n",
    "# r2 dos dados de teste\n",
    "print('R² do teste = %s' % metrics.r2_score(y_test1, predicao_rf1).round(2))"
   ]
  },
  {
   "cell_type": "code",
   "execution_count": null,
   "metadata": {},
   "outputs": [],
   "source": [
    "predictions_rf1 = pd.DataFrame(y_test1, columns=['Compensada'])\n",
    "predictions_rf1.index = X_test1.index\n",
    "\n",
    "predicao_rf1 = pd.DataFrame(predicao_rf1)\n",
    "predicao_rf1.index = X_test1.index\n",
    "\n",
    "predictions_rf1['Predição Random Forest'] = predicao_rf1"
   ]
  },
  {
   "cell_type": "code",
   "execution_count": null,
   "metadata": {},
   "outputs": [],
   "source": [
    "fig7 = go.Figure()\n",
    "\n",
    "# Configurando o grafico de linhas\n",
    "fig7.add_trace(go.Scatter(x = predictions_rf1.index, y = predictions_rf1['Compensada'], mode = 'lines + markers', name = 'Compensada', marker_color = '#266B6E'))\n",
    "fig7.add_trace(go.Scatter(x = predictions_rf1.index, y = predictions_rf1['Predição Random Forest'], mode = 'lines + markers', name = 'Predição Random Forest', marker_color = '#FF007D'))\n",
    "\n",
    "# Configurando o titulo do grafico\n",
    "fig7.update_layout(title_text = f'Energia Compensada - 1',\n",
    "                  title_font_size = 30,\n",
    "                  title_x = 0.5)\n",
    "\n",
    "# Configurando o titulo dos eixos\n",
    "fig7.update_layout(xaxis_title_font_size = 18,\n",
    "                  yaxis_title = 'Quantidade de Energia',\n",
    "                  yaxis_title_font_size = 18,\n",
    "                  showlegend = True,\n",
    "                  legend_title = 'Legenda')\n",
    "\n",
    "# Exibindo as grades de fundo\n",
    "fig7.update_xaxes(showgrid = True)\n",
    "\n",
    "# Plotando o grafico\n",
    "fig7.show()"
   ]
  },
  {
   "cell_type": "code",
   "execution_count": null,
   "metadata": {},
   "outputs": [],
   "source": [
    "# Obtendo metricas de avaliacao\n",
    "\n",
    "erros_rf1 = pd.DataFrame({'Métricas avaliadas': ['MAE', 'MAPE', 'WMAPE', 'MSE', 'RMSE'],\n",
    "                          'Valores obtidos': [round(mean_absolute_error(y_test1, predicao_rf1), 2),\n",
    "                                              round(mean_absolute_percentage_error(y_test1, predicao_rf1) * 100, 2),\n",
    "                                              round(mean_absolute_percentage_error(y_test1, predicao_rf1, sample_weight = y_test1) * 100, 2),\n",
    "                                              round(mean_squared_error(y_test1, predicao_rf1, squared = True), 2),\n",
    "                                              round(mean_squared_error(y_test1, predicao_rf1, squared = False), 2)]},\n",
    "                        index = range(0, 5))\n",
    "\n",
    "erros_rf1"
   ]
  },
  {
   "cell_type": "markdown",
   "metadata": {},
   "source": [
    "### <b>2.1.8 Regressão Linear </b> <a class = \"anchor\" id = \"chapter_2_1_8\"></a>"
   ]
  },
  {
   "cell_type": "code",
   "execution_count": null,
   "metadata": {},
   "outputs": [],
   "source": [
    "# Regressao Linear\n",
    "\n",
    "# Instanciando  o modelo \n",
    "rl = LinearRegression()\n",
    "\n",
    "# Ajustando o modelo\n",
    "modelo_rl1 = rl.fit(X_train1, y_train1)\n",
    "\n",
    "# Fazendo as predicoes\n",
    "predicao_rl1 = modelo_rl1.predict(X_test1)\n",
    "\n",
    "print('REGRESSÃO LINEAR')\n",
    "# r2 dos dados de treino\n",
    "print('R² do treino = {}'.format(modelo_rl1.score(X_train1, y_train1).round(2)))\n",
    "\n",
    "# r2 dos dados de teste\n",
    "print('R² do teste = %s' % metrics.r2_score(y_test1, predicao_rl1).round(2))\n"
   ]
  },
  {
   "cell_type": "code",
   "execution_count": null,
   "metadata": {},
   "outputs": [],
   "source": [
    "predictions_rl1 = pd.DataFrame(y_test1, columns=['Compensada'])\n",
    "predictions_rl1.index = X_test1.index\n",
    "\n",
    "predicao_rl1 = pd.DataFrame(predicao_rl1)\n",
    "predicao_rl1.index = X_test1.index\n",
    "\n",
    "predictions_rl1['Predição Regressão Linear'] = predicao_rl1"
   ]
  },
  {
   "cell_type": "code",
   "execution_count": null,
   "metadata": {},
   "outputs": [],
   "source": [
    "fig8 = go.Figure()\n",
    "\n",
    "# Configurando o grafico de linhas\n",
    "fig8.add_trace(go.Scatter(x = predictions_rl1.index, y = predictions_rl1['Compensada'], mode = 'lines + markers', name = 'Compensada', marker_color = '#266B6E'))\n",
    "fig8.add_trace(go.Scatter(x = predictions_rl1.index, y = predictions_rl1['Predição Regressão Linear'], mode = 'lines + markers', name = 'Predição Regressão Linear', marker_color = '#FF007D'))\n",
    "\n",
    "# Configurando o titulo do grafico\n",
    "fig8.update_layout(title_text = f'Energia Compensada - 1',\n",
    "                  title_font_size = 30,\n",
    "                  title_x = 0.5)\n",
    "\n",
    "# Configurando o titulo dos eixos\n",
    "fig8.update_layout(xaxis_title_font_size = 18,\n",
    "                  yaxis_title = 'Quantidade de Energia',\n",
    "                  yaxis_title_font_size = 18,\n",
    "                  showlegend = True,\n",
    "                  legend_title = 'Legenda')\n",
    "\n",
    "# Exibindo as grades de fundo\n",
    "fig8.update_xaxes(showgrid = True)\n",
    "\n",
    "# Plotando o grafico\n",
    "fig8.show()"
   ]
  },
  {
   "cell_type": "code",
   "execution_count": null,
   "metadata": {},
   "outputs": [],
   "source": [
    "# Obtendo metricas de avaliacao\n",
    "\n",
    "erros_rl1 = pd.DataFrame({'Métricas avaliadas': ['MAE', 'MAPE', 'WMAPE', 'MSE', 'RMSE'],\n",
    "                          'Valores obtidos': [round(mean_absolute_error(y_test1, predicao_rl1), 2),\n",
    "                                              round(mean_absolute_percentage_error(y_test1, predicao_rl1) * 100, 2),\n",
    "                                              round(mean_absolute_percentage_error(y_test1, predicao_rl1, sample_weight = y_test1) * 100, 2),\n",
    "                                              round(mean_squared_error(y_test1, predicao_rl1, squared = True), 2),\n",
    "                                              round(mean_squared_error(y_test1, predicao_rl1, squared = False), 2)]},\n",
    "                        index = range(0, 5))\n",
    "\n",
    "erros_rl1"
   ]
  },
  {
   "cell_type": "markdown",
   "metadata": {},
   "source": [
    "### <b>2.2. Usina  2</b> <a class = \"anchor\" id = \"chapter_2_2\"></a>"
   ]
  },
  {
   "cell_type": "code",
   "execution_count": null,
   "metadata": {},
   "outputs": [],
   "source": [
    "usina2 = df[df['Usina'] == ' 2'].groupby('Competência').agg({'Compensada':'sum', 'Acumulado':'sum', \n",
    "                                                             'Energia_Ativa':'sum'})\n",
    "\n",
    "usina2"
   ]
  },
  {
   "cell_type": "code",
   "execution_count": null,
   "metadata": {},
   "outputs": [],
   "source": [
    "# Descricao estatistica dos dados\n",
    "\n",
    "usina2.describe()"
   ]
  },
  {
   "cell_type": "code",
   "execution_count": null,
   "metadata": {},
   "outputs": [],
   "source": [
    "fig9 = go.Figure()\n",
    "\n",
    "# Configurando o gráfico de barras\n",
    "fig9.add_trace(go.Bar(x = usina2.index,\n",
    "                     y = usina2['Compensada'],\n",
    "                     text = usina2['Compensada'],\n",
    "                     name = 'Gráfico de barras',\n",
    "                     textposition = 'inside',\n",
    "                     textfont_size = 12,\n",
    "                     marker_color = '#266B6E'))\n",
    "\n",
    "# Configurando o gráfico de linhas\n",
    "fig9.add_trace(go.Scatter(x = usina2.index,\n",
    "                         y = usina2['Compensada'],\n",
    "                         name = 'Gráfico de linhas',\n",
    "                         mode = 'lines + markers',\n",
    "                         marker_color = 'red'))\n",
    "\n",
    "\n",
    "# Configurando o título do gráfico\n",
    "fig9.update_layout(title_text = f'Energia Compensada -  2',\n",
    "                  title_font_size = 30,\n",
    "                  title_x = 0.5)\n",
    "\n",
    "# Configurando o título dos eixos\n",
    "fig9.update_layout(yaxis_title = 'Quantidade de energia',\n",
    "                  yaxis_title_font_size = 18,\n",
    "                  xaxis_title = 'Meses',\n",
    "                  showlegend = False)\n",
    "\n",
    "# Exibindo as grades de fundo\n",
    "fig9.update_xaxes(showgrid = True)\n",
    "\n",
    "# Plotando o gráfico\n",
    "fig9.show()"
   ]
  },
  {
   "cell_type": "markdown",
   "metadata": {},
   "source": [
    "### <b>2.2.1. LSTM</b> <a class = \"anchor\" id = \"chapter_2_2_1\"></a>"
   ]
  },
  {
   "cell_type": "code",
   "execution_count": null,
   "metadata": {},
   "outputs": [],
   "source": [
    "# Copia do dataset principal\n",
    "\n",
    "usina2_lstm = usina2.copy(deep = True)"
   ]
  },
  {
   "cell_type": "code",
   "execution_count": null,
   "metadata": {},
   "outputs": [],
   "source": [
    "# Separando quais dados serao utilizados para rodar o modelo\n",
    "\n",
    "usina2_lstm = usina2_lstm.loc[:,['Compensada']]\n",
    "usina2_lstm"
   ]
  },
  {
   "cell_type": "code",
   "execution_count": null,
   "metadata": {},
   "outputs": [],
   "source": [
    "# Definindo a frequencia dos dados\n",
    "\n",
    "usina2_lstm = usina2_lstm.asfreq('MS')"
   ]
  },
  {
   "cell_type": "code",
   "execution_count": null,
   "metadata": {},
   "outputs": [],
   "source": [
    "# Normalizando os dados\n",
    "\n",
    "scaler_lstm = MinMaxScaler(feature_range = (0, 1))\n",
    "data_lstm2 = scaler_lstm.fit_transform(usina2_lstm)"
   ]
  },
  {
   "cell_type": "code",
   "execution_count": null,
   "metadata": {},
   "outputs": [],
   "source": [
    "# Dividindo os dados em conjuntos de treino e teste\n",
    "\n",
    "train_size_lstm2 = int(len(data_lstm2) * 0.7)               #70% para treino e 30% para teste\n",
    "training_set_lstm2, test_set_lstm2 = data_lstm2[:train_size_lstm2], data_lstm2[train_size_lstm2:]"
   ]
  },
  {
   "cell_type": "code",
   "execution_count": null,
   "metadata": {},
   "outputs": [],
   "source": [
    "# Atribuindo valor a janela deslizante\n",
    "\n",
    "lookback_window = 1"
   ]
  },
  {
   "cell_type": "code",
   "execution_count": null,
   "metadata": {},
   "outputs": [],
   "source": [
    "# Criando a funcao de janela deslizante\n",
    "\n",
    "def create_dataset(data, lookback_window):\n",
    "    X, y = [], []\n",
    "\n",
    "    for i in range(len(data) - lookback_window):\n",
    "        X.append(data[i:(i + lookback_window), :])\n",
    "        y.append(data[i + lookback_window, 0])\n",
    "\n",
    "    return np.array(X), np.array(y)"
   ]
  },
  {
   "cell_type": "code",
   "execution_count": null,
   "metadata": {},
   "outputs": [],
   "source": [
    "# Ajustando os conjuntos de treino e teste\n",
    "\n",
    "X_train_lstm2, y_train_lstm2 = create_dataset(training_set_lstm2, lookback_window)\n",
    "X_test_lstm2, y_test_lstm2 = create_dataset(test_set_lstm2, lookback_window)"
   ]
  },
  {
   "cell_type": "code",
   "execution_count": null,
   "metadata": {},
   "outputs": [],
   "source": [
    "# Ajustando parametros do modelo LSTM\n",
    "\n",
    "best_model_lstm = Sequential()\n",
    "best_model_lstm.add(LSTM(4, input_shape = (lookback_window, 1)))\n",
    "best_model_lstm.add(Dense(1))\n",
    "best_model_lstm.compile(loss = 'mean_squared_error', optimizer = 'adam', run_eagerly=True)\n",
    "\n",
    "history_lstm2 = best_model_lstm.fit(X_train_lstm2,\n",
    "                                   y_train_lstm2,\n",
    "                                   epochs = 170,\n",
    "                                   batch_size = 1,\n",
    "                                   validation_split = 0.2,\n",
    "                                   verbose = 2)"
   ]
  },
  {
   "cell_type": "code",
   "execution_count": null,
   "metadata": {},
   "outputs": [],
   "source": [
    "# Rodando modelo para conjunto de teste\n",
    "\n",
    "y_pred_lstm2 = best_model_lstm.predict(X_test_lstm2)\n",
    "\n",
    "y_pred_lstm2 = scaler_lstm.inverse_transform(y_pred_lstm2)\n",
    "y_test_lstm2 = scaler_lstm.inverse_transform(y_test_lstm2.reshape(-1, 1))"
   ]
  },
  {
   "cell_type": "code",
   "execution_count": null,
   "metadata": {},
   "outputs": [],
   "source": [
    "# Criando dataframe com as predicoes\n",
    "\n",
    "timestamp2 = pd.DataFrame(usina2_lstm.index[-len(X_test_lstm2):])\n",
    "\n",
    "y_test_df_lstm2 = pd.concat([timestamp2, pd.DataFrame(y_test_lstm2)], axis = 1).rename(columns = {0: 'Compensada'}).dropna()\n",
    "y_pred_df_lstm2 = pd.concat([timestamp2, pd.DataFrame(y_pred_lstm2)], axis = 1).rename(columns = {0: 'Compensada_predito'}).dropna()\n",
    "\n",
    "\n",
    "# Ajuste nas datas para corresponderem as datas reais dos registros de teste\n",
    "\n",
    "y_test_df_lstm2.index = usina2_lstm.index[-len(X_test_lstm2):]\n",
    "y_pred_df_lstm2.index = usina2_lstm.index[-len(X_test_lstm2):]"
   ]
  },
  {
   "cell_type": "code",
   "execution_count": null,
   "metadata": {},
   "outputs": [],
   "source": [
    "fig10 = go.Figure()\n",
    "\n",
    "# Configurando o grafico de linhas\n",
    "fig10.add_trace(go.Scatter(x = y_test_df_lstm2['Competência'], y = y_test_df_lstm2['Compensada'], mode = 'lines + markers', name = 'Compensada', marker_color = '#266B6E'))\n",
    "fig10.add_trace(go.Scatter(x = y_pred_df_lstm2['Competência'], y = y_pred_df_lstm2['Compensada_predito'], mode = 'lines + markers', name = 'Predição LSTM', marker_color = '#FF007D'))\n",
    "\n",
    "# Configurando o titulo do grafico\n",
    "fig10.update_layout(title_text = f'Energia Compensada -  2',\n",
    "                  title_font_size = 30,\n",
    "                  title_x = 0.5)\n",
    "\n",
    "# Configurando o titulo dos eixos\n",
    "fig10.update_layout(xaxis_title_font_size = 18,\n",
    "                  yaxis_title = 'Quantidade de Energia',\n",
    "                  yaxis_title_font_size = 18,\n",
    "                  showlegend = True,\n",
    "                  legend_title = 'Legenda')\n",
    "\n",
    "# Exibindo as grades de fundo\n",
    "fig10.update_xaxes(showgrid = True)\n",
    "\n",
    "# Plotando o grafico\n",
    "fig10.show()"
   ]
  },
  {
   "cell_type": "code",
   "execution_count": null,
   "metadata": {},
   "outputs": [],
   "source": [
    "# Obtendo metricas de avaliacao\n",
    "\n",
    "erros_lstm2 = pd.DataFrame({'Métricas avaliadas': ['MAE', 'MAPE', 'WMAPE', 'MSE', 'RMSE'],\n",
    "                                'Valores obtidos': [round(mean_absolute_error(y_test_lstm2, y_pred_lstm2), 2),\n",
    "                                                    round(mean_absolute_percentage_error(y_test_lstm2, y_pred_lstm2) * 100, 2),\n",
    "                                                    round(mean_absolute_percentage_error(y_test_lstm2, y_pred_lstm2, sample_weight = y_test_lstm2) * 100, 2),\n",
    "                                                    round(mean_squared_error(y_test_lstm2, y_pred_lstm2, squared = True), 2),\n",
    "                                                    round(mean_squared_error(y_test_lstm2, y_pred_lstm2, squared = False), 2)]},\n",
    "                            index = range(0, 5))\n",
    "\n",
    "erros_lstm2"
   ]
  },
  {
   "cell_type": "markdown",
   "metadata": {},
   "source": [
    "### <b>2.2.2. Holt-Winters</b> <a class = \"anchor\" id = \"chapter_2_2_2\"></a>"
   ]
  },
  {
   "cell_type": "code",
   "execution_count": null,
   "metadata": {},
   "outputs": [],
   "source": [
    "# Copia do dataset principal\n",
    "\n",
    "usina2_holtw = usina2.copy(deep = True)"
   ]
  },
  {
   "cell_type": "code",
   "execution_count": null,
   "metadata": {},
   "outputs": [],
   "source": [
    "# Separando quais dados serao utilizados para rodar o modelo\n",
    "\n",
    "usina2_holtw = usina2_holtw.loc[:,['Compensada']]"
   ]
  },
  {
   "cell_type": "code",
   "execution_count": null,
   "metadata": {},
   "outputs": [],
   "source": [
    "# Definindo a frequencia dos dados\n",
    "\n",
    "usina2_holtw = usina2_holtw.asfreq('MS')"
   ]
  },
  {
   "cell_type": "code",
   "execution_count": null,
   "metadata": {},
   "outputs": [],
   "source": [
    "# Dividindo dados em conjunto de treino (70%)\n",
    "\n",
    "training_set_holtwinters2 = usina2_holtw.iloc[:-4, :]\n",
    "training_set_holtwinters2"
   ]
  },
  {
   "cell_type": "code",
   "execution_count": null,
   "metadata": {},
   "outputs": [],
   "source": [
    "# Dividindo dados em conjunto de teste (30%)\n",
    "\n",
    "test_set_holtwinters2 = usina2_holtw.iloc[-4:, :]\n",
    "test_set_holtwinters2"
   ]
  },
  {
   "cell_type": "code",
   "execution_count": null,
   "metadata": {},
   "outputs": [],
   "source": [
    "# Aplicando o modelo\n",
    "\n",
    "model_holtwinters2 = ExponentialSmoothing(endog = training_set_holtwinters2['Compensada'],     \n",
    "                                         trend = 'add',                             \n",
    "                                         seasonal = 'add',\n",
    "                                         seasonal_periods = 4).fit()         "
   ]
  },
  {
   "cell_type": "code",
   "execution_count": null,
   "metadata": {},
   "outputs": [],
   "source": [
    "predictions_holtwinters2 = pd.Series(model_holtwinters2.forecast(steps = len(test_set_holtwinters2))).rename('HW')\n",
    "predictions_holtwinters2.index = test_set_holtwinters2.index"
   ]
  },
  {
   "cell_type": "code",
   "execution_count": null,
   "metadata": {},
   "outputs": [],
   "source": [
    "fig11 = go.Figure()\n",
    "\n",
    "# Configurando o grafico de linhas\n",
    "fig11.add_trace(go.Scatter(x = test_set_holtwinters2.index, y = test_set_holtwinters2['Compensada'], mode = 'lines + markers', name = 'Compensada', marker_color = '#266B6E'))\n",
    "fig11.add_trace(go.Scatter(x = predictions_holtwinters2.index, y = predictions_holtwinters2, mode = 'lines + markers', name = 'Predição Holt-Winters', marker_color = '#FF007D'))\n",
    "\n",
    "# Configurando o titulo do grafico\n",
    "fig11.update_layout(title_text = f'Energia Compensada -  2',\n",
    "                  title_font_size = 30,\n",
    "                  title_x = 0.5)\n",
    "\n",
    "# Configurando o titulo dos eixos\n",
    "fig11.update_layout(xaxis_title_font_size = 18,\n",
    "                  yaxis_title = 'Quantidade de Energia',\n",
    "                  yaxis_title_font_size = 18,\n",
    "                  showlegend = True,\n",
    "                  legend_title = 'Legenda')\n",
    "\n",
    "# Exibindo as grades de fundo\n",
    "fig11.update_xaxes(showgrid = True)\n",
    "\n",
    "# Plotando o grafico\n",
    "fig11.show()"
   ]
  },
  {
   "cell_type": "code",
   "execution_count": null,
   "metadata": {},
   "outputs": [],
   "source": [
    "# Obtendo metricas de avaliacao\n",
    "\n",
    "erros_hw2 = pd.DataFrame({'Métricas avaliadas': ['MAE', 'MAPE', 'WMAPE', 'MSE', 'RMSE'],\n",
    "                        'Valores obtidos': [round(mean_absolute_error(test_set_holtwinters2['Compensada'], predictions_holtwinters2), 2),\n",
    "                                            round(mean_absolute_percentage_error(test_set_holtwinters2['Compensada'], predictions_holtwinters2) * 100, 2),\n",
    "                                            round(mean_absolute_percentage_error(test_set_holtwinters2['Compensada'], predictions_holtwinters2, sample_weight = test_set_holtwinters2['Compensada']) * 100, 2),\n",
    "                                            round(mean_squared_error(test_set_holtwinters2['Compensada'], predictions_holtwinters2, squared = True), 2),\n",
    "                                            round(mean_squared_error(test_set_holtwinters2['Compensada'], predictions_holtwinters2, squared = False), 2)]},\n",
    "                        index = range(0, 5))\n",
    "\n",
    "erros_hw2"
   ]
  },
  {
   "cell_type": "markdown",
   "metadata": {},
   "source": [
    "### <b>2.2.3 SARIMAX </b> <a class = \"anchor\" id = \"chapter_2_2_3\"></a>"
   ]
  },
  {
   "cell_type": "code",
   "execution_count": null,
   "metadata": {},
   "outputs": [],
   "source": [
    "# Copia do dataset principal\n",
    "\n",
    "usina2_sarimax = usina2.copy(deep = True)"
   ]
  },
  {
   "cell_type": "code",
   "execution_count": null,
   "metadata": {},
   "outputs": [],
   "source": [
    "# Definindo a frequencia dos dados\n",
    "\n",
    "usina2_sarimax = usina2_sarimax.asfreq('MS')"
   ]
  },
  {
   "cell_type": "code",
   "execution_count": null,
   "metadata": {},
   "outputs": [],
   "source": [
    "# Definindo o conjunto de treino (70%)\n",
    "\n",
    "training_set_sarimax2 = usina2_sarimax.iloc[:-4, :]\n",
    "training_set_sarimax2"
   ]
  },
  {
   "cell_type": "code",
   "execution_count": null,
   "metadata": {},
   "outputs": [],
   "source": [
    "# Definindo o conjunto de teste (30%)\n",
    "\n",
    "test_set_sarimax2 = usina2_sarimax.iloc[-4:, :]\n",
    "test_set_sarimax2"
   ]
  },
  {
   "cell_type": "code",
   "execution_count": null,
   "metadata": {},
   "outputs": [],
   "source": [
    "# Definindo as variaveis exogenas de treino\n",
    "\n",
    "train_exog_sarimax2 = training_set_sarimax2.iloc[:, 1:]\n",
    "train_exog_sarimax2"
   ]
  },
  {
   "cell_type": "code",
   "execution_count": null,
   "metadata": {},
   "outputs": [],
   "source": [
    "# Definindo as variaveis exogenas de teste\n",
    "\n",
    "test_exog_sarimax2 = test_set_sarimax2.iloc[:, 1:]\n",
    "test_exog_sarimax2"
   ]
  },
  {
   "cell_type": "code",
   "execution_count": null,
   "metadata": {},
   "outputs": [],
   "source": [
    "# Aplicando o modelo\n",
    "\n",
    "model_sarimax2 = auto_arima(y = training_set_sarimax2['Compensada'],\n",
    "                           X = train_exog_sarimax2,\n",
    "                           m = 1,                   # Período anual: 12 meses (ajustar de acordo com a frequência escolhida anteriormente)\n",
    "                           seasonal = True,\n",
    "                           stepwise = False)"
   ]
  },
  {
   "cell_type": "code",
   "execution_count": null,
   "metadata": {},
   "outputs": [],
   "source": [
    "model_sarimax2.summary()"
   ]
  },
  {
   "cell_type": "code",
   "execution_count": null,
   "metadata": {},
   "outputs": [],
   "source": [
    "predictions_sarimax2 = pd.Series(model_sarimax2.predict(n_periods = 4, X = test_exog_sarimax2)).rename('SARIMAX')\n",
    "predictions_sarimax2.index = test_set_sarimax2.index"
   ]
  },
  {
   "cell_type": "code",
   "execution_count": null,
   "metadata": {},
   "outputs": [],
   "source": [
    "fig12 = go.Figure()\n",
    "\n",
    "# Configurando o grafico de linhas\n",
    "fig12.add_trace(go.Scatter(x = test_set_sarimax2.index, y = test_set_sarimax2['Compensada'], mode = 'lines + markers', name = 'Compensada', marker_color = '#266B6E'))\n",
    "fig12.add_trace(go.Scatter(x = predictions_sarimax2.index, y = predictions_sarimax2, mode = 'lines + markers', name = 'Predição Sarimax', marker_color = '#FF007D'))\n",
    "\n",
    "\n",
    "# Configurando o titulo do grafico\n",
    "fig12.update_layout(title_text = f'Energia Compensada -  2',\n",
    "                  title_font_size = 30,\n",
    "                  title_x = 0.5)\n",
    "\n",
    "# Configurando o titulo dos eixos\n",
    "fig12.update_layout(xaxis_title_font_size = 18,\n",
    "                  yaxis_title = 'Quantidade de Energia',\n",
    "                  yaxis_title_font_size = 18,\n",
    "                  showlegend = True,\n",
    "                  legend_title = 'Legenda')\n",
    "\n",
    "# Exibindo as grades de fundo\n",
    "fig12.update_xaxes(showgrid = True)\n",
    "\n",
    "# Plotando o grafico\n",
    "fig12.show()"
   ]
  },
  {
   "cell_type": "code",
   "execution_count": null,
   "metadata": {},
   "outputs": [],
   "source": [
    "# Obtendo metricas de avaliacao\n",
    "\n",
    "erros_sm2 = pd.DataFrame({'Métricas avaliadas': ['MAE', 'MAPE', 'WMAPE', 'MSE', 'RMSE'],\n",
    "                        'Valores obtidos': [round(mean_absolute_error(test_set_sarimax2['Compensada'], predictions_sarimax2), 2),\n",
    "                                            round(mean_absolute_percentage_error(test_set_sarimax2['Compensada'], predictions_sarimax2) * 100, 2),\n",
    "                                            round(mean_absolute_percentage_error(test_set_sarimax2['Compensada'], predictions_sarimax2, sample_weight = test_set_sarimax2['Compensada']) * 100, 2),\n",
    "                                            round(mean_squared_error(test_set_sarimax2['Compensada'], predictions_sarimax2, squared = True), 2),\n",
    "                                            round(mean_squared_error(test_set_sarimax2['Compensada'], predictions_sarimax2, squared = False), 2)]},\n",
    "                        index = range(0, 5))\n",
    "\n",
    "erros_sm2"
   ]
  },
  {
   "cell_type": "markdown",
   "metadata": {},
   "source": [
    "### <b>2.2.4 TensorFlow </b> <a class = \"anchor\" id = \"chapter_2_2_4\"></a>"
   ]
  },
  {
   "cell_type": "code",
   "execution_count": null,
   "metadata": {},
   "outputs": [],
   "source": [
    "# Copia do dataset principal\n",
    "\n",
    "usina2_tensorflow = usina2.copy(deep = True)"
   ]
  },
  {
   "cell_type": "code",
   "execution_count": null,
   "metadata": {},
   "outputs": [],
   "source": [
    "# Definindo a frequencia dos dados\n",
    "\n",
    "usina2_tensorflow = usina2_tensorflow.asfreq('MS')"
   ]
  },
  {
   "cell_type": "code",
   "execution_count": null,
   "metadata": {},
   "outputs": [],
   "source": [
    "# Definindo o conjunto de treino (70%)\n",
    "\n",
    "training_set_tensorflow2 = usina2_tensorflow.iloc[:-4, :]\n",
    "training_set_tensorflow2"
   ]
  },
  {
   "cell_type": "code",
   "execution_count": null,
   "metadata": {},
   "outputs": [],
   "source": [
    "# Definindo o conjunto de teste (30%)\n",
    "\n",
    "test_set_tensorflow2 = usina2_tensorflow.iloc[-4:, :]\n",
    "test_set_tensorflow2"
   ]
  },
  {
   "cell_type": "code",
   "execution_count": null,
   "metadata": {},
   "outputs": [],
   "source": [
    "# Regressores\n",
    "\n",
    "exog_tensorflow2 = np.asmatrix(usina2_tensorflow.iloc[:, 1:].astype(np.float64))"
   ]
  },
  {
   "cell_type": "code",
   "execution_count": null,
   "metadata": {},
   "outputs": [],
   "source": [
    "# Aplicando o modelo\n",
    "\n",
    "regressors_tensorflow2 = tfp.sts.LinearRegression(design_matrix = exog_tensorflow2, name = 'regressors')"
   ]
  },
  {
   "cell_type": "code",
   "execution_count": null,
   "metadata": {},
   "outputs": [],
   "source": [
    "# Sazonalidade\n",
    "\n",
    "Compensada_tensorflow2 = training_set_tensorflow2['Compensada'].astype(np.float64)"
   ]
  },
  {
   "cell_type": "code",
   "execution_count": null,
   "metadata": {},
   "outputs": [],
   "source": [
    "monthly_effect_tensorflow2 = tfp.sts.Seasonal(num_seasons = 4,\n",
    "                                             num_steps_per_season = np.array([[4]]),\n",
    "                                             observed_time_series = Compensada_tensorflow2,\n",
    "                                             name = 'month_effect')"
   ]
  },
  {
   "cell_type": "code",
   "execution_count": null,
   "metadata": {},
   "outputs": [],
   "source": [
    "# Definindo a variavel autoregressive\n",
    "\n",
    "autoregressive_tensorflow2 = tfp.sts.Autoregressive(order = 1, observed_time_series = Compensada_tensorflow2, name = 'autoregressive')"
   ]
  },
  {
   "cell_type": "code",
   "execution_count": null,
   "metadata": {},
   "outputs": [],
   "source": [
    "# Definindo a variavel trend\n",
    "\n",
    "trend_tensorflow2 = tfp.sts.LocalLinearTrend(observed_time_series = Compensada_tensorflow2, name = 'trend')"
   ]
  },
  {
   "cell_type": "code",
   "execution_count": null,
   "metadata": {},
   "outputs": [],
   "source": [
    "# Aplicando o modelo novamente\n",
    "\n",
    "model_tensorflow2 = tfp.sts.Sum([regressors_tensorflow2,\n",
    "                                monthly_effect_tensorflow2,\n",
    "                                autoregressive_tensorflow2,\n",
    "                                trend_tensorflow2],\n",
    "                                observed_time_series = Compensada_tensorflow2)"
   ]
  },
  {
   "cell_type": "code",
   "execution_count": null,
   "metadata": {},
   "outputs": [],
   "source": [
    "samples_tensorflow2, kernel_results_tensorflow2 = tfp.sts.fit_with_hmc(model = model_tensorflow2,\n",
    "                                                                     observed_time_series = Compensada_tensorflow2,\n",
    "                                                                     num_results = 100,\n",
    "                                                                     num_warmup_steps = 50,\n",
    "                                                                     num_leapfrog_steps = 15,\n",
    "                                                                     num_variational_steps = 150,\n",
    "                                                                     seed = 1502)"
   ]
  },
  {
   "cell_type": "code",
   "execution_count": null,
   "metadata": {},
   "outputs": [],
   "source": [
    "forecast_tensorflow2 = tfp.sts.forecast(model = model_tensorflow2,\n",
    "                                       observed_time_series = Compensada_tensorflow2,\n",
    "                                       parameter_samples = samples_tensorflow2,\n",
    "                                       num_steps_forecast = len(test_set_tensorflow2))"
   ]
  },
  {
   "cell_type": "code",
   "execution_count": null,
   "metadata": {},
   "outputs": [],
   "source": [
    "predictions_tensorflow2 = pd.Series(forecast_tensorflow2.mean()[:, 0], name = 'TFP')\n",
    "predictions_tensorflow2.index = test_set_tensorflow2.index"
   ]
  },
  {
   "cell_type": "code",
   "execution_count": null,
   "metadata": {},
   "outputs": [],
   "source": [
    "fig13 = go.Figure()\n",
    "\n",
    "# Configurando o gráfico de linhas\n",
    "fig13.add_trace(go.Scatter(x = test_set_tensorflow2.index, y = test_set_tensorflow2['Compensada'], mode = 'lines + markers', name = 'Compensada', marker_color = '#266B6E'))\n",
    "fig13.add_trace(go.Scatter(x = predictions_tensorflow2.index, y = predictions_tensorflow2, mode = 'lines + markers', name = 'Predição Tensorflow', marker_color = '#FF007D'))\n",
    "\n",
    "# Configurando o título do gráfico\n",
    "fig13.update_layout(title_text = f'Energia Compensada -  2',\n",
    "                  title_font_size = 30,\n",
    "                  title_x = 0.5)\n",
    "\n",
    "# Configurando o título dos eixos\n",
    "fig13.update_layout(xaxis_title_font_size = 18,\n",
    "                  yaxis_title = 'Quantidade de Energia',\n",
    "                  yaxis_title_font_size = 18,\n",
    "                  showlegend = True,\n",
    "                  legend_title = 'Legenda')\n",
    "\n",
    "# Exibindo as grades de fundo\n",
    "fig13.update_xaxes(showgrid = True)\n",
    "\n",
    "# Plotando o gráfico\n",
    "fig13.show()"
   ]
  },
  {
   "cell_type": "code",
   "execution_count": null,
   "metadata": {},
   "outputs": [],
   "source": [
    "# Obtendo metricas de avaliacao\n",
    "\n",
    "erros_tf2 = pd.DataFrame({'Métricas avaliadas': ['MAE', 'MAPE', 'WMAPE', 'MSE', 'RMSE'],\n",
    "                                 'Valores obtidos': [round(mean_absolute_error(test_set_tensorflow2['Compensada'], predictions_tensorflow2), 2),\n",
    "                                                     round(mean_absolute_percentage_error(test_set_tensorflow2['Compensada'], predictions_tensorflow2) * 100, 2),\n",
    "                                                     round(mean_absolute_percentage_error(test_set_tensorflow2['Compensada'], predictions_tensorflow2, sample_weight = test_set_tensorflow2['Compensada']) * 100, 2),\n",
    "                                                     round(mean_squared_error(test_set_tensorflow2['Compensada'], predictions_tensorflow2, squared = True), 2),\n",
    "                                                     round(mean_squared_error(test_set_tensorflow2['Compensada'], predictions_tensorflow2, squared = False), 2)]},\n",
    "                                index = range(0, 5))\n",
    "\n",
    "erros_tf2"
   ]
  },
  {
   "cell_type": "markdown",
   "metadata": {},
   "source": [
    "### <b>Organizando os dados para os modelos seguintes</b>"
   ]
  },
  {
   "cell_type": "code",
   "execution_count": null,
   "metadata": {},
   "outputs": [],
   "source": [
    "usina2_modelos = usina2.copy(deep = True)\n",
    "usina2_modelos"
   ]
  },
  {
   "cell_type": "code",
   "execution_count": null,
   "metadata": {},
   "outputs": [],
   "source": [
    "# Dividindo os dados em conjuntos de treino e teste a partir de um corte temporal\n",
    "\n",
    "df_train2 = usina2_modelos.loc[usina2_modelos.index < '2023-03-01']\n",
    "df_test2 = usina2_modelos.loc[usina2_modelos.index >= '2023-03-01']"
   ]
  },
  {
   "cell_type": "code",
   "execution_count": null,
   "metadata": {},
   "outputs": [],
   "source": [
    "# Separando os conjuntos X e Y de acordo com as colunas de dados\n",
    "\n",
    "X_train2 = df_train2[['Acumulado', 'Energia_Ativa']]\n",
    "\n",
    "y_train2 = df_train2['Compensada']\n",
    "y_train2 = np.array(y_train2).reshape(-1, 1)\n",
    "\n",
    "X_test2 = df_test2[['Acumulado', 'Energia_Ativa']]\n",
    "\n",
    "y_test2 = df_test2['Compensada']\n",
    "y_test2 = np.array(y_test2).reshape(-1, 1)"
   ]
  },
  {
   "cell_type": "markdown",
   "metadata": {},
   "source": [
    "### <b>2.2.5 XGBoost </b> <a class = \"anchor\" id = \"chapter_2_2_5\"></a>"
   ]
  },
  {
   "cell_type": "code",
   "execution_count": null,
   "metadata": {},
   "outputs": [],
   "source": [
    "# Instanciando o modelo\n",
    "modelo_xgb = xgb.XGBRegressor(random_state = 0, max_depth=2)\n",
    "\n",
    "# Ajustando o modelo\n",
    "modelo_xgb2 = modelo_xgb.fit(X_train2, y_train2)\n",
    "\n",
    "# Fazendo as predicoes\n",
    "predicao_xgb2 = modelo_xgb2.predict(X_test2)\n",
    "\n",
    "print('XGBoost')\n",
    "# r2 dos dados de treino\n",
    "print('R² do treino = {}'.format(modelo_xgb2.score(X_train2, y_train2)))\n",
    "\n",
    "# r2 dos dados de teste\n",
    "print('R² do teste = %s' % metrics.r2_score(y_test2, predicao_xgb2))\n",
    "\n",
    "# Erro medio quadratico dos dados de teste e preditos\n",
    "print('Raiz quadrada do erro médio quadrático dos resultados preditos = {}'.format(np.sqrt(mean_squared_error(y_test2, predicao_xgb2))))\n",
    "\n",
    "# Erro medio absoluto dos dados de teste e treino\n",
    "print('Erro médio absoluto dos resultados preditos = {}'.format(mean_absolute_error(y_test2, predicao_xgb2).round(2)))"
   ]
  },
  {
   "cell_type": "code",
   "execution_count": null,
   "metadata": {},
   "outputs": [],
   "source": [
    "# Verificando quais variaveis impactam mais o modelo\n",
    "\n",
    "fi2 = pd.DataFrame(data=modelo_xgb2.feature_importances_,\n",
    "             index=modelo_xgb2.feature_names_in_,\n",
    "             columns=['importância'])\n",
    "fi2.sort_values('importância').plot(kind='barh', title='Importância das variáveis -  2')\n",
    "plt.show()"
   ]
  },
  {
   "cell_type": "code",
   "execution_count": null,
   "metadata": {},
   "outputs": [],
   "source": [
    "# Fazendo um gridsearch para encontrar os melhores parametros\n",
    "\n",
    "# Intanciando o modelo\n",
    "modelo_xgb = xgb.XGBRegressor(random_state = 0)\n",
    "\n",
    "# Definindo o espaco de busca dos hiperparametros\n",
    "param_grid = {'learning_rate': np.linspace(0.001, 0.1, num = 20), 'n_estimators': np.arange(100, 200, 10),\n",
    "               'max_depth': [2, 3, 4, 5]}\n",
    "\n",
    "# Chamando o griddsearch e faz a busca aleatoria de acordo com os hiperparametros fornecidos acima\n",
    "grid_search2 =  GridSearchCV(modelo_xgb, param_grid, scoring='neg_mean_squared_error', cv = 5)\n",
    "grid_search2.fit(X_train2, y_train2)\n",
    "\n",
    "# Acessando os melhores hiperparametros encontrados\n",
    "grid_search2.best_params_"
   ]
  },
  {
   "cell_type": "code",
   "execution_count": null,
   "metadata": {},
   "outputs": [],
   "source": [
    "#Rodando o modelo novamente, agora com os novos parametros encontrados\n",
    "\n",
    "# Instanciando o modelo\n",
    "modelo_xgb = xgb.XGBRegressor(random_state = 0, n_estimators = 190, max_depth = 4, learning_rate = 0.084)\n",
    "\n",
    "# Ajustando o modelo\n",
    "modelo_xgb2 = modelo_xgb.fit(X_train2, y_train2)\n",
    "\n",
    "# Fazenco as predicoes\n",
    "predicao_xgb2 = modelo_xgb2.predict(X_test2)\n",
    "\n",
    "print('XGBoost')\n",
    "# r2 dos dados de treino\n",
    "print('R² do treino = {}'.format(modelo_xgb2.score(X_train2, y_train2).round(2)))\n",
    "\n",
    "# r2 dos dados de teste\n",
    "print('R² do teste = %s' % metrics.r2_score(y_test2, predicao_xgb2).round(2))\n",
    "\n",
    "# Erro quadratico medio dos dados de teste e preditos\n",
    "print('Raiz quadrada do erro quadrático médio dos resultados preditos = {}'.format(np.sqrt(mean_squared_error(y_test2, predicao_xgb2)).round(2)))\n",
    "\n",
    "# Erro medio absoluto dos dados de teste e treino\n",
    "print('Erro médio absoluto dos resultados preditos = {}'.format(mean_absolute_error(y_test2, predicao_xgb2).round(2)))"
   ]
  },
  {
   "cell_type": "code",
   "execution_count": null,
   "metadata": {},
   "outputs": [],
   "source": [
    "predictions_xgb2 = pd.DataFrame(y_test2, columns=['Compensada'])\n",
    "predictions_xgb2.index = X_test2.index\n",
    "\n",
    "predicao_xgb2 = pd.DataFrame(predicao_xgb2)\n",
    "predicao_xgb2.index = X_test2.index\n",
    "\n",
    "predictions_xgb2['Predição XGB'] = predicao_xgb2"
   ]
  },
  {
   "cell_type": "code",
   "execution_count": null,
   "metadata": {},
   "outputs": [],
   "source": [
    "fig14 = go.Figure()\n",
    "\n",
    "# Configurando o grafico de linhas\n",
    "fig14.add_trace(go.Scatter(x = predictions_xgb2.index, y = predictions_xgb2['Compensada'], mode = 'lines + markers', name = 'Compensada', marker_color = '#266B6E'))\n",
    "fig14.add_trace(go.Scatter(x = predictions_xgb2.index, y = predictions_xgb2['Predição XGB'], mode = 'lines + markers', name = 'Predição XGBoost', marker_color = '#FF007D'))\n",
    "\n",
    "# Configurando o titulo do grafico\n",
    "fig14.update_layout(title_text = f'Energia Compensada -  2',\n",
    "                  title_font_size = 30,\n",
    "                  title_x = 0.5)\n",
    "\n",
    "# Configurando o titulo dos eixos\n",
    "fig14.update_layout(xaxis_title_font_size = 18,\n",
    "                  yaxis_title = 'Quantidade de Energia',\n",
    "                  yaxis_title_font_size = 18,\n",
    "                  showlegend = True,\n",
    "                  legend_title = 'Legenda')\n",
    "\n",
    "# Exibindo as grades de fundo\n",
    "fig14.update_xaxes(showgrid = True)\n",
    "\n",
    "# Plotando o grafico\n",
    "fig14.show()"
   ]
  },
  {
   "cell_type": "code",
   "execution_count": null,
   "metadata": {},
   "outputs": [],
   "source": [
    "erros_xgb2 = pd.DataFrame({'Métricas avaliadas': ['MAE', 'MAPE', 'WMAPE', 'MSE', 'RMSE'],\n",
    "                          'Valores obtidos': [round(mean_absolute_error(y_test2, predicao_xgb2), 2),\n",
    "                                              round(mean_absolute_percentage_error(y_test2, predicao_xgb2) * 100, 2),\n",
    "                                              round(mean_absolute_percentage_error(y_test2, predicao_xgb2, sample_weight = y_test2) * 100, 2),\n",
    "                                              round(mean_squared_error(y_test2, predicao_xgb2, squared = True), 2),\n",
    "                                              round(mean_squared_error(y_test2, predicao_xgb2, squared = False), 2)]},\n",
    "                        index = range(0, 5))\n",
    "\n",
    "erros_xgb2"
   ]
  },
  {
   "cell_type": "markdown",
   "metadata": {},
   "source": [
    "### <b>2.2.6 MLP </b> <a class = \"anchor\" id = \"chapter_2_2_6\"></a>"
   ]
  },
  {
   "cell_type": "code",
   "execution_count": null,
   "metadata": {},
   "outputs": [],
   "source": [
    "# Instanciando o modelo\n",
    "nnet = MLPRegressor(random_state = 0)\n",
    "\n",
    "# Ajustando o modelo\n",
    "modelo_nnet2 = nnet.fit(X_train2, y_train2)\n",
    "\n",
    "# Fazendo as predicoes\n",
    "predicao_nnet2 = modelo_nnet2.predict(X_test2)\n",
    "\n",
    "print('MLP')\n",
    "# r2 dos dados de treino\n",
    "print('R² do treino = {}'.format(modelo_nnet2.score(X_train2, y_train2).round(2)))\n",
    "\n",
    "# r2 dos dados de teste\n",
    "print('R² do teste = %s' % metrics.r2_score(y_test2, predicao_nnet2).round(2))"
   ]
  },
  {
   "cell_type": "code",
   "execution_count": null,
   "metadata": {},
   "outputs": [],
   "source": [
    "predictions_mlp2 = pd.DataFrame(y_test2, columns=['Compensada'])\n",
    "predictions_mlp2.index = X_test2.index\n",
    "\n",
    "predicao_nnet2 = pd.DataFrame(predicao_nnet2)\n",
    "predicao_nnet2.index = X_test2.index\n",
    "\n",
    "predictions_mlp2['Predição MLP'] = predicao_xgb2"
   ]
  },
  {
   "cell_type": "code",
   "execution_count": null,
   "metadata": {},
   "outputs": [],
   "source": [
    "fig15 = go.Figure()\n",
    "\n",
    "# Configurando o grafico de linhas\n",
    "fig15.add_trace(go.Scatter(x = predictions_mlp2.index, y = predictions_mlp2['Compensada'], mode = 'lines + markers', name = 'Compensada', marker_color = '#266B6E'))\n",
    "fig15.add_trace(go.Scatter(x = predictions_mlp2.index, y = predictions_mlp2['Predição MLP'], mode = 'lines + markers', name = 'Predição MLP', marker_color = '#FF007D'))\n",
    "\n",
    "# Configurando o titulo do grafico\n",
    "fig15.update_layout(title_text = f'Energia Compensada -  2',\n",
    "                  title_font_size = 30,\n",
    "                  title_x = 0.5)\n",
    "\n",
    "# Configurando o titulo dos eixos\n",
    "fig15.update_layout(xaxis_title_font_size = 18,\n",
    "                  yaxis_title = 'Quantidade de Energia',\n",
    "                  yaxis_title_font_size = 18,\n",
    "                  showlegend = True,\n",
    "                  legend_title = 'Legenda')\n",
    "\n",
    "# Exibindo as grades de fundo\n",
    "fig15.update_xaxes(showgrid = True)\n",
    "\n",
    "# Plotando o grafico\n",
    "fig15.show()"
   ]
  },
  {
   "cell_type": "code",
   "execution_count": null,
   "metadata": {},
   "outputs": [],
   "source": [
    "erros_mlp2 = pd.DataFrame({'Métricas avaliadas': ['MAE', 'MAPE', 'WMAPE', 'MSE', 'RMSE'],\n",
    "                          'Valores obtidos': [round(mean_absolute_error(y_test2, predicao_nnet2), 2),\n",
    "                                              round(mean_absolute_percentage_error(y_test2, predicao_nnet2) * 100, 2),\n",
    "                                              round(mean_absolute_percentage_error(y_test2, predicao_nnet2, sample_weight = y_test2) * 100, 2),\n",
    "                                              round(mean_squared_error(y_test2, predicao_nnet2, squared = True), 2),\n",
    "                                              round(mean_squared_error(y_test2, predicao_nnet2, squared = False), 2)]},\n",
    "                        index = range(0, 5))\n",
    "\n",
    "erros_mlp2"
   ]
  },
  {
   "cell_type": "markdown",
   "metadata": {},
   "source": [
    "### <b>2.2.7 Random Forest </b> <a class = \"anchor\" id = \"chapter_2_2_7\"></a>"
   ]
  },
  {
   "cell_type": "code",
   "execution_count": null,
   "metadata": {},
   "outputs": [],
   "source": [
    "# Instanciando o modelo\n",
    "rf = RandomForestRegressor(random_state = 0)\n",
    "\n",
    "# Ajustando o modelo\n",
    "model_rf2 = rf.fit(X_train2, y_train2)\n",
    "\n",
    "# Fazendo as predicoes\n",
    "predicao_rf2 = model_rf2.predict(X_test2)\n",
    "\n",
    "print('\\n')\n",
    "\n",
    "print('RANDOM FOREST')\n",
    "# r2 dos dados de treino\n",
    "print('R² do treino = {}'.format(model_rf2.score(X_train2, y_train2).round(2)))\n",
    "\n",
    "# r2 dos dados de teste\n",
    "print('R² do teste = %s' % metrics.r2_score(y_test2, predicao_rf2).round(2))"
   ]
  },
  {
   "cell_type": "code",
   "execution_count": null,
   "metadata": {},
   "outputs": [],
   "source": [
    "predictions_rf2 = pd.DataFrame(y_test2, columns=['Compensada'])\n",
    "predictions_rf2.index = X_test2.index\n",
    "\n",
    "predicao_rf2 = pd.DataFrame(predicao_rf2)\n",
    "predicao_rf2.index = X_test2.index\n",
    "\n",
    "predictions_rf2['Predição Random Forest'] = predicao_rf1"
   ]
  },
  {
   "cell_type": "code",
   "execution_count": null,
   "metadata": {},
   "outputs": [],
   "source": [
    "fig16 = go.Figure()\n",
    "\n",
    "# Configurando o grafico de linhas\n",
    "fig16.add_trace(go.Scatter(x = predictions_rf1.index, y = predictions_rf1['Compensada'], mode = 'lines + markers', name = 'Compensada', marker_color = '#266B6E'))\n",
    "fig16.add_trace(go.Scatter(x = predictions_rf1.index, y = predictions_rf1['Predição Random Forest'], mode = 'lines + markers', name = 'Predição Random Forest', marker_color = '#FF007D'))\n",
    "\n",
    "# Configurando o titulo do grafico\n",
    "fig16.update_layout(title_text = f'Energia Compensada -  2',\n",
    "                  title_font_size = 30,\n",
    "                  title_x = 0.5)\n",
    "\n",
    "# Configurando o titulo dos eixos\n",
    "fig16.update_layout(xaxis_title_font_size = 18,\n",
    "                  yaxis_title = 'Quantidade de Energia',\n",
    "                  yaxis_title_font_size = 18,\n",
    "                  showlegend = True,\n",
    "                  legend_title = 'Legenda')\n",
    "\n",
    "# Exibindo as grades de fundo\n",
    "fig16.update_xaxes(showgrid = True)\n",
    "\n",
    "# Plotando o grafico\n",
    "fig16.show()"
   ]
  },
  {
   "cell_type": "code",
   "execution_count": null,
   "metadata": {},
   "outputs": [],
   "source": [
    "erros_rf2 = pd.DataFrame({'Métricas avaliadas': ['MAE', 'MAPE', 'WMAPE', 'MSE', 'RMSE'],\n",
    "                          'Valores obtidos': [round(mean_absolute_error(y_test2, predicao_rf2), 2),\n",
    "                                              round(mean_absolute_percentage_error(y_test2, predicao_rf2) * 100, 2),\n",
    "                                              round(mean_absolute_percentage_error(y_test2, predicao_rf2, sample_weight = y_test2) * 100, 2),\n",
    "                                              round(mean_squared_error(y_test2, predicao_rf2, squared = True), 2),\n",
    "                                              round(mean_squared_error(y_test2, predicao_rf2, squared = False), 2)]},\n",
    "                        index = range(0, 5))\n",
    "\n",
    "erros_rf2 "
   ]
  },
  {
   "cell_type": "markdown",
   "metadata": {},
   "source": [
    "### <b>2.2.8 Regressão Linear </b> <a class = \"anchor\" id = \"chapter_2_2_8\"></a>"
   ]
  },
  {
   "cell_type": "code",
   "execution_count": null,
   "metadata": {},
   "outputs": [],
   "source": [
    "# Instanciando o modelo \n",
    "rl = LinearRegression()\n",
    "\n",
    "# Ajustando o modelo\n",
    "modelo_rl2 = rl.fit(X_train2, y_train2)\n",
    "\n",
    "# Fazendo as predicoes\n",
    "predicao_rl2 = modelo_rl2.predict(X_test2)\n",
    "\n",
    "print('REGRESSÃO LINEAR')\n",
    "# r2 dos dados de treino\n",
    "print('R² do treino = {}'.format(modelo_rl2.score(X_train2, y_train2).round(2)))\n",
    "\n",
    "# r2 dos dados de teste\n",
    "print('R² do teste = %s' % metrics.r2_score(y_test2, predicao_rl2).round(2))"
   ]
  },
  {
   "cell_type": "code",
   "execution_count": null,
   "metadata": {},
   "outputs": [],
   "source": [
    "predictions_rl2 = pd.DataFrame(y_test2, columns=['Compensada'])\n",
    "predictions_rl2.index = X_test2.index\n",
    "\n",
    "predicao_rl2 = pd.DataFrame(predicao_rl2)\n",
    "predicao_rl2.index = X_test2.index\n",
    "\n",
    "predictions_rl2['Predição Regressão Linear'] = predicao_rl2"
   ]
  },
  {
   "cell_type": "code",
   "execution_count": null,
   "metadata": {},
   "outputs": [],
   "source": [
    "fig17 = go.Figure()\n",
    "\n",
    "# Configurando o grafico de linhas\n",
    "fig17.add_trace(go.Scatter(x = predictions_rl2.index, y = predictions_rl2['Compensada'], mode = 'lines + markers', name = 'Compensada', marker_color = '#266B6E'))\n",
    "fig17.add_trace(go.Scatter(x = predictions_rl2.index, y = predictions_rl2['Predição Regressão Linear'], mode = 'lines + markers', name = 'Predição Regressão Linear', marker_color = '#FF007D'))\n",
    "\n",
    "# Configurando o titulo do grafico\n",
    "fig17.update_layout(title_text = f'Energia Compensada -  2',\n",
    "                  title_font_size = 30,\n",
    "                  title_x = 0.5)\n",
    "\n",
    "# Configurando o titulo dos eixos\n",
    "fig17.update_layout(xaxis_title_font_size = 18,\n",
    "                  yaxis_title = 'Quantidade de Energia',\n",
    "                  yaxis_title_font_size = 18,\n",
    "                  showlegend = True,\n",
    "                  legend_title = 'Legenda')\n",
    "\n",
    "# Exibindo as grades de fundo\n",
    "fig17.update_xaxes(showgrid = True)\n",
    "\n",
    "# Plotando o grafico\n",
    "fig17.show()"
   ]
  },
  {
   "cell_type": "code",
   "execution_count": null,
   "metadata": {},
   "outputs": [],
   "source": [
    "erros_rl2 = pd.DataFrame({'Métricas avaliadas': ['MAE', 'MAPE', 'WMAPE', 'MSE', 'RMSE'],\n",
    "                          'Valores obtidos': [round(mean_absolute_error(y_test2, predicao_rl2), 2),\n",
    "                                              round(mean_absolute_percentage_error(y_test2, predicao_rl2) * 100, 2),\n",
    "                                              round(mean_absolute_percentage_error(y_test2, predicao_rl2, sample_weight = y_test2) * 100, 2),\n",
    "                                              round(mean_squared_error(y_test2, predicao_rl2, squared = True), 2),\n",
    "                                              round(mean_squared_error(y_test2, predicao_rl2, squared = False), 2)]},\n",
    "                        index = range(0, 5))\n",
    "\n",
    "erros_rl2"
   ]
  },
  {
   "cell_type": "markdown",
   "metadata": {},
   "source": [
    "### <b>2.3. Usina 3 </b> <a class = \"anchor\" id = \"chapter_2_3\"></a>"
   ]
  },
  {
   "cell_type": "code",
   "execution_count": null,
   "metadata": {},
   "outputs": [],
   "source": [
    "usina3 = df[df['Usina'] == '3'].groupby('Competência').agg({'Compensada':'sum', 'Acumulado':'sum', \n",
    "                                                             'Energia_Ativa':'sum'})\n",
    "\n",
    "usina3"
   ]
  },
  {
   "cell_type": "code",
   "execution_count": null,
   "metadata": {},
   "outputs": [],
   "source": [
    "# Descricao estatistica dos dados\n",
    "\n",
    "usina3.describe()"
   ]
  },
  {
   "cell_type": "code",
   "execution_count": null,
   "metadata": {},
   "outputs": [],
   "source": [
    "fig18 = go.Figure()\n",
    "\n",
    "# Configurando o gráfico de barras\n",
    "fig18.add_trace(go.Bar(x = usina3.index,\n",
    "                     y = usina3['Compensada'],\n",
    "                     text = usina3['Compensada'],\n",
    "                     name = 'Gráfico de barras',\n",
    "                     textposition = 'inside',\n",
    "                     textfont_size = 12,\n",
    "                     marker_color = '#266B6E'))\n",
    "\n",
    "# Configurando o gráfico de linhas\n",
    "fig18.add_trace(go.Scatter(x = usina3.index,\n",
    "                         y = usina3['Compensada'],\n",
    "                         name = 'Gráfico de linhas',\n",
    "                         mode = 'lines + markers',\n",
    "                         marker_color = 'red'))\n",
    "\n",
    "\n",
    "# Configurando o título do gráfico\n",
    "fig18.update_layout(title_text = f'Energia Compensada - 3',\n",
    "                  title_font_size = 30,\n",
    "                  title_x = 0.5)\n",
    "\n",
    "# Configurando o título dos eixos\n",
    "fig18.update_layout(yaxis_title = 'Quantidade de energia',\n",
    "                  yaxis_title_font_size = 18,\n",
    "                  xaxis_title = 'Meses',\n",
    "                  showlegend = False)\n",
    "\n",
    "# Exibindo as grades de fundo\n",
    "fig18.update_xaxes(showgrid = True)\n",
    "\n",
    "# Plotando o gráfico\n",
    "fig18.show()"
   ]
  },
  {
   "cell_type": "markdown",
   "metadata": {},
   "source": [
    "### <b>2.3.1. LSTM</b> <a class = \"anchor\" id = \"chapter_2_3_1\"></a>"
   ]
  },
  {
   "cell_type": "code",
   "execution_count": null,
   "metadata": {},
   "outputs": [],
   "source": [
    "# Copia do dataset principal\n",
    "\n",
    "usina3_lstm = usina3.copy(deep = True)"
   ]
  },
  {
   "cell_type": "code",
   "execution_count": null,
   "metadata": {},
   "outputs": [],
   "source": [
    "# Separando quais dados serao utilizados para rodar o modelo\n",
    "\n",
    "usina3_lstm = usina3_lstm.loc[:,['Compensada']]\n",
    "usina3_lstm"
   ]
  },
  {
   "cell_type": "code",
   "execution_count": null,
   "metadata": {},
   "outputs": [],
   "source": [
    "# Definindo a frequencia dos dados\n",
    "\n",
    "usina3_lstm = usina3_lstm.asfreq('MS')"
   ]
  },
  {
   "cell_type": "code",
   "execution_count": null,
   "metadata": {},
   "outputs": [],
   "source": [
    "# Normalizando os dados\n",
    "\n",
    "scaler_lstm = MinMaxScaler(feature_range = (0, 1))\n",
    "data_lstm3 = scaler_lstm.fit_transform(usina3_lstm)"
   ]
  },
  {
   "cell_type": "code",
   "execution_count": null,
   "metadata": {},
   "outputs": [],
   "source": [
    "# Dividindo os dados em conjuntos de treino e teste\n",
    "\n",
    "train_size_lstm3 = int(len(data_lstm3) * 0.7)               #70% para treino e 30% para teste\n",
    "training_set_lstm3, test_set_lstm3 = data_lstm3[:train_size_lstm3], data_lstm3[train_size_lstm3:]"
   ]
  },
  {
   "cell_type": "code",
   "execution_count": null,
   "metadata": {},
   "outputs": [],
   "source": [
    "# Verificando as dimensoes dos conjuntos\n",
    "\n",
    "training_set_lstm3.shape, test_set_lstm3.shape"
   ]
  },
  {
   "cell_type": "code",
   "execution_count": null,
   "metadata": {},
   "outputs": [],
   "source": [
    "# Atribuindo valor a janela deslizante\n",
    "\n",
    "lookback_window = 1"
   ]
  },
  {
   "cell_type": "code",
   "execution_count": null,
   "metadata": {},
   "outputs": [],
   "source": [
    "# Criando a funcao de janela deslizante\n",
    "\n",
    "def create_dataset(data, lookback_window):\n",
    "    X, y = [], []\n",
    "\n",
    "    for i in range(len(data) - lookback_window):\n",
    "        X.append(data[i:(i + lookback_window), :])\n",
    "        y.append(data[i + lookback_window, 0])\n",
    "\n",
    "    return np.array(X), np.array(y)"
   ]
  },
  {
   "cell_type": "code",
   "execution_count": null,
   "metadata": {},
   "outputs": [],
   "source": [
    "# Ajustando os conjuntos de treino e teste\n",
    "\n",
    "X_train_lstm3, y_train_lstm3 = create_dataset(training_set_lstm3, lookback_window)\n",
    "X_test_lstm3, y_test_lstm3 = create_dataset(test_set_lstm3, lookback_window)"
   ]
  },
  {
   "cell_type": "code",
   "execution_count": null,
   "metadata": {},
   "outputs": [],
   "source": [
    "# Verificando as dimensoes dos conjuntos\n",
    "\n",
    "X_test_lstm3.shape, y_test_lstm3.shape"
   ]
  },
  {
   "cell_type": "code",
   "execution_count": null,
   "metadata": {},
   "outputs": [],
   "source": [
    "# Ajustando parametros do modelo LSTM\n",
    "\n",
    "best_model_lstm = Sequential()\n",
    "best_model_lstm.add(LSTM(4, input_shape = (lookback_window, 1)))\n",
    "best_model_lstm.add(Dense(1))\n",
    "best_model_lstm.compile(loss = 'mean_squared_error', optimizer = 'adam', run_eagerly=True)\n",
    "\n",
    "history_lstm3 = best_model_lstm.fit(X_train_lstm3,\n",
    "                                   y_train_lstm3,\n",
    "                                   epochs = 60,\n",
    "                                   batch_size = 1,\n",
    "                                   validation_split = 0.2,\n",
    "                                   verbose = 2)"
   ]
  },
  {
   "cell_type": "code",
   "execution_count": null,
   "metadata": {},
   "outputs": [],
   "source": [
    "# Rodando modelo para conjunto de teste\n",
    "\n",
    "y_pred_lstm3 = best_model_lstm.predict(X_test_lstm3)\n",
    "\n",
    "y_pred_lstm3 = scaler_lstm.inverse_transform(y_pred_lstm3)\n",
    "y_test_lstm3 = scaler_lstm.inverse_transform(y_test_lstm3.reshape(-1, 1))"
   ]
  },
  {
   "cell_type": "code",
   "execution_count": null,
   "metadata": {},
   "outputs": [],
   "source": [
    "# Criando dataframe com as predicoes\n",
    "\n",
    "timestamp3 = pd.DataFrame(usina3_lstm.index[-len(X_test_lstm3):])\n",
    "\n",
    "y_test_df_lstm3 = pd.concat([timestamp3, pd.DataFrame(y_test_lstm3)], axis = 1).rename(columns = {0: 'Compensada'}).dropna()\n",
    "y_pred_df_lstm3 = pd.concat([timestamp3, pd.DataFrame(y_pred_lstm3)], axis = 1).rename(columns = {0: 'Compensada_predito'}).dropna()\n",
    "\n",
    "\n",
    "# Ajuste nas datas para corresponderem às datas reais dos registros de teste\n",
    "\n",
    "y_test_df_lstm3.index = usina3_lstm.index[-len(X_test_lstm3):]\n",
    "y_pred_df_lstm3.index = usina3_lstm.index[-len(X_test_lstm3):]"
   ]
  },
  {
   "cell_type": "code",
   "execution_count": null,
   "metadata": {},
   "outputs": [],
   "source": [
    "fig19 = go.Figure()\n",
    "\n",
    "# Configurando o gráfico de linhas\n",
    "fig19.add_trace(go.Scatter(x = y_test_df_lstm3['Competência'], y = y_test_df_lstm3['Compensada'], mode = 'lines + markers', name = 'Compensada', marker_color = '#266B6E'))\n",
    "fig19.add_trace(go.Scatter(x = y_pred_df_lstm3['Competência'], y = y_pred_df_lstm3['Compensada_predito'], mode = 'lines + markers', name = 'Predição LSTM', marker_color = '#FF007D'))\n",
    "\n",
    "# Configurando o título do gráfico\n",
    "fig19.update_layout(title_text = f'Energia Compensada - 3',\n",
    "                  title_font_size = 30,\n",
    "                  title_x = 0.5)\n",
    "\n",
    "# Configurando o título dos eixos\n",
    "fig19.update_layout(xaxis_title_font_size = 18,\n",
    "                  yaxis_title = 'Quantidade de Energia',\n",
    "                  yaxis_title_font_size = 18,\n",
    "                  showlegend = True,\n",
    "                  legend_title = 'Legenda')\n",
    "\n",
    "# Exibindo as grades de fundo\n",
    "fig19.update_xaxes(showgrid = True)\n",
    "\n",
    "# Plotando o gráfico\n",
    "fig19.show()"
   ]
  },
  {
   "cell_type": "code",
   "execution_count": null,
   "metadata": {},
   "outputs": [],
   "source": [
    "# Obtendo metricas de avaliacao\n",
    "\n",
    "erros_lstm3 = pd.DataFrame({'Métricas avaliadas': ['MAE', 'MAPE', 'WMAPE', 'MSE', 'RMSE'],\n",
    "                                'Valores obtidos': [round(mean_absolute_error(y_test_lstm3, y_pred_lstm3), 2),\n",
    "                                                    round(mean_absolute_percentage_error(y_test_lstm3, y_pred_lstm3) * 100, 2),\n",
    "                                                    round(mean_absolute_percentage_error(y_test_lstm3, y_pred_lstm3, sample_weight = y_test_lstm3) * 100, 2),\n",
    "                                                    round(mean_squared_error(y_test_lstm3, y_pred_lstm3, squared = True), 2),\n",
    "                                                    round(mean_squared_error(y_test_lstm3, y_pred_lstm3, squared = False), 2)]},\n",
    "                            index = range(0, 5))\n",
    "\n",
    "erros_lstm3 "
   ]
  },
  {
   "cell_type": "markdown",
   "metadata": {},
   "source": [
    "### <b>2.3.2. Holt-Winters</b> <a class = \"anchor\" id = \"chapter_2_3_2\"></a>"
   ]
  },
  {
   "cell_type": "code",
   "execution_count": null,
   "metadata": {},
   "outputs": [],
   "source": [
    "# Copia do dataset principal\n",
    "\n",
    "usina3_holtw = usina3.copy(deep = True)"
   ]
  },
  {
   "cell_type": "code",
   "execution_count": null,
   "metadata": {},
   "outputs": [],
   "source": [
    "# Separando quais dados serao utilizados para rodar o modelo\n",
    "\n",
    "usina3_holtw = usina3_holtw.loc[:,['Compensada']]"
   ]
  },
  {
   "cell_type": "code",
   "execution_count": null,
   "metadata": {},
   "outputs": [],
   "source": [
    "# Definindo a frequencia dos dados\n",
    "\n",
    "usina3_holtw = usina3_holtw.asfreq('MS')"
   ]
  },
  {
   "cell_type": "code",
   "execution_count": null,
   "metadata": {},
   "outputs": [],
   "source": [
    "# Dividindo dados em conjunto de treino (70%)\n",
    "\n",
    "training_set_holtwinters3 = usina3_holtw.iloc[:-4, :]\n",
    "training_set_holtwinters3"
   ]
  },
  {
   "cell_type": "code",
   "execution_count": null,
   "metadata": {},
   "outputs": [],
   "source": [
    "# Dividindo dados em conjunto de teste (30%)\n",
    "\n",
    "test_set_holtwinters3 = usina3_holtw.iloc[-4:, :]\n",
    "test_set_holtwinters3"
   ]
  },
  {
   "cell_type": "code",
   "execution_count": null,
   "metadata": {},
   "outputs": [],
   "source": [
    "# Aplicando o modelo\n",
    "\n",
    "model_holtwinters3 = ExponentialSmoothing(endog = training_set_holtwinters3['Compensada'],     \n",
    "                                         trend = 'add',                             \n",
    "                                         seasonal = 'add',\n",
    "                                         seasonal_periods = 4).fit() "
   ]
  },
  {
   "cell_type": "code",
   "execution_count": null,
   "metadata": {},
   "outputs": [],
   "source": [
    "predictions_holtwinters3 = pd.Series(model_holtwinters3.forecast(steps = len(test_set_holtwinters3))).rename('HW')\n",
    "predictions_holtwinters3.index = test_set_holtwinters3.index"
   ]
  },
  {
   "cell_type": "code",
   "execution_count": null,
   "metadata": {},
   "outputs": [],
   "source": [
    "fig20 = go.Figure()\n",
    "\n",
    "# Configurando o gráfico de linhas\n",
    "fig20.add_trace(go.Scatter(x = test_set_holtwinters3.index, y = test_set_holtwinters3['Compensada'], mode = 'lines + markers', name = 'Compensada', marker_color = '#266B6E'))\n",
    "fig20.add_trace(go.Scatter(x = predictions_holtwinters3.index, y = predictions_holtwinters3, mode = 'lines + markers', name = 'Predição Holt-Winters', marker_color = '#FF007D'))\n",
    "\n",
    "# Configurando o título do gráfico\n",
    "fig20.update_layout(title_text = f'Energia Compensada - 3',\n",
    "                  title_font_size = 30,\n",
    "                  title_x = 0.5)\n",
    "\n",
    "# Configurando o título dos eixos\n",
    "fig20.update_layout(xaxis_title_font_size = 18,\n",
    "                  yaxis_title = 'Quantidade de Energia',\n",
    "                  yaxis_title_font_size = 18,\n",
    "                  showlegend = True,\n",
    "                  legend_title = 'Legenda')\n",
    "\n",
    "# Exibindo as grades de fundo\n",
    "fig20.update_xaxes(showgrid = True)\n",
    "\n",
    "# Plotando o gráfico\n",
    "fig20.show()"
   ]
  },
  {
   "cell_type": "code",
   "execution_count": null,
   "metadata": {},
   "outputs": [],
   "source": [
    "erros_hw3 = pd.DataFrame({'Métricas avaliadas': ['MAE', 'MAPE', 'WMAPE', 'MSE', 'RMSE'],\n",
    "                        'Valores obtidos': [round(mean_absolute_error(test_set_holtwinters3['Compensada'], predictions_holtwinters3), 2),\n",
    "                                            round(mean_absolute_percentage_error(test_set_holtwinters3['Compensada'], predictions_holtwinters3) * 100, 2),\n",
    "                                            round(mean_absolute_percentage_error(test_set_holtwinters3['Compensada'], predictions_holtwinters3, sample_weight = test_set_holtwinters3['Compensada']) * 100, 2),\n",
    "                                            round(mean_squared_error(test_set_holtwinters3['Compensada'], predictions_holtwinters3, squared = True), 2),\n",
    "                                            round(mean_squared_error(test_set_holtwinters3['Compensada'], predictions_holtwinters3, squared = False), 2)]},\n",
    "                        index = range(0, 5))\n",
    "\n",
    "erros_hw3"
   ]
  },
  {
   "cell_type": "markdown",
   "metadata": {},
   "source": [
    "### <b>2.3.3 SARIMAX </b> <a class = \"anchor\" id = \"chapter_2_3_3\"></a>"
   ]
  },
  {
   "cell_type": "code",
   "execution_count": null,
   "metadata": {},
   "outputs": [],
   "source": [
    "# Copia do dataset principal\n",
    "\n",
    "usina3_sarimax = usina3.copy(deep = True)"
   ]
  },
  {
   "cell_type": "code",
   "execution_count": null,
   "metadata": {},
   "outputs": [],
   "source": [
    "# Definindo a frequencia dos dados\n",
    "\n",
    "usina3_sarimax = usina3_sarimax.asfreq('MS')"
   ]
  },
  {
   "cell_type": "code",
   "execution_count": null,
   "metadata": {},
   "outputs": [],
   "source": [
    "# Definindo o conjunto de treino (70%)\n",
    "\n",
    "training_set_sarimax3 = usina3_sarimax.iloc[:-4, :]\n",
    "training_set_sarimax3"
   ]
  },
  {
   "cell_type": "code",
   "execution_count": null,
   "metadata": {},
   "outputs": [],
   "source": [
    "# Definindo o conjunto de teste (30%)\n",
    "\n",
    "test_set_sarimax3 = usina3_sarimax.iloc[-4:, :]\n",
    "test_set_sarimax3"
   ]
  },
  {
   "cell_type": "code",
   "execution_count": null,
   "metadata": {},
   "outputs": [],
   "source": [
    "# Definindo as variaveis exogenas de treino\n",
    "\n",
    "train_exog_sarimax3 = training_set_sarimax3.iloc[:, 1:]\n",
    "train_exog_sarimax3"
   ]
  },
  {
   "cell_type": "code",
   "execution_count": null,
   "metadata": {},
   "outputs": [],
   "source": [
    "# Definindo as variaveis exogenas de teste\n",
    "\n",
    "test_exog_sarimax3 = test_set_sarimax3.iloc[:, 1:]\n",
    "test_exog_sarimax3"
   ]
  },
  {
   "cell_type": "code",
   "execution_count": null,
   "metadata": {},
   "outputs": [],
   "source": [
    "# Aplicando o modelo\n",
    "\n",
    "model_sarimax3 = auto_arima(y = training_set_sarimax3['Compensada'],\n",
    "                           X = train_exog_sarimax3,\n",
    "                           m = 2,                   # Período anual: 12 meses (ajustar de acordo com a frequência escolhida anteriormente)\n",
    "                           seasonal = True,\n",
    "                           stepwise = False)"
   ]
  },
  {
   "cell_type": "code",
   "execution_count": null,
   "metadata": {},
   "outputs": [],
   "source": [
    "model_sarimax3.summary()"
   ]
  },
  {
   "cell_type": "code",
   "execution_count": null,
   "metadata": {},
   "outputs": [],
   "source": [
    "predictions_sarimax3 = pd.Series(model_sarimax3.predict(n_periods = 4, X = test_exog_sarimax3)).rename('SARIMAX')\n",
    "predictions_sarimax3.index = test_set_sarimax3.index"
   ]
  },
  {
   "cell_type": "code",
   "execution_count": null,
   "metadata": {},
   "outputs": [],
   "source": [
    "fig21 = go.Figure()\n",
    "\n",
    "# Configurando o grafico de linhas\n",
    "fig21.add_trace(go.Scatter(x = test_set_sarimax3.index, y = test_set_sarimax3['Compensada'], mode = 'lines + markers', name = 'Compensada', marker_color = '#266B6E'))\n",
    "fig21.add_trace(go.Scatter(x = predictions_sarimax3.index, y = predictions_sarimax3, mode = 'lines + markers', name = 'Predição Sarimax', marker_color = '#FF007D'))\n",
    "\n",
    "\n",
    "# Configurando o titulo do grafico\n",
    "fig21.update_layout(title_text = f'Energia Compensada - 3',\n",
    "                  title_font_size = 30,\n",
    "                  title_x = 0.5)\n",
    "\n",
    "# Configurando o titulo dos eixos\n",
    "fig21.update_layout(xaxis_title_font_size = 18,\n",
    "                  yaxis_title = 'Quantidade de Energia',\n",
    "                  yaxis_title_font_size = 18,\n",
    "                  showlegend = True,\n",
    "                  legend_title = 'Legenda')\n",
    "\n",
    "# Exibindo as grades de fundo\n",
    "fig21.update_xaxes(showgrid = True)\n",
    "\n",
    "# Plotando o grafico\n",
    "fig21.show()"
   ]
  },
  {
   "cell_type": "code",
   "execution_count": null,
   "metadata": {},
   "outputs": [],
   "source": [
    "# Calculando os erros\n",
    "\n",
    "erros_sm3 = pd.DataFrame({'Métricas avaliadas': ['MAE', 'MAPE', 'WMAPE', 'MSE', 'RMSE'],\n",
    "                        'Valores obtidos': [round(mean_absolute_error(test_set_sarimax3['Compensada'], predictions_sarimax3), 2),\n",
    "                                            round(mean_absolute_percentage_error(test_set_sarimax3['Compensada'], predictions_sarimax3) * 100, 2),\n",
    "                                            round(mean_absolute_percentage_error(test_set_sarimax3['Compensada'], predictions_sarimax3, sample_weight = test_set_sarimax3['Compensada']) * 100, 2),\n",
    "                                            round(mean_squared_error(test_set_sarimax3['Compensada'], predictions_sarimax3, squared = True), 2),\n",
    "                                            round(mean_squared_error(test_set_sarimax3['Compensada'], predictions_sarimax3, squared = False), 2)]},\n",
    "                        index = range(0, 5))\n",
    "\n",
    "erros_sm3"
   ]
  },
  {
   "cell_type": "markdown",
   "metadata": {},
   "source": [
    "### <b>2.3.4. TensorFlow</b> <a class = \"anchor\" id = \"chapter_2_3_4\"></a>"
   ]
  },
  {
   "cell_type": "code",
   "execution_count": null,
   "metadata": {},
   "outputs": [],
   "source": [
    "# Copia do dataset principal\n",
    "\n",
    "usina3_tensorflow = usina3.copy(deep = True)"
   ]
  },
  {
   "cell_type": "code",
   "execution_count": null,
   "metadata": {},
   "outputs": [],
   "source": [
    "# Definindo a frequencia dos dados\n",
    "\n",
    "usina3_tensorflow = usina3_tensorflow.asfreq('MS')"
   ]
  },
  {
   "cell_type": "code",
   "execution_count": null,
   "metadata": {},
   "outputs": [],
   "source": [
    "# Definindo o conjunto de treino (70%)\n",
    "\n",
    "training_set_tensorflow3 = usina3_tensorflow.iloc[:-4, :]\n",
    "training_set_tensorflow3"
   ]
  },
  {
   "cell_type": "code",
   "execution_count": null,
   "metadata": {},
   "outputs": [],
   "source": [
    "# Definindo os conjuntos de teste (30%)\n",
    "\n",
    "test_set_tensorflow3 = usina3_tensorflow.iloc[-4:, :]\n",
    "test_set_tensorflow3"
   ]
  },
  {
   "cell_type": "code",
   "execution_count": null,
   "metadata": {},
   "outputs": [],
   "source": [
    "# Regressores\n",
    "\n",
    "exog_tensorflow3 = np.asmatrix(usina3_tensorflow.iloc[:, 1:].astype(np.float64))"
   ]
  },
  {
   "cell_type": "code",
   "execution_count": null,
   "metadata": {},
   "outputs": [],
   "source": [
    "# Aplicando o modelo\n",
    "\n",
    "regressors_tensorflow3 = tfp.sts.LinearRegression(design_matrix = exog_tensorflow3, name = 'regressors')"
   ]
  },
  {
   "cell_type": "code",
   "execution_count": null,
   "metadata": {},
   "outputs": [],
   "source": [
    "# Sazonalidade\n",
    "\n",
    "Compensada_tensorflow3 = training_set_tensorflow3['Compensada'].astype(np.float64)"
   ]
  },
  {
   "cell_type": "code",
   "execution_count": null,
   "metadata": {},
   "outputs": [],
   "source": [
    "monthly_effect_tensorflow3 = tfp.sts.Seasonal(num_seasons = 3,\n",
    "                                             num_steps_per_season = np.array([[4]]),\n",
    "                                             observed_time_series = Compensada_tensorflow3,\n",
    "                                             name = 'month_effect')"
   ]
  },
  {
   "cell_type": "code",
   "execution_count": null,
   "metadata": {},
   "outputs": [],
   "source": [
    "# Definindo a variavel autoregressive\n",
    "\n",
    "autoregressive_tensorflow3 = tfp.sts.Autoregressive(order = 1, observed_time_series = Compensada_tensorflow3, name = 'autoregressive')"
   ]
  },
  {
   "cell_type": "code",
   "execution_count": null,
   "metadata": {},
   "outputs": [],
   "source": [
    "# Definindo a variavel trend\n",
    "\n",
    "trend_tensorflow3 = tfp.sts.LocalLinearTrend(observed_time_series = Compensada_tensorflow3, name = 'trend')"
   ]
  },
  {
   "cell_type": "code",
   "execution_count": null,
   "metadata": {},
   "outputs": [],
   "source": [
    "# Aplicando o modelo novamente\n",
    "\n",
    "model_tensorflow3 = tfp.sts.Sum([regressors_tensorflow3,\n",
    "                                monthly_effect_tensorflow3,\n",
    "                                autoregressive_tensorflow3,\n",
    "                                trend_tensorflow3],\n",
    "                                observed_time_series = Compensada_tensorflow3)"
   ]
  },
  {
   "cell_type": "code",
   "execution_count": null,
   "metadata": {},
   "outputs": [],
   "source": [
    "samples_tensorflow3, kernel_results_tensorflow3 = tfp.sts.fit_with_hmc(model = model_tensorflow3,\n",
    "                                                                     observed_time_series = Compensada_tensorflow3,\n",
    "                                                                     num_results = 100,\n",
    "                                                                     num_warmup_steps = 50,\n",
    "                                                                     num_leapfrog_steps = 15,\n",
    "                                                                     num_variational_steps = 150,\n",
    "                                                                     seed = 1502)"
   ]
  },
  {
   "cell_type": "code",
   "execution_count": null,
   "metadata": {},
   "outputs": [],
   "source": [
    "forecast_tensorflow3 = tfp.sts.forecast(model = model_tensorflow3,\n",
    "                                       observed_time_series = Compensada_tensorflow3,\n",
    "                                       parameter_samples = samples_tensorflow3,\n",
    "                                       num_steps_forecast = len(test_set_tensorflow3))"
   ]
  },
  {
   "cell_type": "code",
   "execution_count": null,
   "metadata": {},
   "outputs": [],
   "source": [
    "predictions_tensorflow3 = pd.Series(forecast_tensorflow3.mean()[:, 0], name = 'TFP')\n",
    "predictions_tensorflow3.index = test_set_tensorflow3.index"
   ]
  },
  {
   "cell_type": "code",
   "execution_count": null,
   "metadata": {},
   "outputs": [],
   "source": [
    "fig22 = go.Figure()\n",
    "\n",
    "# Configurando o gráfico de linhas\n",
    "fig22.add_trace(go.Scatter(x = test_set_tensorflow3.index, y = test_set_tensorflow3['Compensada'], mode = 'lines + markers', name = 'Compensada', marker_color = '#266B6E'))\n",
    "fig22.add_trace(go.Scatter(x = predictions_tensorflow3.index, y = predictions_tensorflow3, mode = 'lines + markers', name = 'Predição Tensorflow', marker_color = '#FF007D'))\n",
    "\n",
    "# Configurando o título do gráfico\n",
    "fig22.update_layout(title_text = f'Energia Compensada - 3',\n",
    "                  title_font_size = 30,\n",
    "                  title_x = 0.5)\n",
    "\n",
    "# Configurando o título dos eixos\n",
    "fig22.update_layout(xaxis_title_font_size = 18,\n",
    "                  yaxis_title = 'Quantidade de Energia',\n",
    "                  yaxis_title_font_size = 18,\n",
    "                  showlegend = True,\n",
    "                  legend_title = 'Legenda')\n",
    "\n",
    "# Exibindo as grades de fundo\n",
    "fig22.update_xaxes(showgrid = True)\n",
    "\n",
    "# Plotando o gráfico\n",
    "fig22.show()"
   ]
  },
  {
   "cell_type": "code",
   "execution_count": null,
   "metadata": {},
   "outputs": [],
   "source": [
    "erros_tf3 = pd.DataFrame({'Métricas avaliadas': ['MAE', 'MAPE', 'WMAPE', 'MSE', 'RMSE'],\n",
    "                                 'Valores obtidos': [round(mean_absolute_error(test_set_tensorflow3['Compensada'], predictions_tensorflow3), 2),\n",
    "                                                     round(mean_absolute_percentage_error(test_set_tensorflow3['Compensada'], predictions_tensorflow3) * 100, 2),\n",
    "                                                     round(mean_absolute_percentage_error(test_set_tensorflow3['Compensada'], predictions_tensorflow3, sample_weight = test_set_tensorflow3['Compensada']) * 100, 2),\n",
    "                                                     round(mean_squared_error(test_set_tensorflow3['Compensada'], predictions_tensorflow3, squared = True), 2),\n",
    "                                                     round(mean_squared_error(test_set_tensorflow3['Compensada'], predictions_tensorflow3, squared = False), 2)]},\n",
    "                                index = range(0, 5))\n",
    "\n",
    "erros_tf3"
   ]
  },
  {
   "cell_type": "markdown",
   "metadata": {},
   "source": [
    "### <b>Organizando os dados para os modelos seguintes</b>"
   ]
  },
  {
   "cell_type": "code",
   "execution_count": null,
   "metadata": {},
   "outputs": [],
   "source": [
    "usina3_modelos = usina3.copy(deep = True)\n",
    "usina3_modelos"
   ]
  },
  {
   "cell_type": "code",
   "execution_count": null,
   "metadata": {},
   "outputs": [],
   "source": [
    "# Dividindo os dados em conjuntos de treino e teste a partir de um corte temporal\n",
    "\n",
    "df_train3 = usina3_modelos.loc[usina3_modelos.index < '2023-03-01']\n",
    "df_test3 = usina3_modelos.loc[usina3_modelos.index >= '2023-03-01']"
   ]
  },
  {
   "cell_type": "code",
   "execution_count": null,
   "metadata": {},
   "outputs": [],
   "source": [
    "# Separando os conjuntos X e Y de acordo com as colunas de dados\n",
    "\n",
    "X_train3 = df_train3[['Acumulado', 'Energia_Ativa']]\n",
    "\n",
    "y_train3 = df_train3['Compensada']\n",
    "y_train3 = np.array(y_train3).reshape(-1, 1)\n",
    "\n",
    "X_test3 = df_test3[['Acumulado', 'Energia_Ativa']]\n",
    "\n",
    "y_test3 = df_test3['Compensada']\n",
    "y_test3 = np.array(y_test3).reshape(-1, 1)"
   ]
  },
  {
   "cell_type": "markdown",
   "metadata": {},
   "source": [
    "### <b>2.3.5 XGBoost </b> <a class = \"anchor\" id = \"chapter_2_3_5\"></a>"
   ]
  },
  {
   "cell_type": "code",
   "execution_count": null,
   "metadata": {},
   "outputs": [],
   "source": [
    "# Instanciando o modelo\n",
    "modelo_xgb = xgb.XGBRegressor(random_state = 0, max_depth=2)\n",
    "\n",
    "# Ajustando o modelo\n",
    "modelo_xgb3 = modelo_xgb.fit(X_train3, y_train3)\n",
    "\n",
    "# Fazendo as predicoes\n",
    "predicao_xgb3 = modelo_xgb3.predict(X_test3)\n",
    "\n",
    "print('XGBoost')\n",
    "# r2 dos dados de treino\n",
    "print('R² do treino = {}'.format(modelo_xgb3.score(X_train3, y_train3)))\n",
    "\n",
    "# r2 dos dados de teste\n",
    "print('R² do teste = %s' % metrics.r2_score(y_test3, predicao_xgb3))\n",
    "\n",
    "# Erro medio quadratico dos dados de teste e preditos\n",
    "print('Raiz quadrada do erro médio quadrático dos resultados preditos = {}'.format(np.sqrt(mean_squared_error(y_test3, predicao_xgb3))))\n",
    "\n",
    "# Erro medio absoluto dos dados de teste e treino\n",
    "print('Erro médio absoluto dos resultados preditos = {}'.format(mean_absolute_error(y_test3, predicao_xgb3).round(2)))"
   ]
  },
  {
   "cell_type": "code",
   "execution_count": null,
   "metadata": {},
   "outputs": [],
   "source": [
    "#Verificando quais variaveis impactam mais o modelo\n",
    "\n",
    "fi3 = pd.DataFrame(data=modelo_xgb3.feature_importances_,\n",
    "             index=modelo_xgb3.feature_names_in_,\n",
    "             columns=['importância'])\n",
    "fi3.sort_values('importância').plot(kind='barh', title='Importância das Variáveis - 3')\n",
    "plt.show()"
   ]
  },
  {
   "cell_type": "code",
   "execution_count": null,
   "metadata": {},
   "outputs": [],
   "source": [
    "# Fazendo um gridsearch para encontrar os melhores parametros\n",
    "\n",
    "# Instanciando o modelo\n",
    "modelo_xgb = xgb.XGBRegressor(random_state = 0)\n",
    "\n",
    "# Definindo o espaço de busca dos hiperparametros\n",
    "param_grid = {'learning_rate': np.linspace(0.001, 0.1, num = 20), 'n_estimators': np.arange(100, 200, 10),\n",
    "               'max_depth': [2, 3, 4, 5]}\n",
    "\n",
    "# Chamando o griddsearch e fazendo a busca aleatoria de acordo com os hiperparametros fornecidos acima\n",
    "grid_search3 =  GridSearchCV(modelo_xgb, param_grid, scoring='neg_mean_squared_error', cv = 5)\n",
    "grid_search3.fit(X_train3, y_train3)\n",
    "\n",
    "# Acessando os melhores hiperparametros encontrados\n",
    "melhores_parametros3 = grid_search3.best_params_\n",
    "melhores_parametros3"
   ]
  },
  {
   "cell_type": "code",
   "execution_count": null,
   "metadata": {},
   "outputs": [],
   "source": [
    "#Rodando o modelo novamente, agora com os novos parametros encontrados\n",
    "\n",
    "# Instanciando o modelo\n",
    "modelo_xgb = xgb.XGBRegressor(random_state = 0, n_estimators = 100, max_depth = 3, learning_rate = 0.058)\n",
    "\n",
    "# Ajustando o modelo\n",
    "modelo_xgb3 = modelo_xgb.fit(X_train3, y_train3)\n",
    "\n",
    "# Fazendo as predicoes\n",
    "predicao_xgb3 = modelo_xgb3.predict(X_test3)\n",
    "\n",
    "print('XGBoost')\n",
    "# r2 dos dados de treino\n",
    "print('R² do treino = {}'.format(modelo_xgb3.score(X_train3, y_train3).round(2)))\n",
    "\n",
    "# r2 dos dados de teste\n",
    "print('R² do teste = %s' % metrics.r2_score(y_test3, predicao_xgb3).round(2))\n",
    "\n",
    "# Erro quadratico medio dos dados de teste e preditos\n",
    "print('Raiz quadrada do erro quadratico medio dos resultados preditos = {}'.format(np.sqrt(mean_squared_error(y_test3, predicao_xgb3)).round(2)))\n",
    "\n",
    "# Erro medio absoluto dos dados de teste e treino\n",
    "print('Erro medio absoluto dos resultados preditos = {}'.format(mean_absolute_error(y_test3, predicao_xgb3).round(2)))"
   ]
  },
  {
   "cell_type": "code",
   "execution_count": null,
   "metadata": {},
   "outputs": [],
   "source": [
    "predictions_xgb3 = pd.DataFrame(y_test3, columns=['Compensada'])\n",
    "predictions_xgb3.index = X_test1.index\n",
    "\n",
    "predicao_xgb3 = pd.DataFrame(predicao_xgb3)\n",
    "predicao_xgb3.index = X_test3.index\n",
    "\n",
    "predictions_xgb3['Predição XGB'] = predicao_xgb3"
   ]
  },
  {
   "cell_type": "code",
   "execution_count": null,
   "metadata": {},
   "outputs": [],
   "source": [
    "fig23 = go.Figure()\n",
    "\n",
    "# Configurando o grafico de linhas\n",
    "fig23.add_trace(go.Scatter(x = predictions_xgb3.index, y = predictions_xgb3['Compensada'], mode = 'lines + markers', name = 'Compensada', marker_color = '#266B6E'))\n",
    "fig23.add_trace(go.Scatter(x = predictions_xgb3.index, y = predictions_xgb3['Predição XGB'], mode = 'lines + markers', name = 'Predição XGBoost', marker_color = '#FF007D'))\n",
    "\n",
    "# Configurando o titulo do grafico\n",
    "fig23.update_layout(title_text = f'Energia Compensada - 3',\n",
    "                  title_font_size = 30,\n",
    "                  title_x = 0.5)\n",
    "\n",
    "# Configurando o titulo dos eixos\n",
    "fig23.update_layout(xaxis_title_font_size = 18,\n",
    "                  yaxis_title = 'Quantidade de Energia',\n",
    "                  yaxis_title_font_size = 18,\n",
    "                  showlegend = True,\n",
    "                  legend_title = 'Legenda')\n",
    "\n",
    "# Exibindo as grades de fundo\n",
    "fig23.update_xaxes(showgrid = True)\n",
    "\n",
    "# Plotando o grafico\n",
    "fig23.show()"
   ]
  },
  {
   "cell_type": "code",
   "execution_count": null,
   "metadata": {},
   "outputs": [],
   "source": [
    "erros_xgb3 = pd.DataFrame({'Métricas avaliadas': ['MAE', 'MAPE', 'WMAPE', 'MSE', 'RMSE'],\n",
    "                          'Valores obtidos': [round(mean_absolute_error(y_test3, predicao_xgb3), 2),\n",
    "                                              round(mean_absolute_percentage_error(y_test3, predicao_xgb3) * 100, 2),\n",
    "                                              round(mean_absolute_percentage_error(y_test3, predicao_xgb3, sample_weight = y_test3) * 100, 2),\n",
    "                                              round(mean_squared_error(y_test3, predicao_xgb3, squared = True), 2),\n",
    "                                              round(mean_squared_error(y_test3, predicao_xgb3, squared = False), 2)]},\n",
    "                        index = range(0, 5))\n",
    "\n",
    "erros_xgb3"
   ]
  },
  {
   "cell_type": "markdown",
   "metadata": {},
   "source": [
    "### <b>2.3.6 MLP </b> <a class = \"anchor\" id = \"chapter_2_3_6\"></a>"
   ]
  },
  {
   "cell_type": "code",
   "execution_count": null,
   "metadata": {},
   "outputs": [],
   "source": [
    "# Instanciando o modelo\n",
    "nnet = MLPRegressor(random_state = 0)\n",
    "\n",
    "# Ajustando o modelo\n",
    "modelo_nnet3 = nnet.fit(X_train3, y_train3)\n",
    "\n",
    "# Fazendo as predicoes\n",
    "predicao_nnet3 = modelo_nnet3.predict(X_test3)\n",
    "\n",
    "print('MLP')\n",
    "# r2 dos dados de treino\n",
    "print('R² do treino = {}'.format(modelo_nnet3.score(X_train3, y_train3).round(2)))\n",
    "\n",
    "# r2 dos dados de teste\n",
    "print('R² do teste = %s' % metrics.r2_score(y_test3, predicao_nnet3).round(2))"
   ]
  },
  {
   "cell_type": "code",
   "execution_count": null,
   "metadata": {},
   "outputs": [],
   "source": [
    "predictions_nnet3 = pd.DataFrame(y_test3, columns=['Compensada'])\n",
    "predictions_nnet3.index = X_test3.index\n",
    "\n",
    "predicao_nnet3 = pd.DataFrame(predicao_nnet3)\n",
    "predicao_nnet3.index = X_test3.index\n",
    "\n",
    "predictions_nnet3['Predição MLP'] = predicao_nnet3"
   ]
  },
  {
   "cell_type": "code",
   "execution_count": null,
   "metadata": {},
   "outputs": [],
   "source": [
    "fig24 = go.Figure()\n",
    "\n",
    "# Configurando o grafico de linhas\n",
    "fig24.add_trace(go.Scatter(x = predictions_nnet3.index, y = predictions_nnet3['Compensada'], mode = 'lines + markers', name = 'Compensada', marker_color = '#266B6E'))\n",
    "fig24.add_trace(go.Scatter(x = predictions_nnet3.index, y = predictions_nnet3['Predição MLP'], mode = 'lines + markers', name = 'Predição MLP', marker_color = '#FF007D'))\n",
    "\n",
    "# Configurando o titulo do grafico\n",
    "fig24.update_layout(title_text = f'Energia Compensada - 3',\n",
    "                  title_font_size = 30,\n",
    "                  title_x = 0.5)\n",
    "\n",
    "# Configurando o titulo dos eixos\n",
    "fig24.update_layout(xaxis_title_font_size = 18,\n",
    "                  yaxis_title = 'Quantidade de Energia',\n",
    "                  yaxis_title_font_size = 18,\n",
    "                  showlegend = True,\n",
    "                  legend_title = 'Legenda')\n",
    "\n",
    "# Exibindo as grades de fundo\n",
    "fig24.update_xaxes(showgrid = True)\n",
    "\n",
    "# Plotando o grafico\n",
    "fig24.show()"
   ]
  },
  {
   "cell_type": "code",
   "execution_count": null,
   "metadata": {},
   "outputs": [],
   "source": [
    "erros_mlp3 = pd.DataFrame({'Métricas avaliadas': ['MAE', 'MAPE', 'WMAPE', 'MSE', 'RMSE'],\n",
    "                          'Valores obtidos': [round(mean_absolute_error(y_test3, predicao_nnet3), 2),\n",
    "                                              round(mean_absolute_percentage_error(y_test3, predicao_nnet3) * 100, 2),\n",
    "                                              round(mean_absolute_percentage_error(y_test3, predicao_nnet3, sample_weight = y_test3) * 100, 2),\n",
    "                                              round(mean_squared_error(y_test3, predicao_nnet3, squared = True), 2),\n",
    "                                              round(mean_squared_error(y_test3, predicao_nnet3, squared = False), 2)]},\n",
    "                        index = range(0, 5))\n",
    "\n",
    "erros_mlp3\n"
   ]
  },
  {
   "cell_type": "markdown",
   "metadata": {},
   "source": [
    "### <b>2.3.7 Random Forest </b> <a class = \"anchor\" id = \"chapter_2_3_7\"></a>"
   ]
  },
  {
   "cell_type": "code",
   "execution_count": null,
   "metadata": {},
   "outputs": [],
   "source": [
    "# Instanciando o modelo\n",
    "rf = RandomForestRegressor(random_state = 0)\n",
    "\n",
    "# Ajustando o modelo\n",
    "model_rf3 = rf.fit(X_train3, y_train3)\n",
    "\n",
    "# Fazendo as predicoes\n",
    "predicao_rf3 = model_rf3.predict(X_test3)\n",
    "\n",
    "print('\\n')\n",
    "\n",
    "print('RANDOMFOREST')\n",
    "# r2 dos dados de treino\n",
    "print('R² do treino = {}'.format(model_rf3.score(X_train3, y_train3).round(2)))\n",
    "\n",
    "# r2 dos dados de teste\n",
    "print('R² do teste = %s' % metrics.r2_score(y_test3, predicao_rf3).round(2))"
   ]
  },
  {
   "cell_type": "code",
   "execution_count": null,
   "metadata": {},
   "outputs": [],
   "source": [
    "predictions_rf3 = pd.DataFrame(y_test3, columns=['Compensada'])\n",
    "predictions_rf3.index = X_test3.index\n",
    "\n",
    "predicao_rf3 = pd.DataFrame(predicao_rf3)\n",
    "predicao_rf3.index = X_test3.index\n",
    "\n",
    "predictions_rf3['Predição Random Forest'] = predicao_rf3"
   ]
  },
  {
   "cell_type": "code",
   "execution_count": null,
   "metadata": {},
   "outputs": [],
   "source": [
    "fig25 = go.Figure()\n",
    "\n",
    "# Configurando o grafico de linhas\n",
    "fig25.add_trace(go.Scatter(x = predictions_rf3.index, y = predictions_rf3['Compensada'], mode = 'lines + markers', name = 'Compensada', marker_color = '#266B6E'))\n",
    "fig25.add_trace(go.Scatter(x = predictions_rf3.index, y = predictions_rf3['Predição Random Forest'], mode = 'lines + markers', name = 'Predição Random Forest', marker_color = '#FF007D'))\n",
    "\n",
    "# Configurando o titulo do grafico\n",
    "fig25.update_layout(title_text = f'Energia Compensada - 3',\n",
    "                  title_font_size = 30\n",
    "                  title_x = 0.5)\n",
    "\n",
    "# Configurando o titulo dos eixos\n",
    "fig25.update_layout(xaxis_title_font_size = 18,\n",
    "                  yaxis_title = 'Quantidade de Energia',\n",
    "                  yaxis_title_font_size = 18,\n",
    "                  showlegend = True,\n",
    "                  legend_title = 'Legenda')\n",
    "\n",
    "# Exibindo as grades de fundo\n",
    "fig25.update_xaxes(showgrid = True)\n",
    "\n",
    "# Plotando o grafico\n",
    "fig25.show()"
   ]
  },
  {
   "cell_type": "code",
   "execution_count": null,
   "metadata": {},
   "outputs": [],
   "source": [
    "erros_rf3 = pd.DataFrame({'Métricas avaliadas': ['MAE', 'MAPE', 'WMAPE', 'MSE', 'RMSE'],\n",
    "                          'Valores obtidos': [round(mean_absolute_error(y_test3, predicao_rf3), 2),\n",
    "                                              round(mean_absolute_percentage_error(y_test3, predicao_rf3) * 100, 2),\n",
    "                                              round(mean_absolute_percentage_error(y_test3, predicao_rf3, sample_weight = y_test3) * 100, 2),\n",
    "                                              round(mean_squared_error(y_test3, predicao_rf3, squared = True), 2),\n",
    "                                              round(mean_squared_error(y_test3, predicao_rf3, squared = False), 2)]},\n",
    "                        index = range(0, 5))\n",
    "\n",
    "erros_rf3"
   ]
  },
  {
   "cell_type": "markdown",
   "metadata": {},
   "source": [
    "### <b>2.3.8 Regressão Linear </b> <a class = \"anchor\" id = \"chapter_2_3_8\"></a>"
   ]
  },
  {
   "cell_type": "code",
   "execution_count": null,
   "metadata": {},
   "outputs": [],
   "source": [
    "# Instanciando o modelo \n",
    "rl = LinearRegression()\n",
    "\n",
    "# Ajustando o modelo\n",
    "modelo_rl3 = rl.fit(X_train3, y_train3)\n",
    "\n",
    "# Fazendo as predicoes\n",
    "predicao_rl3 = modelo_rl3.predict(X_test3)\n",
    "\n",
    "print('REGRESSÃO LINEAR')\n",
    "# r2 dos dados de treino\n",
    "print('R² do treino = {}'.format(modelo_rl3.score(X_train3, y_train3).round(2)))\n",
    "\n",
    "# r2 dos dados de teste\n",
    "print('R² do teste = %s' % metrics.r2_score(y_test3, predicao_rl3).round(2))"
   ]
  },
  {
   "cell_type": "code",
   "execution_count": null,
   "metadata": {},
   "outputs": [],
   "source": [
    "predictions_rl3 = pd.DataFrame(y_test3, columns=['Compensada'])\n",
    "predictions_rl3.index = X_test3.index\n",
    "\n",
    "predicao_rl3 = pd.DataFrame(predicao_rl3)\n",
    "predicao_rl3.index = X_test3.index\n",
    "\n",
    "predictions_rl3['Predição Regressão Linear'] = predicao_rl3"
   ]
  },
  {
   "cell_type": "code",
   "execution_count": null,
   "metadata": {},
   "outputs": [],
   "source": [
    "fig26 = go.Figure()\n",
    "\n",
    "# Configurando o grafico de linhas\n",
    "fig26.add_trace(go.Scatter(x = predictions_rl3.index, y = predictions_rl3['Compensada'], mode = 'lines + markers', name = 'Compensada', marker_color = '#266B6E'))\n",
    "fig26.add_trace(go.Scatter(x = predictions_rl3.index, y = predictions_rl3['Predição Regressão Linear'], mode = 'lines + markers', name = 'Predição Regressão Linear', marker_color = '#FF007D'))\n",
    "\n",
    "# Configurando o titulo do grafico\n",
    "fig26.update_layout(title_text = f'Energia Compensada - 3',\n",
    "                  title_font_size = 30,\n",
    "                  title_x = 0.5)\n",
    "\n",
    "# Configurando o titulo dos eixos\n",
    "fig26.update_layout(xaxis_title_font_size = 18,\n",
    "                  yaxis_title = 'Quantidade de Energia',\n",
    "                  yaxis_title_font_size = 18,\n",
    "                  showlegend = True,\n",
    "                  legend_title = 'Legenda')\n",
    "\n",
    "# Exibindo as grades de fundo\n",
    "fig26.update_xaxes(showgrid = True)\n",
    "\n",
    "# Plotando o grafico\n",
    "fig26.show()"
   ]
  },
  {
   "cell_type": "code",
   "execution_count": null,
   "metadata": {},
   "outputs": [],
   "source": [
    "erros_rl3 = pd.DataFrame({'Métricas avaliadas': ['MAE', 'MAPE', 'WMAPE', 'MSE', 'RMSE'],\n",
    "                          'Valores obtidos': [round(mean_absolute_error(y_test3, predicao_rl3), 2),\n",
    "                                              round(mean_absolute_percentage_error(y_test3, predicao_rl3) * 100, 2),\n",
    "                                              round(mean_absolute_percentage_error(y_test3, predicao_rl3, sample_weight = y_test3) * 100, 2),\n",
    "                                              round(mean_squared_error(y_test3, predicao_rl3, squared = True), 2),\n",
    "                                              round(mean_squared_error(y_test3, predicao_rl3, squared = False), 2)]},\n",
    "                        index = range(0, 5))\n",
    "\n",
    "\n",
    "erros_rl3"
   ]
  },
  {
   "cell_type": "markdown",
   "metadata": {},
   "source": [
    "### <b>2.4. Usina 4 </b> <a class = \"anchor\" id = \"chapter_2_4\"></a>"
   ]
  },
  {
   "cell_type": "code",
   "execution_count": null,
   "metadata": {},
   "outputs": [],
   "source": [
    "usina4 = df[df['Usina'] == '4'].groupby('Competência').agg({'Compensada':'sum', 'Acumulado':'sum', \n",
    "                                                             'Energia_Ativa':'sum'})\n",
    "\n",
    "usina4"
   ]
  },
  {
   "cell_type": "code",
   "execution_count": null,
   "metadata": {},
   "outputs": [],
   "source": [
    "# Descricao estatistica dos dados\n",
    "\n",
    "usina4.describe()"
   ]
  },
  {
   "cell_type": "code",
   "execution_count": null,
   "metadata": {},
   "outputs": [],
   "source": [
    "fig27 = go.Figure()\n",
    "\n",
    "# Configurando o grafico de barras\n",
    "fig27.add_trace(go.Bar(x = usina4.index,\n",
    "                     y = usina4['Compensada'],\n",
    "                     text = usina4['Compensada'],\n",
    "                     name = 'Gráfico de barras',\n",
    "                     textposition = 'inside',\n",
    "                     textfont_size = 12,\n",
    "                     marker_color = '#266B6E'))\n",
    "\n",
    "# Configurando o grafico de linhas\n",
    "fig27.add_trace(go.Scatter(x = usina4.index,\n",
    "                         y = usina4['Compensada'],\n",
    "                         name = 'Gráfico de linhas',\n",
    "                         mode = 'lines + markers',\n",
    "                         marker_color = 'red'))\n",
    "\n",
    "\n",
    "# Configurando o titulo do grafico\n",
    "fig27.update_layout(title_text = f'Energia Compensada - 4',\n",
    "                  title_font_size = 30,\n",
    "                  title_x = 0.5)\n",
    "\n",
    "# Configurando o titulo dos eixos\n",
    "fig27.update_layout(yaxis_title = 'Quantidade de energia',\n",
    "                  yaxis_title_font_size = 18,\n",
    "                  xaxis_title = 'Meses',\n",
    "                  showlegend = False)\n",
    "\n",
    "# Exibindo as grades de fundo\n",
    "fig27.update_xaxes(showgrid = True)\n",
    "\n",
    "# Plotando o grafico\n",
    "fig27.show()"
   ]
  },
  {
   "cell_type": "markdown",
   "metadata": {},
   "source": [
    "### <b>2.4.1. LSTM</b> <a class = \"anchor\" id = \"chapter_2_4_1\"></a>"
   ]
  },
  {
   "cell_type": "code",
   "execution_count": null,
   "metadata": {},
   "outputs": [],
   "source": [
    "# Copia do dataset principal\n",
    "\n",
    "usina4_lstm = usina4.copy(deep = True)"
   ]
  },
  {
   "cell_type": "code",
   "execution_count": null,
   "metadata": {},
   "outputs": [],
   "source": [
    "# Separando quais dados serao utilizados para rodar o modelo\n",
    "\n",
    "usina4_lstm = usina4_lstm.loc[:,['Compensada']]"
   ]
  },
  {
   "cell_type": "code",
   "execution_count": null,
   "metadata": {},
   "outputs": [],
   "source": [
    "# Definindo a frequencia dos dados\n",
    "\n",
    "usina4_lstm = usina4_lstm.asfreq('MS')"
   ]
  },
  {
   "cell_type": "code",
   "execution_count": null,
   "metadata": {},
   "outputs": [],
   "source": [
    "# Normalizando os dados\n",
    "\n",
    "scaler_lstm = MinMaxScaler(feature_range = (0, 1))\n",
    "data_lstm4 = scaler_lstm.fit_transform(usina4_lstm)"
   ]
  },
  {
   "cell_type": "code",
   "execution_count": null,
   "metadata": {},
   "outputs": [],
   "source": [
    "# Dividindo os dados em conjuntos de treino e teste\n",
    "\n",
    "train_size_lstm4 = int(len(data_lstm4) * 0.7)               #70% para treino e 30% para teste\n",
    "training_set_lstm4, test_set_lstm4 = data_lstm4[:train_size_lstm4], data_lstm4[train_size_lstm4:]"
   ]
  },
  {
   "cell_type": "code",
   "execution_count": null,
   "metadata": {},
   "outputs": [],
   "source": [
    "# Verificando as dimensoes dos conjuntos\n",
    "\n",
    "training_set_lstm4.shape, test_set_lstm4.shape"
   ]
  },
  {
   "cell_type": "code",
   "execution_count": null,
   "metadata": {},
   "outputs": [],
   "source": [
    "# Atribuindo valor a janela deslizante\n",
    "\n",
    "lookback_window = 1"
   ]
  },
  {
   "cell_type": "code",
   "execution_count": null,
   "metadata": {},
   "outputs": [],
   "source": [
    "# Criando a funcao de janela deslizante\n",
    "\n",
    "def create_dataset(data, lookback_window):\n",
    "    X, y = [], []\n",
    "\n",
    "    for i in range(len(data) - lookback_window):\n",
    "        X.append(data[i:(i + lookback_window), :])\n",
    "        y.append(data[i + lookback_window, 0])\n",
    "\n",
    "    return np.array(X), np.array(y)"
   ]
  },
  {
   "cell_type": "code",
   "execution_count": null,
   "metadata": {},
   "outputs": [],
   "source": [
    "# Ajustando os conjuntos de treino e teste\n",
    "\n",
    "X_train_lstm4, y_train_lstm4 = create_dataset(training_set_lstm4, lookback_window)\n",
    "X_test_lstm4, y_test_lstm4 = create_dataset(test_set_lstm4, lookback_window)"
   ]
  },
  {
   "cell_type": "code",
   "execution_count": null,
   "metadata": {},
   "outputs": [],
   "source": [
    "# Verificando as dimensoes dos conjuntos\n",
    "\n",
    "X_test_lstm4.shape, y_test_lstm4.shape"
   ]
  },
  {
   "cell_type": "code",
   "execution_count": null,
   "metadata": {},
   "outputs": [],
   "source": [
    "# Ajustando parametros do modelo LSTM\n",
    "\n",
    "best_model_lstm = Sequential()\n",
    "best_model_lstm.add(LSTM(4, input_shape = (lookback_window, 1)))\n",
    "best_model_lstm.add(Dense(1))\n",
    "best_model_lstm.compile(loss = 'mean_squared_error', optimizer = 'adam', run_eagerly=True)\n",
    "\n",
    "history_lstm4 = best_model_lstm.fit(X_train_lstm4,\n",
    "                                   y_train_lstm4,\n",
    "                                   epochs = 70,\n",
    "                                   batch_size = 1,\n",
    "                                   validation_split = 0.2,\n",
    "                                   verbose = 2)"
   ]
  },
  {
   "cell_type": "code",
   "execution_count": null,
   "metadata": {},
   "outputs": [],
   "source": [
    "# Rodando modelo para conjunto de teste\n",
    "\n",
    "y_pred_lstm4 = best_model_lstm.predict(X_test_lstm4)\n",
    "\n",
    "y_pred_lstm4 = scaler_lstm.inverse_transform(y_pred_lstm4)\n",
    "y_test_lstm4 = scaler_lstm.inverse_transform(y_test_lstm4.reshape(-1, 1))"
   ]
  },
  {
   "cell_type": "code",
   "execution_count": null,
   "metadata": {},
   "outputs": [],
   "source": [
    "# Criando dataframe com as predicoes\n",
    "\n",
    "timestamp4 = pd.DataFrame(usina4_lstm.index[-len(X_test_lstm4):])\n",
    "\n",
    "y_test_df_lstm4 = pd.concat([timestamp4, pd.DataFrame(y_test_lstm4)], axis = 1).rename(columns = {0: 'Compensada'}).dropna()\n",
    "y_pred_df_lstm4 = pd.concat([timestamp4, pd.DataFrame(y_pred_lstm4)], axis = 1).rename(columns = {0: 'Compensada_predito'}).dropna()\n",
    "\n",
    "\n",
    "# Ajuste nas datas para corresponderem as datas reais dos registros de teste\n",
    "\n",
    "y_test_df_lstm4.index = usina4_lstm.index[-len(X_test_lstm4):]\n",
    "y_pred_df_lstm4.index = usina4_lstm.index[-len(X_test_lstm4):]"
   ]
  },
  {
   "cell_type": "code",
   "execution_count": null,
   "metadata": {},
   "outputs": [],
   "source": [
    "fig28 = go.Figure()\n",
    "\n",
    "# Configurando o grafico de linhas\n",
    "fig28.add_trace(go.Scatter(x = y_test_df_lstm4['Competência'], y = y_test_df_lstm4['Compensada'], mode = 'lines + markers', name = 'Compensada', marker_color = '#266B6E'))\n",
    "fig28.add_trace(go.Scatter(x = y_pred_df_lstm4['Competência'], y = y_pred_df_lstm4['Compensada_predito'], mode = 'lines + markers', name = 'Predição LSTM', marker_color = '#FF007D'))\n",
    "\n",
    "# Configurando o titulo do grafico\n",
    "fig28.update_layout(title_text = f'Energia Compensada - 4',\n",
    "                  title_font_size = 30,\n",
    "                  title_x = 0.5)\n",
    "\n",
    "# Configurando o titulo dos eixos\n",
    "fig28.update_layout(xaxis_title_font_size = 18,\n",
    "                  yaxis_title = 'Quantidade de Energia',\n",
    "                  yaxis_title_font_size = 18,\n",
    "                  showlegend = True,\n",
    "                  legend_title = 'Legenda')\n",
    "\n",
    "# Exibindo as grades de fundo\n",
    "fig28.update_xaxes(showgrid = True)\n",
    "\n",
    "# Plotando o grafico\n",
    "fig28.show()"
   ]
  },
  {
   "cell_type": "code",
   "execution_count": null,
   "metadata": {},
   "outputs": [],
   "source": [
    "# Obtendo metricas de avaliacao\n",
    "\n",
    "erros_lstm4 = pd.DataFrame({'Métricas avaliadas': ['MAE', 'MAPE', 'WMAPE', 'MSE', 'RMSE'],\n",
    "                                'Valores obtidos': [round(mean_absolute_error(y_test_lstm4, y_pred_lstm4), 2),\n",
    "                                                    round(mean_absolute_percentage_error(y_test_lstm4, y_pred_lstm4) * 100, 2),\n",
    "                                                    round(mean_absolute_percentage_error(y_test_lstm4, y_pred_lstm4, sample_weight = y_test_lstm4) * 100, 2),\n",
    "                                                    round(mean_squared_error(y_test_lstm4, y_pred_lstm4, squared = True), 2),\n",
    "                                                    round(mean_squared_error(y_test_lstm4, y_pred_lstm4, squared = False), 2)]},\n",
    "                            index = range(0, 5))\n",
    "\n",
    "erros_lstm4"
   ]
  },
  {
   "cell_type": "markdown",
   "metadata": {},
   "source": [
    "### <b>2.4.2. Holt-Winters </b> <a class = \"anchor\" id = \"chapter_2_4_2\"></a>"
   ]
  },
  {
   "cell_type": "code",
   "execution_count": null,
   "metadata": {},
   "outputs": [],
   "source": [
    "# Copia do dataset principal\n",
    "\n",
    "usina4_holtw = usina4.copy(deep = True)"
   ]
  },
  {
   "cell_type": "code",
   "execution_count": null,
   "metadata": {},
   "outputs": [],
   "source": [
    "# Separando quais dados serao utilizados para rodar o modelo\n",
    "\n",
    "usina4_holtw = usina4_holtw.loc[:,['Compensada']]"
   ]
  },
  {
   "cell_type": "code",
   "execution_count": null,
   "metadata": {},
   "outputs": [],
   "source": [
    "# Definindo a frequencia dos dados\n",
    "\n",
    "usina4_holtw = usina4_holtw.asfreq('MS')"
   ]
  },
  {
   "cell_type": "code",
   "execution_count": null,
   "metadata": {},
   "outputs": [],
   "source": [
    "# Dividindo dados em conjunto de treino (70%)\n",
    "\n",
    "training_set_holtwinters4 = usina4_holtw.iloc[:-4, :]\n",
    "training_set_holtwinters4"
   ]
  },
  {
   "cell_type": "code",
   "execution_count": null,
   "metadata": {},
   "outputs": [],
   "source": [
    "# Dividindo dados em conjunto de teste (30%)\n",
    "\n",
    "test_set_holtwinters4 = usina4_holtw.iloc[-4:, :]\n",
    "test_set_holtwinters4"
   ]
  },
  {
   "cell_type": "code",
   "execution_count": null,
   "metadata": {},
   "outputs": [],
   "source": [
    "# Aplicando o modelo\n",
    "\n",
    "model_holtwinters4 = ExponentialSmoothing(endog = training_set_holtwinters4['Compensada'],     \n",
    "                                         trend = 'add',                             \n",
    "                                         seasonal = 'add',\n",
    "                                         seasonal_periods = 3).fit()        "
   ]
  },
  {
   "cell_type": "code",
   "execution_count": null,
   "metadata": {},
   "outputs": [],
   "source": [
    "predictions_holtwinters4 = pd.Series(model_holtwinters4.forecast(steps = len(test_set_holtwinters4))).rename('HW')\n",
    "predictions_holtwinters4.index = test_set_holtwinters4.index"
   ]
  },
  {
   "cell_type": "code",
   "execution_count": null,
   "metadata": {},
   "outputs": [],
   "source": [
    "fig29 = go.Figure()\n",
    "\n",
    "# Configurando o grafico de linhas\n",
    "fig29.add_trace(go.Scatter(x = test_set_holtwinters4.index, y = test_set_holtwinters4['Compensada'], mode = 'lines + markers', name = 'Compensada', marker_color = '#266B6E'))\n",
    "fig29.add_trace(go.Scatter(x = predictions_holtwinters4.index, y = predictions_holtwinters4, mode = 'lines + markers', name = 'Predição Holt-Winters', marker_color = '#FF007D'))\n",
    "\n",
    "# Configurando o titulo do grafico\n",
    "fig29.update_layout(title_text = f'Energia Compensada - 4',\n",
    "                  title_font_size = 30,\n",
    "                  title_x = 0.5)\n",
    "\n",
    "# Configurando o titulo dos eixos\n",
    "fig29.update_layout(xaxis_title_font_size = 18,\n",
    "                  yaxis_title = 'Quantidade de Energia',\n",
    "                  yaxis_title_font_size = 18,\n",
    "                  showlegend = True,\n",
    "                  legend_title = 'Legenda')\n",
    "\n",
    "# Exibindo as grades de fundo\n",
    "fig29.update_xaxes(showgrid = True)\n",
    "\n",
    "# Plotando o grafico\n",
    "fig29.show()"
   ]
  },
  {
   "cell_type": "code",
   "execution_count": null,
   "metadata": {},
   "outputs": [],
   "source": [
    "# Obtendo metricas de avaliacao\n",
    "\n",
    "erros_hw4 = pd.DataFrame({'Métricas avaliadas': ['MAE', 'MAPE', 'WMAPE', 'MSE', 'RMSE'],\n",
    "                        'Valores obtidos': [round(mean_absolute_error(test_set_holtwinters4['Compensada'], predictions_holtwinters4), 2),\n",
    "                                            round(mean_absolute_percentage_error(test_set_holtwinters4['Compensada'], predictions_holtwinters4) * 100, 2),\n",
    "                                            round(mean_absolute_percentage_error(test_set_holtwinters4['Compensada'], predictions_holtwinters4, sample_weight = test_set_holtwinters4['Compensada']) * 100, 2),\n",
    "                                            round(mean_squared_error(test_set_holtwinters4['Compensada'], predictions_holtwinters4, squared = True), 2),\n",
    "                                            round(mean_squared_error(test_set_holtwinters4['Compensada'], predictions_holtwinters4, squared = False), 2)]},\n",
    "                        index = range(0, 5))\n",
    "\n",
    "erros_hw4"
   ]
  },
  {
   "cell_type": "markdown",
   "metadata": {},
   "source": [
    "### <b>2.4.3 SARIMAX </b> <a class = \"anchor\" id = \"chapter_2_4_3\"></a>"
   ]
  },
  {
   "cell_type": "code",
   "execution_count": null,
   "metadata": {},
   "outputs": [],
   "source": [
    "# Copia do dataset principal\n",
    "\n",
    "usina4_sarimax = usina4.copy(deep = True)"
   ]
  },
  {
   "cell_type": "code",
   "execution_count": null,
   "metadata": {},
   "outputs": [],
   "source": [
    "# Definindo a frequencia dos dados\n",
    "\n",
    "usina4_sarimax = usina4_sarimax.asfreq('MS')"
   ]
  },
  {
   "cell_type": "code",
   "execution_count": null,
   "metadata": {},
   "outputs": [],
   "source": [
    "# Definindo os conjuntos de treino e teste\n",
    "\n",
    "training_set_sarimax4 = usina4_sarimax.iloc[:-4, :]\n",
    "training_set_sarimax4"
   ]
  },
  {
   "cell_type": "code",
   "execution_count": null,
   "metadata": {},
   "outputs": [],
   "source": [
    "test_set_sarimax4 = usina4_sarimax.iloc[-4:, :]\n",
    "test_set_sarimax4"
   ]
  },
  {
   "cell_type": "code",
   "execution_count": null,
   "metadata": {},
   "outputs": [],
   "source": [
    "# Definindo as variaveis exogenas\n",
    "\n",
    "train_exog_sarimax4 = training_set_sarimax4.iloc[:, 1:]\n",
    "train_exog_sarimax4"
   ]
  },
  {
   "cell_type": "code",
   "execution_count": null,
   "metadata": {},
   "outputs": [],
   "source": [
    "test_exog_sarimax4 = test_set_sarimax4.iloc[:, 1:]\n",
    "test_exog_sarimax4"
   ]
  },
  {
   "cell_type": "code",
   "execution_count": null,
   "metadata": {},
   "outputs": [],
   "source": [
    "# Aplicando o modelo\n",
    "\n",
    "model_sarimax4 = auto_arima(y = training_set_sarimax4['Compensada'],\n",
    "                           X = train_exog_sarimax4,\n",
    "                           m = 2,                   # Período anual: 12 meses (ajustar de acordo com a frequência escolhida anteriormente)\n",
    "                           seasonal = True,\n",
    "                           stepwise = False)"
   ]
  },
  {
   "cell_type": "code",
   "execution_count": null,
   "metadata": {},
   "outputs": [],
   "source": [
    "model_sarimax4.summary()"
   ]
  },
  {
   "cell_type": "code",
   "execution_count": null,
   "metadata": {},
   "outputs": [],
   "source": [
    "predictions_sarimax4 = pd.Series(model_sarimax4.predict(n_periods = 4, X = test_exog_sarimax4)).rename('SARIMAX')\n",
    "predictions_sarimax4.index = test_set_sarimax4.index"
   ]
  },
  {
   "cell_type": "code",
   "execution_count": null,
   "metadata": {},
   "outputs": [],
   "source": [
    "fig30 = go.Figure()\n",
    "\n",
    "# Configurando o grafico de linhas\n",
    "fig30.add_trace(go.Scatter(x = test_set_sarimax4.index, y = test_set_sarimax4['Compensada'], mode = 'lines + markers', name = 'Compensada', marker_color = '#266B6E'))\n",
    "fig30.add_trace(go.Scatter(x = predictions_sarimax4.index, y = predictions_sarimax4, mode = 'lines + markers', name = 'Predição Sarimax', marker_color = '#FF007D'))\n",
    "\n",
    "\n",
    "# Configurando o titulo do grafico\n",
    "fig30.update_layout(title_text = f'Energia Compensada - 4',\n",
    "                  title_font_size = 30,\n",
    "                  title_x = 0.5)\n",
    "\n",
    "# Configurando o titulo dos eixos\n",
    "fig30.update_layout(xaxis_title_font_size = 18,\n",
    "                  yaxis_title = 'Quantidade de Energia',\n",
    "                  yaxis_title_font_size = 18,\n",
    "                  showlegend = True,\n",
    "                  legend_title = 'Legenda')\n",
    "\n",
    "# Exibindo as grades de fundo\n",
    "fig30.update_xaxes(showgrid = True)\n",
    "\n",
    "# Plotando o grafico\n",
    "fig30.show()"
   ]
  },
  {
   "cell_type": "code",
   "execution_count": null,
   "metadata": {},
   "outputs": [],
   "source": [
    "# Obtendo metricas de avaliacao\n",
    "\n",
    "erros_sm4 = pd.DataFrame({'Métricas avaliadas': ['MAE', 'MAPE', 'WMAPE', 'MSE', 'RMSE'],\n",
    "                        'Valores obtidos': [round(mean_absolute_error(test_set_sarimax4['Compensada'], predictions_sarimax4), 2),\n",
    "                                            round(mean_absolute_percentage_error(test_set_sarimax4['Compensada'], predictions_sarimax4) * 100, 2),\n",
    "                                            round(mean_absolute_percentage_error(test_set_sarimax4['Compensada'], predictions_sarimax4, sample_weight = test_set_sarimax4['Compensada']) * 100, 2),\n",
    "                                            round(mean_squared_error(test_set_sarimax4['Compensada'], predictions_sarimax4, squared = True), 2),\n",
    "                                            round(mean_squared_error(test_set_sarimax4['Compensada'], predictions_sarimax4, squared = False), 2)]},\n",
    "                        index = range(0, 5))\n",
    "\n",
    "erros_sm4"
   ]
  },
  {
   "cell_type": "markdown",
   "metadata": {},
   "source": [
    "### <b>2.4.4. TensorFlow</b> <a class = \"anchor\" id = \"chapter_2_4_4\"></a>"
   ]
  },
  {
   "cell_type": "code",
   "execution_count": null,
   "metadata": {},
   "outputs": [],
   "source": [
    "# Copia do dataset principal\n",
    "\n",
    "usina4_tensorflow = usina4.copy(deep = True)"
   ]
  },
  {
   "cell_type": "code",
   "execution_count": null,
   "metadata": {},
   "outputs": [],
   "source": [
    "# Definindo a frequencia dos dados\n",
    "\n",
    "usina4_tensorflow = usina4_tensorflow.asfreq('MS')\n",
    "usina4_tensorflow"
   ]
  },
  {
   "cell_type": "code",
   "execution_count": null,
   "metadata": {},
   "outputs": [],
   "source": [
    "# Definindo o conjunto de treino (70%)\n",
    "\n",
    "training_set_tensorflow4 = usina4_tensorflow.iloc[:-4, :]\n",
    "training_set_tensorflow4"
   ]
  },
  {
   "cell_type": "code",
   "execution_count": null,
   "metadata": {},
   "outputs": [],
   "source": [
    "# Definindo o conjunto de teste (30%)\n",
    "\n",
    "test_set_tensorflow4 = usina4_tensorflow.iloc[-4:, :]\n",
    "test_set_tensorflow4"
   ]
  },
  {
   "cell_type": "code",
   "execution_count": null,
   "metadata": {},
   "outputs": [],
   "source": [
    "# Regressores\n",
    "\n",
    "exog_tensorflow4 = np.asmatrix(usina4_tensorflow.iloc[:, 1:].astype(np.float64))"
   ]
  },
  {
   "cell_type": "code",
   "execution_count": null,
   "metadata": {},
   "outputs": [],
   "source": [
    "# Aplicando o modelo\n",
    "\n",
    "regressors_tensorflow4 = tfp.sts.LinearRegression(design_matrix = exog_tensorflow4, name = 'regressors')"
   ]
  },
  {
   "cell_type": "code",
   "execution_count": null,
   "metadata": {},
   "outputs": [],
   "source": [
    "# Sazonalidade\n",
    "\n",
    "Compensada_tensorflow4 = training_set_tensorflow4['Compensada'].astype(np.float64)"
   ]
  },
  {
   "cell_type": "code",
   "execution_count": null,
   "metadata": {},
   "outputs": [],
   "source": [
    "monthly_effect_tensorflow4 = tfp.sts.Seasonal(num_seasons = 3,\n",
    "                                             num_steps_per_season = np.array([[4]]),\n",
    "                                             observed_time_series = Compensada_tensorflow4,\n",
    "                                             name = 'month_effect')"
   ]
  },
  {
   "cell_type": "code",
   "execution_count": null,
   "metadata": {},
   "outputs": [],
   "source": [
    "# Definindo a variavel autoregressive\n",
    "\n",
    "autoregressive_tensorflow4 = tfp.sts.Autoregressive(order = 1, observed_time_series = Compensada_tensorflow4, name = 'autoregressive')"
   ]
  },
  {
   "cell_type": "code",
   "execution_count": null,
   "metadata": {},
   "outputs": [],
   "source": [
    "# Definindo a variavel trend\n",
    "\n",
    "trend_tensorflow4 = tfp.sts.LocalLinearTrend(observed_time_series = Compensada_tensorflow4, name = 'trend')"
   ]
  },
  {
   "cell_type": "code",
   "execution_count": null,
   "metadata": {},
   "outputs": [],
   "source": [
    "# Aplicando o modelo novamente\n",
    "\n",
    "model_tensorflow4 = tfp.sts.Sum([regressors_tensorflow4,\n",
    "                                monthly_effect_tensorflow4,\n",
    "                                autoregressive_tensorflow4,\n",
    "                                trend_tensorflow4],\n",
    "                                observed_time_series = Compensada_tensorflow4)"
   ]
  },
  {
   "cell_type": "code",
   "execution_count": null,
   "metadata": {},
   "outputs": [],
   "source": [
    "samples_tensorflow4, kernel_results_tensorflow4 = tfp.sts.fit_with_hmc(model = model_tensorflow4,\n",
    "                                                                     observed_time_series = Compensada_tensorflow4,\n",
    "                                                                     num_results = 100,\n",
    "                                                                     num_warmup_steps = 50,\n",
    "                                                                     num_leapfrog_steps = 15,\n",
    "                                                                     num_variational_steps = 150,\n",
    "                                                                     seed = 1502)"
   ]
  },
  {
   "cell_type": "code",
   "execution_count": null,
   "metadata": {},
   "outputs": [],
   "source": [
    "forecast_tensorflow4 = tfp.sts.forecast(model = model_tensorflow4,\n",
    "                                       observed_time_series = Compensada_tensorflow4,\n",
    "                                       parameter_samples = samples_tensorflow4,\n",
    "                                       num_steps_forecast = len(test_set_tensorflow4))"
   ]
  },
  {
   "cell_type": "code",
   "execution_count": null,
   "metadata": {},
   "outputs": [],
   "source": [
    "predictions_tensorflow4 = pd.Series(forecast_tensorflow4.mean()[:, 0], name = 'TFP')\n",
    "predictions_tensorflow4.index = test_set_tensorflow4.index"
   ]
  },
  {
   "cell_type": "code",
   "execution_count": null,
   "metadata": {},
   "outputs": [],
   "source": [
    "fig31 = go.Figure()\n",
    "\n",
    "# Configurando o grafico de linhas\n",
    "fig31.add_trace(go.Scatter(x = test_set_tensorflow4.index, y = test_set_tensorflow4['Compensada'], mode = 'lines + markers', name = 'Compensada', marker_color = '#266B6E'))\n",
    "fig31.add_trace(go.Scatter(x = predictions_tensorflow4.index, y = predictions_tensorflow4, mode = 'lines + markers', name = 'Predição Tensorflow', marker_color = '#FF007D'))\n",
    "\n",
    "# Configurando o titulo do grafico\n",
    "fig31.update_layout(title_text = f'Energia Compensada - 4',\n",
    "                  title_font_size = 30,\n",
    "                  title_x = 0.5)\n",
    "\n",
    "# Configurando o titulo dos eixos\n",
    "fig31.update_layout(xaxis_title_font_size = 18,\n",
    "                  yaxis_title = 'Quantidade de Energia',\n",
    "                  yaxis_title_font_size = 18,\n",
    "                  showlegend = True,\n",
    "                  legend_title = 'Legenda')\n",
    "\n",
    "# Exibindo as grades de fundo\n",
    "fig31.update_xaxes(showgrid = True)\n",
    "\n",
    "# Plotando o grafico\n",
    "fig31.show()"
   ]
  },
  {
   "cell_type": "code",
   "execution_count": null,
   "metadata": {},
   "outputs": [],
   "source": [
    "# Comparando valores reais e preditos\n",
    "\n",
    "pd.DataFrame({'Data': test_set_tensorflow4.index,\n",
    "              'Valor real': test_set_tensorflow4['Compensada'],\n",
    "              'Valor predito': round(predictions_tensorflow4, 2),\n",
    "              '| Diferença |': round(np.abs(test_set_tensorflow4['Compensada'] - predictions_tensorflow4), 2)}).reset_index(drop = True)"
   ]
  },
  {
   "cell_type": "code",
   "execution_count": null,
   "metadata": {},
   "outputs": [],
   "source": [
    "erros_tf4 = pd.DataFrame({'Métricas avaliadas': ['MAE', 'MAPE', 'WMAPE', 'MSE', 'RMSE'],\n",
    "                                 'Valores obtidos': [round(mean_absolute_error(test_set_tensorflow4['Compensada'], predictions_tensorflow4), 2),\n",
    "                                                     round(mean_absolute_percentage_error(test_set_tensorflow4['Compensada'], predictions_tensorflow4) * 100, 2),\n",
    "                                                     round(mean_absolute_percentage_error(test_set_tensorflow4['Compensada'], predictions_tensorflow4, sample_weight = test_set_tensorflow4['Compensada']) * 100, 2),\n",
    "                                                     round(mean_squared_error(test_set_tensorflow4['Compensada'], predictions_tensorflow4, squared = True), 2),\n",
    "                                                     round(mean_squared_error(test_set_tensorflow4['Compensada'], predictions_tensorflow4, squared = False), 2)]},\n",
    "                                index = range(0, 5))\n",
    "\n",
    "erros_tf4"
   ]
  },
  {
   "cell_type": "markdown",
   "metadata": {},
   "source": [
    "### <b>Organizando os dados para os modelos seguintes</b>"
   ]
  },
  {
   "cell_type": "code",
   "execution_count": null,
   "metadata": {},
   "outputs": [],
   "source": [
    "usina4_modelos = usina4.copy(deep = True)"
   ]
  },
  {
   "cell_type": "code",
   "execution_count": null,
   "metadata": {},
   "outputs": [],
   "source": [
    "# Dividindo os dados em conjuntos de treino e teste a partir de um corte temporal\n",
    "\n",
    "df_train4 = usina4_modelos.loc[usina4_modelos.index < '2023-03-01']\n",
    "df_test4 = usina4_modelos.loc[usina4_modelos.index >= '2023-03-01']"
   ]
  },
  {
   "cell_type": "code",
   "execution_count": null,
   "metadata": {},
   "outputs": [],
   "source": [
    "# Separando os conjuntos X e Y de acordo com as colunas de dados\n",
    "\n",
    "X_train4 = df_train4[['Acumulado', 'Energia_Ativa']]\n",
    "\n",
    "y_train4 = df_train4['Compensada']\n",
    "y_train4 = np.array(y_train4).reshape(-1, 1)\n",
    "\n",
    "X_test4 = df_test4[['Acumulado', 'Energia_Ativa']]\n",
    "\n",
    "y_test4 = df_test4['Compensada']\n",
    "y_test4 = np.array(y_test4).reshape(-1, 1)"
   ]
  },
  {
   "cell_type": "markdown",
   "metadata": {},
   "source": [
    "### <b>2.4.5 XGBoost </b> <a class = \"anchor\" id = \"chapter_2_4_5\"></a>"
   ]
  },
  {
   "cell_type": "code",
   "execution_count": null,
   "metadata": {},
   "outputs": [],
   "source": [
    "# Instanciando o modelo\n",
    "modelo_xgb = xgb.XGBRegressor(random_state = 0, max_depth=2)\n",
    "\n",
    "# Ajustando o modelo\n",
    "modelo_xgb4 = modelo_xgb.fit(X_train4, y_train4)\n",
    "\n",
    "# Fazendo as predicoes\n",
    "predicao_xgb4 = modelo_xgb4.predict(X_test4)\n",
    "\n",
    "print('XGBoost')\n",
    "# r2 dos dados de treino\n",
    "print('R² do treino = {}'.format(modelo_xgb4.score(X_train4, y_train4)))\n",
    "\n",
    "# r2 dos dados de teste\n",
    "print('R² do teste = %s' % metrics.r2_score(y_test4, predicao_xgb4))\n",
    "\n",
    "# Erro medio quadratico dos dados de teste e preditos\n",
    "print('Raiz quadrada do erro médio quadrático dos resultados preditos = {}'.format(np.sqrt(mean_squared_error(y_test4, predicao_xgb4))))\n",
    "\n",
    "# Erro medio absoluto dos dados de teste e treino\n",
    "print('Erro médio absoluto dos resultados preditos = {}'.format(mean_absolute_error(y_test4, predicao_xgb4).round(2)))"
   ]
  },
  {
   "cell_type": "code",
   "execution_count": null,
   "metadata": {},
   "outputs": [],
   "source": [
    "# Verificando quais variaveis impactam mais o modelo\n",
    "\n",
    "fi4 = pd.DataFrame(data=modelo_xgb4.feature_importances_,\n",
    "             index=modelo_xgb4.feature_names_in_,\n",
    "             columns=['importância'])\n",
    "fi4.sort_values('importância').plot(kind='barh', title='Importância das Variáveis - 4')\n",
    "plt.show()"
   ]
  },
  {
   "cell_type": "code",
   "execution_count": null,
   "metadata": {},
   "outputs": [],
   "source": [
    "# Fazendo um gridsearch para encontrar os melhores parametros\n",
    "\n",
    "# Intanciando o modelo\n",
    "modelo_xgb = xgb.XGBRegressor(random_state = 0)\n",
    "\n",
    "# Definindo o espaço de busca dos hiperparametros\n",
    "param_grid = {'learning_rate': np.linspace(0.001, 0.1, num = 20), 'n_estimators': np.arange(100, 200, 10),\n",
    "               'max_depth': [2, 3, 4, 5]}\n",
    "\n",
    "# Chamando o griddsearch e fazendo a busca aleatoria de acordo com os hiperparametros fornecidos acima\n",
    "grid_search4 =  GridSearchCV(modelo_xgb, param_grid, scoring='neg_mean_squared_error', cv = 5)\n",
    "grid_search4.fit(X_train4, y_train4)\n",
    "\n",
    "# Acessando os melhores hiperparametros encontrados\n",
    "grid_search4.best_params_\n"
   ]
  },
  {
   "cell_type": "code",
   "execution_count": null,
   "metadata": {},
   "outputs": [],
   "source": [
    "#Rodando o modelo novamente, agora com os novos parametros encontrados\n",
    "\n",
    "# Instanciando o modelo\n",
    "modelo_xgb = xgb.XGBRegressor(random_state = 0, n_estimators = 180, max_depth = 2, learning_rate = 0.027)\n",
    "\n",
    "# Ajustando o modelo\n",
    "modelo_xgb4 = modelo_xgb.fit(X_train4, y_train4)\n",
    "\n",
    "# Fazendo as predicoes\n",
    "predicao_xgb4 = modelo_xgb4.predict(X_test4)\n",
    "\n",
    "print('XGBoost')\n",
    "# r2 dos dados de treino\n",
    "print('R² do treino = {}'.format(modelo_xgb4.score(X_train4, y_train4).round(2)))\n",
    "\n",
    "# r2 dos dados de teste\n",
    "print('R² do teste = %s' % metrics.r2_score(y_test4, predicao_xgb4).round(2))\n",
    "\n",
    "# Erro quadratico medio dos dados de teste e preditos\n",
    "print('Raiz quadrada do erro quadrático médio dos resultados preditos = {}'.format(np.sqrt(mean_squared_error(y_test4, predicao_xgb4)).round(2)))\n",
    "\n",
    "# Erro medio absoluto dos dados de teste e treino\n",
    "print('Erro médio absoluto dos resultados preditos = {}'.format(mean_absolute_error(y_test4, predicao_xgb4).round(2)))"
   ]
  },
  {
   "cell_type": "code",
   "execution_count": null,
   "metadata": {},
   "outputs": [],
   "source": [
    "predictions_xgb4 = pd.DataFrame(y_test4, columns=['Compensada'])\n",
    "predictions_xgb4.index = X_test4.index\n",
    "\n",
    "predicao_xgb4 = pd.DataFrame(predicao_xgb4)\n",
    "predicao_xgb4.index = X_test4.index\n",
    "\n",
    "predictions_xgb4['Predição XGB'] = predicao_xgb4"
   ]
  },
  {
   "cell_type": "code",
   "execution_count": null,
   "metadata": {},
   "outputs": [],
   "source": [
    "fig32 = go.Figure()\n",
    "\n",
    "# Configurando o grafico de linhas\n",
    "fig32.add_trace(go.Scatter(x = predictions_xgb4.index, y = predictions_xgb4['Compensada'], mode = 'lines + markers', name = 'Compensada', marker_color = '#266B6E'))\n",
    "fig32.add_trace(go.Scatter(x = predictions_xgb4.index, y = predictions_xgb4['Predição XGB'], mode = 'lines + markers', name = 'Predição XGBoost', marker_color = '#FF007D'))\n",
    "\n",
    "# Configurando o titulo do grafico\n",
    "fig32.update_layout(title_text = f'Energia Compensada - 4',\n",
    "                  title_font_size = 30,\n",
    "                  title_x = 0.5)\n",
    "\n",
    "# Configurando o titulo dos eixos\n",
    "fig32.update_layout(xaxis_title_font_size = 18,\n",
    "                  yaxis_title = 'Quantidade de Energia',\n",
    "                  yaxis_title_font_size = 18,\n",
    "                  showlegend = True,\n",
    "                  legend_title = 'Legenda')\n",
    "\n",
    "# Exibindo as grades de fundo\n",
    "fig32.update_xaxes(showgrid = True)\n",
    "\n",
    "# Plotando o grafico\n",
    "fig32.show()"
   ]
  },
  {
   "cell_type": "code",
   "execution_count": null,
   "metadata": {},
   "outputs": [],
   "source": [
    "erros_xgb4 = pd.DataFrame({'Métricas avaliadas': ['MAE', 'MAPE', 'WMAPE', 'MSE', 'RMSE'],\n",
    "                          'Valores obtidos': [round(mean_absolute_error(y_test4, predicao_xgb4), 2),\n",
    "                                              round(mean_absolute_percentage_error(y_test4, predicao_xgb4) * 100, 2),\n",
    "                                              round(mean_absolute_percentage_error(y_test4, predicao_xgb4, sample_weight = y_test4) * 100, 2),\n",
    "                                              round(mean_squared_error(y_test4, predicao_xgb4, squared = True), 2),\n",
    "                                              round(mean_squared_error(y_test4, predicao_xgb4, squared = False), 2)]},\n",
    "                        index = range(0, 5))\n",
    "\n",
    "erros_xgb4"
   ]
  },
  {
   "cell_type": "markdown",
   "metadata": {},
   "source": [
    "### <b>2.4.6 MLP </b> <a class = \"anchor\" id = \"chapter_2_4_6\"></a>"
   ]
  },
  {
   "cell_type": "code",
   "execution_count": null,
   "metadata": {},
   "outputs": [],
   "source": [
    "# Instanciando o modelo\n",
    "nnet = MLPRegressor(random_state = 0)\n",
    "\n",
    "# Ajustando o modelo\n",
    "modelo_nnet4 = nnet.fit(X_train4, y_train4)\n",
    "\n",
    "# Fazendo as predicoes\n",
    "predicao_nnet4 = modelo_nnet4.predict(X_test4)\n",
    "\n",
    "print('MLP')\n",
    "# r2 dos dados de treino\n",
    "print('R² do treino = {}'.format(modelo_nnet4.score(X_train4, y_train4).round(2)))\n",
    "\n",
    "# r2 dos dados de teste\n",
    "print('R² do teste = %s' % metrics.r2_score(y_test4, predicao_nnet4).round(2))"
   ]
  },
  {
   "cell_type": "code",
   "execution_count": null,
   "metadata": {},
   "outputs": [],
   "source": [
    "predictions_mlp4 = pd.DataFrame(y_test4, columns=['Compensada'])\n",
    "predictions_mlp4.index = X_test4.index\n",
    "\n",
    "predicao_nnet4 = pd.DataFrame(predicao_nnet4)\n",
    "predicao_nnet4.index = X_test4.index\n",
    "\n",
    "predictions_mlp4['Predição MLP'] = predicao_nnet4"
   ]
  },
  {
   "cell_type": "code",
   "execution_count": null,
   "metadata": {},
   "outputs": [],
   "source": [
    "fig33 = go.Figure()\n",
    "\n",
    "# Configurando o grafico de linhas\n",
    "fig33.add_trace(go.Scatter(x = predictions_mlp4.index, y = predictions_mlp4['Compensada'], mode = 'lines + markers', name = 'Compensada', marker_color = '#266B6E'))\n",
    "fig33.add_trace(go.Scatter(x = predictions_mlp4.index, y = predictions_mlp4['Predição MLP'], mode = 'lines + markers', name = 'Predição MLP', marker_color = '#FF007D'))\n",
    "\n",
    "# Configurando o titulo do grafico\n",
    "fig33.update_layout(title_text = f'Energia Compensada - 4',\n",
    "                  title_font_size = 30,\n",
    "                  title_x = 0.5)\n",
    "\n",
    "# Configurando o titulo dos eixos\n",
    "fig33.update_layout(xaxis_title_font_size = 18,\n",
    "                  yaxis_title = 'Quantidade de Energia',\n",
    "                  yaxis_title_font_size = 18,\n",
    "                  showlegend = True,\n",
    "                  legend_title = 'Legenda')\n",
    "\n",
    "# Exibindo as grades de fundo\n",
    "fig33.update_xaxes(showgrid = True)\n",
    "\n",
    "# Plotando o grafico\n",
    "fig33.show()"
   ]
  },
  {
   "cell_type": "code",
   "execution_count": null,
   "metadata": {},
   "outputs": [],
   "source": [
    "erros_mlp4 = pd.DataFrame({'Métricas avaliadas': ['MAE', 'MAPE', 'WMAPE', 'MSE', 'RMSE'],\n",
    "                          'Valores obtidos': [round(mean_absolute_error(y_test4, predicao_nnet4), 2),\n",
    "                                              round(mean_absolute_percentage_error(y_test4, predicao_nnet4) * 100, 2),\n",
    "                                              round(mean_absolute_percentage_error(y_test4, predicao_nnet4, sample_weight = y_test4) * 100, 2),\n",
    "                                              round(mean_squared_error(y_test4, predicao_nnet4, squared = True), 2),\n",
    "                                              round(mean_squared_error(y_test4, predicao_nnet4, squared = False), 2)]},\n",
    "                        index = range(0, 5))\n",
    "\n",
    "erros_mlp4"
   ]
  },
  {
   "cell_type": "markdown",
   "metadata": {},
   "source": [
    "### <b>2.4.7 Random Forest </b> <a class = \"anchor\" id = \"chapter_2_4_7\"></a>"
   ]
  },
  {
   "cell_type": "code",
   "execution_count": null,
   "metadata": {},
   "outputs": [],
   "source": [
    "# Instanciando o modelo\n",
    "rf = RandomForestRegressor(random_state = 0)\n",
    "\n",
    "# Ajustando o modelo\n",
    "model_rf4 = rf.fit(X_train4, y_train4)\n",
    "\n",
    "# Fazendo as predicoes\n",
    "predicao_rf4 = model_rf4.predict(X_test4)\n",
    "\n",
    "print('\\n')\n",
    "\n",
    "print('RANDOMFOREST')\n",
    "# r2 dos dados de treino\n",
    "print('R² do treino = {}'.format(model_rf4.score(X_train4, y_train4).round(2)))\n",
    "\n",
    "# r2 dos dados de teste\n",
    "print('R² do teste = %s' % metrics.r2_score(y_test4, predicao_rf4).round(2))"
   ]
  },
  {
   "cell_type": "code",
   "execution_count": null,
   "metadata": {},
   "outputs": [],
   "source": [
    "predictions_rf4 = pd.DataFrame(y_test4, columns=['Compensada'])\n",
    "predictions_rf4.index = X_test4.index\n",
    "\n",
    "predicao_rf4 = pd.DataFrame(predicao_rf4)\n",
    "predicao_rf4.index = X_test4.index\n",
    "\n",
    "predictions_rf4['Predição Random Forest'] = predicao_rf4"
   ]
  },
  {
   "cell_type": "code",
   "execution_count": null,
   "metadata": {},
   "outputs": [],
   "source": [
    "fig34 = go.Figure()\n",
    "\n",
    "# Configurando o grafico de linhas\n",
    "fig34.add_trace(go.Scatter(x = predictions_rf4.index, y = predictions_rf4['Compensada'], mode = 'lines + markers', name = 'Compensada', marker_color = '#266B6E'))\n",
    "fig34.add_trace(go.Scatter(x = predictions_rf4.index, y = predictions_rf4['Predição Random Forest'], mode = 'lines + markers', name = 'Predição Random Forest', marker_color = '#FF007D'))\n",
    "\n",
    "# Configurando o titulo do grafico\n",
    "fig34.update_layout(title_text = f'Energia Compensada - 4',\n",
    "                  title_font_size = 30,\n",
    "                  title_x = 0.5)\n",
    "\n",
    "# Configurando o titulo dos eixos\n",
    "fig34.update_layout(xaxis_title_font_size = 18,\n",
    "                  yaxis_title = 'Quantidade de Energia',\n",
    "                  yaxis_title_font_size = 18,\n",
    "                  showlegend = True,\n",
    "                  legend_title = 'Legenda')\n",
    "\n",
    "# Exibindo as grades de fundo\n",
    "fig34.update_xaxes(showgrid = True)\n",
    "\n",
    "# Plotando o grafico\n",
    "fig34.show()"
   ]
  },
  {
   "cell_type": "code",
   "execution_count": null,
   "metadata": {},
   "outputs": [],
   "source": [
    "erros_rf4 = pd.DataFrame({'Métricas avaliadas': ['MAE', 'MAPE', 'WMAPE', 'MSE', 'RMSE'],\n",
    "                          'Valores obtidos': [round(mean_absolute_error(y_test4, predicao_rf4), 2),\n",
    "                                              round(mean_absolute_percentage_error(y_test4, predicao_rf4) * 100, 2),\n",
    "                                              round(mean_absolute_percentage_error(y_test4, predicao_rf4, sample_weight = y_test4) * 100, 2),\n",
    "                                              round(mean_squared_error(y_test4, predicao_rf4, squared = True), 2),\n",
    "                                              round(mean_squared_error(y_test4, predicao_rf4, squared = False), 2)]},\n",
    "                        index = range(0, 5))\n",
    "\n",
    "erros_rf4"
   ]
  },
  {
   "cell_type": "markdown",
   "metadata": {},
   "source": [
    "### <b>2.4.8 Regressão Linear </b> <a class = \"anchor\" id = \"chapter_2_4_8\"></a>"
   ]
  },
  {
   "cell_type": "code",
   "execution_count": null,
   "metadata": {},
   "outputs": [],
   "source": [
    "# Instanciando  o modelo \n",
    "rl = LinearRegression()\n",
    "\n",
    "# Ajustando o modelo\n",
    "modelo_rl4 = rl.fit(X_train4, y_train4)\n",
    "\n",
    "# Fazendo as predicoes\n",
    "predicao_rl4 = modelo_rl4.predict(X_test4)\n",
    "\n",
    "print('REGRESSÃO LINEAR')\n",
    "# r2 dos dados de treino\n",
    "print('R² do treino = {}'.format(modelo_rl4.score(X_train4, y_train4).round(2)))\n",
    "\n",
    "# r2 dos dados de teste\n",
    "print('R² do teste = %s' % metrics.r2_score(y_test4, predicao_rl4).round(2))"
   ]
  },
  {
   "cell_type": "code",
   "execution_count": null,
   "metadata": {},
   "outputs": [],
   "source": [
    "predictions_rl4 = pd.DataFrame(y_test4, columns=['Compensada'])\n",
    "predictions_rl4.index = X_test4.index\n",
    "\n",
    "predicao_rl4 = pd.DataFrame(predicao_rl4)\n",
    "predicao_rl4.index = X_test4.index\n",
    "\n",
    "predictions_rl4['Predição Regressão Linear'] = predicao_rl4"
   ]
  },
  {
   "cell_type": "code",
   "execution_count": null,
   "metadata": {},
   "outputs": [],
   "source": [
    "fig35 = go.Figure()\n",
    "\n",
    "# Configurando o grafico de linhas\n",
    "fig35.add_trace(go.Scatter(x = predictions_rl4.index, y = predictions_rl4['Compensada'], mode = 'lines + markers', name = 'Compensada', marker_color = '#266B6E'))\n",
    "fig35.add_trace(go.Scatter(x = predictions_rl4.index, y = predictions_rl4['Predição Regressão Linear'], mode = 'lines + markers', name = 'Predição Regressão Linear', marker_color = '#FF007D'))\n",
    "\n",
    "# Configurando o titulo do grafico\n",
    "fig35.update_layout(title_text = f'Energia Compensada - 4',\n",
    "                  title_font_size = 30,\n",
    "                  title_x = 0.5)\n",
    "\n",
    "# Configurando o titulo dos eixos\n",
    "fig35.update_layout(xaxis_title_font_size = 18,\n",
    "                  yaxis_title = 'Quantidade de Energia',\n",
    "                  yaxis_title_font_size = 18,\n",
    "                  showlegend = True,\n",
    "                  legend_title = 'Legenda')\n",
    "\n",
    "# Exibindo as grades de fundo\n",
    "fig35.update_xaxes(showgrid = True)\n",
    "\n",
    "# Plotando o grafico\n",
    "fig35.show()"
   ]
  },
  {
   "cell_type": "code",
   "execution_count": null,
   "metadata": {},
   "outputs": [],
   "source": [
    "erros_rl4 = pd.DataFrame({'Métricas avaliadas': ['MAE', 'MAPE', 'WMAPE', 'MSE', 'RMSE'],\n",
    "                          'Valores obtidos': [round(mean_absolute_error(y_test4, predicao_rl4), 2),\n",
    "                                              round(mean_absolute_percentage_error(y_test4, predicao_rl4) * 100, 2),\n",
    "                                              round(mean_absolute_percentage_error(y_test4, predicao_rl4, sample_weight = y_test4) * 100, 2),\n",
    "                                              round(mean_squared_error(y_test4, predicao_rl4, squared = True), 2),\n",
    "                                              round(mean_squared_error(y_test4, predicao_rl4, squared = False), 2)]},\n",
    "                        index = range(0, 5))\n",
    "\n",
    "erros_rl4"
   ]
  },
  {
   "cell_type": "markdown",
   "metadata": {},
   "source": [
    "### <b>3. Resultados</b> <a class = \"anchor\" id = \"chapter_3\"></a>"
   ]
  },
  {
   "cell_type": "markdown",
   "metadata": {},
   "source": [
    "# <b>3.1. Usina 1</b> <a class = \"anchor\" id = \"chapter_3_1\"></a>"
   ]
  },
  {
   "cell_type": "code",
   "execution_count": null,
   "metadata": {},
   "outputs": [],
   "source": [
    "## Criando data frame com oas predicoes de todos os modelos\n",
    "\n",
    "predicoes1 = pd.DataFrame(y_test1, columns=['Compensada'])\n",
    "predicoes1.index = X_test1.index\n",
    "\n",
    "predicao_xgb1 = pd.DataFrame(predicao_xgb1.round(2))\n",
    "predicao_xgb1.index = X_test1.index\n",
    "predicao_xgb_formatted1 = predicao_xgb1.applymap(lambda x: round(x, 2))\n",
    "\n",
    "predicao_mlp1 = pd.DataFrame(predicao_nnet1.round(2))\n",
    "predicao_mlp1.index = X_test1.index\n",
    "\n",
    "predicao_rf1 = pd.DataFrame(predicao_rf1.round(2))\n",
    "predicao_rf1.index = X_test1.index\n",
    "\n",
    "predicao_rl1 = pd.DataFrame(predicao_rl1.round(2))\n",
    "predicao_rl1.index = X_test1.index\n",
    "\n",
    "\n",
    "predicao_holtwinters1 = pd.DataFrame(predictions_holtwinters1.round(2))\n",
    "predicao_lstm1 = y_pred_df_lstm1['Compensada_predito'].apply(lambda x: round(x, 2))\n",
    "predicao_sarimax1 = pd.DataFrame(predictions_sarimax1.round(2))\n",
    "predicao_tensorflow1 = pd.DataFrame(predictions_tensorflow1.round(2))\n",
    "\n",
    "predicoes1['Predição XGB'] = predicao_xgb_formatted1\n",
    "predicoes1['Predição MLP'] = predicao_mlp1\n",
    "predicoes1['Predição Random Forest'] = predicao_rf1\n",
    "predicoes1['Predição Regressão Linear'] = predicao_rl1\n",
    "predicoes1['Predição LSTM'] = predicao_lstm1\n",
    "predicoes1['Predição Holt-Winters'] = predicao_holtwinters1\n",
    "predicoes1['Predição SARIMAX'] = predicao_sarimax1\n",
    "predicoes1['Predição TensorFlow'] = predicao_tensorflow1\n",
    "\n",
    "predicoes1"
   ]
  },
  {
   "cell_type": "code",
   "execution_count": null,
   "metadata": {},
   "outputs": [],
   "source": [
    "# Criando dataframe com os valores de erros de todos os modelos\n",
    "\n",
    "erros1 = pd.DataFrame({\n",
    "    'LSTM': erros_lstm1['Valores obtidos'],\n",
    "    'Holt-Winters': erros_hw1['Valores obtidos'],\n",
    "    'SARIMAX': erros_sm1['Valores obtidos'],\n",
    "    'TensorFlow': erros_tf1['Valores obtidos'],\n",
    "    'XGBoost': erros_xgb1['Valores obtidos'],\n",
    "    'MLP': erros_mlp1['Valores obtidos'],\n",
    "    'Random Forest': erros_rf1['Valores obtidos'],\n",
    "    'Regressão Linear': erros_rl1['Valores obtidos'],\n",
    "})\n",
    "\n",
    "# Definindo a coluna 'Metricas avaliadas' como índice\n",
    "erros1.set_index(erros_tf1['Métricas avaliadas'], inplace=True)\n",
    "\n",
    "erros1"
   ]
  },
  {
   "cell_type": "code",
   "execution_count": null,
   "metadata": {},
   "outputs": [],
   "source": [
    "fig36 = go.Figure()\n",
    "\n",
    "# Configurando o grafico de linhas\n",
    "fig36.add_trace(go.Scatter(x = predicoes1.index, y = predicoes1['Compensada'], mode = 'lines + markers', name = 'Compensada', marker_color = '#266B6E'))\n",
    "fig36.add_trace(go.Scatter(x = predicoes1.index, y = predicoes1['Predição SARIMAX'], mode = 'lines + markers', name = 'Predição Sarimax', marker_color = '#FF007D'))\n",
    "fig36.add_trace(go.Scatter(x = predicoes1.index, y = predicoes1['Predição Holt-Winters'], mode = 'lines + markers', name = 'Predição Holt-Winters'))\n",
    "fig36.add_trace(go.Scatter(x = predicoes1.index, y = predicoes1['Predição LSTM'], mode = 'lines + markers', name = 'Predição LSTM'))\n",
    "fig36.add_trace(go.Scatter(x = predicoes1.index, y = predicoes1['Predição TensorFlow'], mode = 'lines + markers', name = 'Predição Tensorflow'))\n",
    "\n",
    "fig36.add_trace(go.Scatter(x = predicoes1.index, y = predicoes1['Predição XGB'], mode = 'lines + markers', name = 'Predição XGBoost'))\n",
    "fig36.add_trace(go.Scatter(x = predicoes1.index, y = predicoes1['Predição MLP'], mode = 'lines + markers', name = 'Predição MLP'))\n",
    "fig36.add_trace(go.Scatter(x = predicoes1.index, y = predicoes1['Predição Random Forest'], mode = 'lines + markers', name = 'Predição Random Forest'))\n",
    "fig36.add_trace(go.Scatter(x = predicoes1.index, y = predicoes1['Predição Regressão Linear'], mode = 'lines + markers', name = 'Predição Regressão Linear'))\n",
    "\n",
    "\n",
    "# Configurando o titulo do grafico\n",
    "fig36.update_layout(title_text = f'Energia Compensada - 1',\n",
    "                  title_font_size = 30,\n",
    "                  title_x = 0.5)\n",
    "\n",
    "# Configurando o titulo dos eixos\n",
    "fig36.update_layout(xaxis_title_font_size = 18,\n",
    "                  yaxis_title = 'Quantidade de Energia',\n",
    "                  yaxis_title_font_size = 18,\n",
    "                  showlegend = True,\n",
    "                  legend_title = 'Legenda')\n",
    "\n",
    "# Exibindo as grades de fundo\n",
    "fig36.update_xaxes(showgrid = True)\n",
    "\n",
    "# Plotando o grafico\n",
    "fig36.show()"
   ]
  },
  {
   "cell_type": "markdown",
   "metadata": {},
   "source": [
    "### <b>3.2. Usina  2 </b> <a class = \"anchor\" id = \"chapter_3_2\"></a>"
   ]
  },
  {
   "cell_type": "code",
   "execution_count": null,
   "metadata": {},
   "outputs": [],
   "source": [
    "## Criando data frame com oas predicoes de todos os modelos\n",
    "\n",
    "predicoes2 = pd.DataFrame(y_test2, columns=['Compensada'])\n",
    "predicoes2.index = X_test2.index\n",
    "\n",
    "predicao_xgb2 = pd.DataFrame(predicao_xgb2.round(2))\n",
    "predicao_xgb2.index = X_test2.index\n",
    "predicao_xgb_formatted2 = predicao_xgb2.applymap(lambda x: round(x, 2))\n",
    "\n",
    "predicao_mlp2 = pd.DataFrame(predicao_nnet2.round(2))\n",
    "predicao_mlp2.index = X_test2.index\n",
    "\n",
    "predicao_rf2 = pd.DataFrame(predicao_rf2.round(2))\n",
    "predicao_rf2.index = X_test2.index\n",
    "\n",
    "predicao_rl2 = pd.DataFrame(predicao_rl2.round(2))\n",
    "predicao_rl2.index = X_test2.index\n",
    "\n",
    "\n",
    "predicao_holtwinters2 = pd.DataFrame(predictions_holtwinters2.round(2))\n",
    "predicao_lstm2 = y_pred_df_lstm2['Compensada_predito'].apply(lambda x: round(x, 2))\n",
    "predicao_sarimax2 = pd.DataFrame(predictions_sarimax2.round(2))\n",
    "predicao_tensorflow2 = pd.DataFrame(predictions_tensorflow2.round(2))\n",
    "\n",
    "predicoes2['Predição XGB'] = predicao_xgb_formatted2\n",
    "predicoes2['Predição MLP'] = predicao_mlp2\n",
    "predicoes2['Predição Random Forest'] = predicao_rf2\n",
    "predicoes2['Predição Regressão Linear'] = predicao_rl2\n",
    "predicoes2['Predição LSTM'] = predicao_lstm2\n",
    "predicoes2['Predição Holt-Winters'] = predicao_holtwinters2\n",
    "predicoes2['Predição SARIMAX'] = predicao_sarimax2\n",
    "predicoes2['Predição TensorFlow'] = predicao_tensorflow2\n",
    "\n",
    "predicoes2"
   ]
  },
  {
   "cell_type": "code",
   "execution_count": null,
   "metadata": {},
   "outputs": [],
   "source": [
    "# Criando dataframe com os valores de erros de todos os modelos\n",
    "\n",
    "erros2 = pd.DataFrame({\n",
    "    'LSTM': erros_lstm2['Valores obtidos'],\n",
    "    'Holt-Winters': erros_hw2['Valores obtidos'],\n",
    "    'SARIMAX': erros_sm2['Valores obtidos'],\n",
    "    'TensorFlow': erros_tf2['Valores obtidos'],\n",
    "    'XGBoost': erros_xgb2['Valores obtidos'],\n",
    "    'MLP': erros_mlp2['Valores obtidos'],\n",
    "    'Random Forest': erros_rf2['Valores obtidos'],\n",
    "    'Regressão Linear': erros_rl2['Valores obtidos'],\n",
    "})\n",
    "\n",
    "# Definindo a coluna 'Metricas avaliadas' como índice\n",
    "erros2.set_index(erros_tf2['Métricas avaliadas'], inplace=True)\n",
    "\n",
    "erros2"
   ]
  },
  {
   "cell_type": "code",
   "execution_count": null,
   "metadata": {},
   "outputs": [],
   "source": [
    "fig37 = go.Figure()\n",
    "\n",
    "# Configurando o grafico de linhas\n",
    "fig37.add_trace(go.Scatter(x = predicoes2.index, y = predicoes2['Compensada'], mode = 'lines + markers', name = 'Compensada', marker_color = '#266B6E'))\n",
    "fig37.add_trace(go.Scatter(x = predicoes2.index, y = predicoes2['Predição SARIMAX'], mode = 'lines + markers', name = 'Predição Sarimax', marker_color = '#FF007D'))\n",
    "fig37.add_trace(go.Scatter(x = predicoes2.index, y = predicoes2['Predição Holt-Winters'], mode = 'lines + markers', name = 'Predição Holt-Winters'))\n",
    "fig37.add_trace(go.Scatter(x = predicoes2.index, y = predicoes2['Predição LSTM'], mode = 'lines + markers', name = 'Predição LSTM'))\n",
    "fig37.add_trace(go.Scatter(x = predicoes2.index, y = predicoes2['Predição TensorFlow'], mode = 'lines + markers', name = 'Predição Tensorflow'))\n",
    "\n",
    "fig37.add_trace(go.Scatter(x = predicoes2.index, y = predicoes2['Predição XGB'], mode = 'lines + markers', name = 'Predição XGBoost'))\n",
    "fig37.add_trace(go.Scatter(x = predicoes2.index, y = predicoes2['Predição MLP'], mode = 'lines + markers', name = 'Predição MLP'))\n",
    "fig37.add_trace(go.Scatter(x = predicoes2.index, y = predicoes2['Predição Random Forest'], mode = 'lines + markers', name = 'Predição Random Forest'))\n",
    "fig37.add_trace(go.Scatter(x = predicoes2.index, y = predicoes2['Predição Regressão Linear'], mode = 'lines + markers', name = 'Predição Regressão Linear'))\n",
    "\n",
    "\n",
    "# Configurando o titulo do grafico\n",
    "fig37.update_layout(title_text = f'Energia Compensada -  2',\n",
    "                  title_font_size = 30,\n",
    "                  title_x = 0.5)\n",
    "\n",
    "# Configurando o titulo dos eixos\n",
    "fig37.update_layout(xaxis_title_font_size = 18,\n",
    "                  yaxis_title = 'Quantidade de Energia',\n",
    "                  yaxis_title_font_size = 18,\n",
    "                  showlegend = True,\n",
    "                  legend_title = 'Legenda')\n",
    "\n",
    "# Exibindo as grades de fundo\n",
    "fig37.update_xaxes(showgrid = True)\n",
    "\n",
    "# Plotando o gráfico\n",
    "fig37.show()"
   ]
  },
  {
   "cell_type": "markdown",
   "metadata": {},
   "source": [
    "### <b>3.3. Usina 3 </b> <a class = \"anchor\" id = \"chapter_3_3\"></a>"
   ]
  },
  {
   "cell_type": "code",
   "execution_count": null,
   "metadata": {},
   "outputs": [],
   "source": [
    "## Criando data frame com oas predicoes de todos os modelos\n",
    "\n",
    "predicoes3 = pd.DataFrame(y_test3, columns=['Compensada'])\n",
    "predicoes3.index = X_test3.index\n",
    "\n",
    "predicao_xgb3 = pd.DataFrame(predicao_xgb3.round(2))\n",
    "predicao_xgb3.index = X_test3.index\n",
    "predicao_xgb_formatted3 = predicao_xgb3.applymap(lambda x: round(x, 2))\n",
    "\n",
    "predicao_mlp3 = pd.DataFrame(predicao_nnet3.round(2))\n",
    "predicao_mlp3.index = X_test3.index\n",
    "\n",
    "predicao_rf3 = pd.DataFrame(predicao_rf3.round(2))\n",
    "predicao_rf3.index = X_test3.index\n",
    "\n",
    "predicao_rl3 = pd.DataFrame(predicao_rl3.round(2))\n",
    "predicao_rl3.index = X_test3.index\n",
    "\n",
    "\n",
    "predicao_holtwinters3 = pd.DataFrame(predictions_holtwinters3.round(2))\n",
    "predicao_lstm3 = y_pred_df_lstm3['Compensada_predito'].apply(lambda x: round(x, 2))\n",
    "predicao_sarimax3 = pd.DataFrame(predictions_sarimax3.round(2))\n",
    "predicao_tensorflow3 = pd.DataFrame(predictions_tensorflow3.round(2))\n",
    "\n",
    "predicoes3['Predição XGB'] = predicao_xgb_formatted3\n",
    "predicoes3['Predição MLP'] = predicao_mlp3\n",
    "predicoes3['Predição Random Forest'] = predicao_rf3\n",
    "predicoes3['Predição Regressão Linear'] = predicao_rl3\n",
    "predicoes3['Predição LSTM'] = predicao_lstm3\n",
    "predicoes3['Predição Holt-Winters'] = predicao_holtwinters3\n",
    "predicoes3['Predição SARIMAX'] = predicao_sarimax3\n",
    "predicoes3['Predição TensorFlow'] = predicao_tensorflow3\n",
    "\n",
    "predicoes3"
   ]
  },
  {
   "cell_type": "code",
   "execution_count": null,
   "metadata": {},
   "outputs": [],
   "source": [
    "# Criando dataframe com os valores de erros de todos os modelos\n",
    "\n",
    "erros3 = pd.DataFrame({\n",
    "    'LSTM': erros_lstm3['Valores obtidos'],\n",
    "    'Holt-Winters': erros_hw3['Valores obtidos'],\n",
    "    'SARIMAX': erros_sm3['Valores obtidos'],\n",
    "    'TensorFlow': erros_tf3['Valores obtidos'],\n",
    "    'XGBoost': erros_xgb3['Valores obtidos'],\n",
    "    'MLP': erros_mlp3['Valores obtidos'],\n",
    "    'Random Forest': erros_rf3['Valores obtidos'],\n",
    "    'Regressão Linear': erros_rl3['Valores obtidos'],\n",
    "})\n",
    "\n",
    "# Definindo a coluna 'Metricas avaliadas' como índice\n",
    "erros3.set_index(erros_tf3['Métricas avaliadas'], inplace=True)\n",
    "\n",
    "erros3"
   ]
  },
  {
   "cell_type": "code",
   "execution_count": null,
   "metadata": {},
   "outputs": [],
   "source": [
    "fig38 = go.Figure()\n",
    "\n",
    "# Configurando o grafico de linhas\n",
    "fig38.add_trace(go.Scatter(x = predicoes3.index, y = predicoes3['Compensada'], mode = 'lines + markers', name = 'Compensada', marker_color = '#266B6E'))\n",
    "fig38.add_trace(go.Scatter(x = predicoes3.index, y = predicoes3['Predição SARIMAX'], mode = 'lines + markers', name = 'Predição Sarimax', marker_color = '#FF007D'))\n",
    "fig38.add_trace(go.Scatter(x = predicoes3.index, y = predicoes3['Predição Holt-Winters'], mode = 'lines + markers', name = 'Predição Holt-Winters'))\n",
    "fig38.add_trace(go.Scatter(x = predicoes3.index, y = predicoes3['Predição LSTM'], mode = 'lines + markers', name = 'Predição LSTM'))\n",
    "fig38.add_trace(go.Scatter(x = predicoes3.index, y = predicoes3['Predição TensorFlow'], mode = 'lines + markers', name = 'Predição Tensorflow'))\n",
    "\n",
    "fig38.add_trace(go.Scatter(x = predicoes3.index, y = predicoes3['Predição XGB'], mode = 'lines + markers', name = 'Predição XGBoost'))\n",
    "fig38.add_trace(go.Scatter(x = predicoes3.index, y = predicoes3['Predição MLP'], mode = 'lines + markers', name = 'Predição MLP'))\n",
    "fig38.add_trace(go.Scatter(x = predicoes3.index, y = predicoes3['Predição Random Forest'], mode = 'lines + markers', name = 'Predição Random Forest'))\n",
    "fig38.add_trace(go.Scatter(x = predicoes3.index, y = predicoes3['Predição Regressão Linear'], mode = 'lines + markers', name = 'Predição Regressão Linear'))\n",
    "\n",
    "\n",
    "# Configurando o titulo do grafico\n",
    "fig38.update_layout(title_text = f'Energia Compensada - 3',\n",
    "                  title_font_size = 30,\n",
    "                  title_x = 0.5)\n",
    "\n",
    "# Configurando o titulo dos eixos\n",
    "fig38.update_layout(xaxis_title_font_size = 18,\n",
    "                  yaxis_title = 'Quantidade de Energia',\n",
    "                  yaxis_title_font_size = 18,\n",
    "                  showlegend = True,\n",
    "                  legend_title = 'Legenda')\n",
    "\n",
    "# Exibindo as grades de fundo\n",
    "fig38.update_xaxes(showgrid = True)\n",
    "\n",
    "# Plotando o grafico\n",
    "fig38.show()"
   ]
  },
  {
   "cell_type": "markdown",
   "metadata": {},
   "source": [
    "### <b>3.4. Usina 4 </b> <a class = \"anchor\" id = \"chapter_3_4\"></a>"
   ]
  },
  {
   "cell_type": "code",
   "execution_count": null,
   "metadata": {},
   "outputs": [],
   "source": [
    "## Criando data frame com oas predicoes de todos os modelos\n",
    "\n",
    "predicoes4 = pd.DataFrame(y_test4, columns=['Compensada'])\n",
    "predicoes4.index = X_test4.index\n",
    "\n",
    "predicao_xgb4 = pd.DataFrame(predicao_xgb4.round(2))\n",
    "predicao_xgb4.index = X_test4.index\n",
    "predicao_xgb_formatted4 = predicao_xgb4.applymap(lambda x: round(x, 2))\n",
    "\n",
    "predicao_mlp4 = pd.DataFrame(predicao_nnet4.round(2))\n",
    "predicao_mlp4.index = X_test4.index\n",
    "\n",
    "predicao_rf4 = pd.DataFrame(predicao_rf4.round(2))\n",
    "predicao_rf4.index = X_test4.index\n",
    "\n",
    "predicao_rl4 = pd.DataFrame(predicao_rl4.round(2))\n",
    "predicao_rl4.index = X_test4.index\n",
    "\n",
    "\n",
    "predicao_holtwinters4 = pd.DataFrame(predictions_holtwinters4.round(2))\n",
    "predicao_lstm4 = y_pred_df_lstm4['Compensada_predito'].apply(lambda x: round(x, 2))\n",
    "predicao_sarimax4 = pd.DataFrame(predictions_sarimax4.round(2))\n",
    "predicao_tensorflow4 = pd.DataFrame(predictions_tensorflow4.round(2))\n",
    "\n",
    "predicoes4['Predição XGB'] = predicao_xgb_formatted4\n",
    "predicoes4['Predição MLP'] = predicao_mlp4\n",
    "predicoes4['Predição Random Forest'] = predicao_rf4\n",
    "predicoes4['Predição Regressão Linear'] = predicao_rl4\n",
    "predicoes4['Predição LSTM'] = predicao_lstm4\n",
    "predicoes4['Predição Holt-Winters'] = predicao_holtwinters4\n",
    "predicoes4['Predição SARIMAX'] = predicao_sarimax4\n",
    "predicoes4['Predição TensorFlow'] = predicao_tensorflow4\n",
    "\n",
    "predicoes4"
   ]
  },
  {
   "cell_type": "code",
   "execution_count": null,
   "metadata": {},
   "outputs": [],
   "source": [
    "# Criando dataframe com os valores de erros de todos os modelos\n",
    "\n",
    "erros4 = pd.DataFrame({\n",
    "    'LSTM': erros_lstm4['Valores obtidos'],\n",
    "    'Holt-Winters': erros_hw4['Valores obtidos'],\n",
    "    'SARIMAX': erros_sm4['Valores obtidos'],\n",
    "    'TensorFlow': erros_tf4['Valores obtidos'],\n",
    "    'XGBoost': erros_xgb4['Valores obtidos'],\n",
    "    'MLP': erros_mlp4['Valores obtidos'],\n",
    "    'Random Forest': erros_rf4['Valores obtidos'],\n",
    "    'Regressão Linear': erros_rl4['Valores obtidos'],\n",
    "})\n",
    "\n",
    "# Definindo a coluna 'Metricas avaliadas' como índice\n",
    "erros4.set_index(erros_tf4['Métricas avaliadas'], inplace=True)\n",
    "\n",
    "erros4"
   ]
  },
  {
   "cell_type": "code",
   "execution_count": null,
   "metadata": {},
   "outputs": [],
   "source": [
    "fig39 = go.Figure()\n",
    "\n",
    "# Configurando o grafico de linhas\n",
    "fig39.add_trace(go.Scatter(x = predicoes4.index, y = predicoes4['Compensada'], mode = 'lines + markers', name = 'Compensada', marker_color = '#266B6E'))\n",
    "fig39.add_trace(go.Scatter(x = predicoes4.index, y = predicoes4['Predição SARIMAX'], mode = 'lines + markers', name = 'Predição Sarimax', marker_color = '#FF007D'))\n",
    "fig39.add_trace(go.Scatter(x = predicoes4.index, y = predicoes4['Predição Holt-Winters'], mode = 'lines + markers', name = 'Predição Holt-Winters'))\n",
    "fig39.add_trace(go.Scatter(x = predicoes4.index, y = predicoes4['Predição LSTM'], mode = 'lines + markers', name = 'Predição LSTM'))\n",
    "fig39.add_trace(go.Scatter(x = predicoes4.index, y = predicoes4['Predição TensorFlow'], mode = 'lines + markers', name = 'Predição Tensorflow'))\n",
    "\n",
    "fig39.add_trace(go.Scatter(x = predicoes4.index, y = predicoes4['Predição XGB'], mode = 'lines + markers', name = 'Predição XGBoost'))\n",
    "fig39.add_trace(go.Scatter(x = predicoes4.index, y = predicoes4['Predição MLP'], mode = 'lines + markers', name = 'Predição MLP'))\n",
    "fig39.add_trace(go.Scatter(x = predicoes4.index, y = predicoes4['Predição Random Forest'], mode = 'lines + markers', name = 'Predição Random Forest'))\n",
    "fig39.add_trace(go.Scatter(x = predicoes4.index, y = predicoes4['Predição Regressão Linear'], mode = 'lines + markers', name = 'Predição Regressão Linear'))\n",
    "\n",
    "\n",
    "# Configurando o titulo do grafico\n",
    "fig39.update_layout(title_text = f'Energia Compensada - 4',\n",
    "                  title_font_size = 30,\n",
    "                  title_x = 0.5)\n",
    "\n",
    "# Configurando o titulo dos eixos\n",
    "fig39.update_layout(xaxis_title_font_size = 18,\n",
    "                  yaxis_title = 'Quantidade de Energia',\n",
    "                  yaxis_title_font_size = 18,\n",
    "                  showlegend = True,\n",
    "                  legend_title = 'Legenda')\n",
    "\n",
    "# Exibindo as grades de fundo\n",
    "fig39.update_xaxes(showgrid = True)\n",
    "\n",
    "# Plotando o grafico\n",
    "fig39.show()"
   ]
  }
 ],
 "metadata": {
  "kernelspec": {
   "display_name": "Python 3 (ipykernel)",
   "language": "python",
   "name": "python3"
  },
  "language_info": {
   "codemirror_mode": {
    "name": "ipython",
    "version": 3
   },
   "file_extension": ".py",
   "mimetype": "text/x-python",
   "name": "python",
   "nbconvert_exporter": "python",
   "pygments_lexer": "ipython3",
   "version": "3.10.12"
  }
 },
 "nbformat": 4,
 "nbformat_minor": 2
}
